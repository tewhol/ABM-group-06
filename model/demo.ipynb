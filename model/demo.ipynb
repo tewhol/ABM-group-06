{
 "cells": [
  {
   "attachments": {},
   "cell_type": "markdown",
   "metadata": {},
   "source": [
    "# Flood Adaptation: Minimal Model"
   ]
  },
  {
   "attachments": {},
   "cell_type": "markdown",
   "metadata": {},
   "source": [
    "This python script outlines a basic Agent-Based Model (ABM) developed using the Mesa framework, designed as a simplified representation of household adaptation to flood events in a social network context. The model serves as a template for understanding the fundamental mechanics of flood adapdtation with a given social network.\n",
    "\n",
    "This directory is structured as follows:\n",
    " - A Mesa Agent class `Households` is defined in `agents.py`\n",
    " - A Mesa Agent class `Government` is defined in `agents.py` (this agent currently does not perform any action)\n",
    " - A Mesa Model class `AdaptationModel` is defined in `model.py`\n",
    " - This notebook `demo.ipynb` provides a demonstration of the model and its visualization.\n",
    "\n",
    "Each household agent in the model represents a household with attributes and behaviors that determine its response to flood events. The flood depth attribute assigned to each household is currently random for demonstration purposes. The decision by each household to adapt is also arbitrary. In a more comprehensive model, this could be replaced with more sophisticated decision-making algorithms.\n",
    "\n",
    "The current implementation includes several simplifications and arbitrary choices, such as random flood depths and basic adaptation logic based on random thresholds. These aspects are designed for clarity and ease of understanding and should be replaced with realistic and sound choices.\n",
    "\n",
    "You are encouraged to modify, expand, and customize the model. This might include integrating real-world data, implementing more complex decision-making processes for agents, or exploring different network topologies and their effects on social dynamics.\n",
    "\n",
    "The visualisation provided is basic. Additional aspects can be added for visualization and more in-depth analysis.\n",
    "\n",
    "_This notebook was tested on 2023-11-13 with Mesa version 2.1.4 on Python 3.12.0._"
   ]
  },
  {
   "attachments": {},
   "cell_type": "markdown",
   "metadata": {},
   "source": [
    "# Running the model and visualizing the model domain and social network over time"
   ]
  },
  {
   "cell_type": "code",
   "execution_count": 10,
   "metadata": {
    "ExecuteTime": {
     "end_time": "2024-01-19T17:18:33.874507900Z",
     "start_time": "2024-01-19T17:18:33.817844600Z"
    }
   },
   "outputs": [
    {
     "name": "stdout",
     "output_type": "stream",
     "text": [
      "step: 0 : 30 adapted with a bias of 0 and a estimated damage of 0.7313766940054196!\n",
      "step: 0 : 23 adapted with a bias of 0 and a estimated damage of 0.7473127219463287!\n",
      "step: 0 : 33 adapted with a bias of 0 and a estimated damage of 0.77949099536445!\n",
      "step: 0 : 14 adapted with a bias of 0 and a estimated damage of 0.7418096388813694!\n",
      "step: 0 : 15 adapted with a bias of 0 and a estimated damage of 1!\n",
      "step: 0 : 10 adapted with a bias of 0 and a estimated damage of 0.9476436045776835!\n",
      "step: 0 : 21 adapted with a bias of 0 and a estimated damage of 0.8138908683677233!\n",
      "step: 0 : 12 adapted with a bias of 0 and a estimated damage of 0.7860425046105466!\n",
      "step: 0 : 37 adapted with a bias of 0 and a estimated damage of 0.9223563434150734!\n",
      "step: 0 : 24 adapted with a bias of 0 and a estimated damage of 0.8070918055952875!\n",
      "step: 0 : 42 adapted with a bias of 0 and a estimated damage of 0.7162861202616235!\n",
      "step: 0 : 4 adapted with a bias of 0 and a estimated damage of 0.850353668827414!\n",
      "step: 0 : 18 adapted with a bias of 0 and a estimated damage of 0.7652494184507328!\n",
      "step: 1 : 43 adapted with a bias of 0.2 and a estimated damage of 0.5503127874909995!\n",
      "step: 1 : 0 adapted with a bias of 0.2 and a estimated damage of 0.545725723870704!\n",
      "step: 3 : 13 adapted with a bias of 0.2 and a estimated damage of 0.5216327710834416!\n",
      "step: 5 : 16 adapted with a bias of 0.4 and a estimated damage of 0.4801333207670094!\n",
      "step: 10 : 44 adapted with a bias of 0.8 and a estimated damage of 0!\n",
      "step: 11 : 32 adapted with a bias of 0.8 and a estimated damage of 0!\n"
     ]
    }
   ],
   "source": [
    "import random\n",
    "\n",
    "from model import AdaptationModel\n",
    "import matplotlib.pyplot as plt\n",
    "import networkx as nx\n",
    "\n",
    "# Determine the input values for your network and dynamic parameters and how they should be distributed throughout the population.\n",
    "network_dynamics_dictionary = {\n",
    "                # The social network structure that is used. Can currently be\n",
    "                # \"erdos_renyi\", \"barabasi_albert\", \"watts_strogatz\", or \"no_network\"\n",
    "                \"network\": 'watts_strogatz',\n",
    "                \"number_of_households\": 50,  # number of household agents\n",
    "                \"probability_of_network_connection\": 0.4,  # likeliness of edge being created between two nodes\n",
    "                \"number_of_edges\": 3,  # number of edges for BA network\n",
    "                \"number_of_nearest_neighbours\": 5,  # number of nearest neighbours for WS social network\n",
    "                \"household_tolerance\": 0.1,  # the tolerance level for each agent,\n",
    "                \"flood_time_tick\": 5,  # time of flood\n",
    "                \"seed\": 1  # The seed used to generate pseudo random numbers\n",
    "            }\n",
    "\n",
    "# Determine the input values for your agent's attributes and how they should be distributed throughout the population.\n",
    "attribute_dictionary = {\n",
    "                \"wealth\": [0.2, 'UI', (0, 3)],\n",
    "                \"has_child\": [0.2, 'B', (0.2)],\n",
    "                \"house_size\": [0.05, 'UI', (0, 2)],\n",
    "                \"house_type\": [0.05, 'UI', (0, 1)],\n",
    "                \"education_level\": [0.05, 'UI', (0, 3)],\n",
    "                \"social_preference\": [0.2, 'U', (-1, 1)],\n",
    "                \"age\": [0.2, 'N', (33.4, 5)]\n",
    "            }\n",
    "\n",
    "# Initialize the Adaptation Model with 50 household agents.\n",
    "model = AdaptationModel(network_dynamics_dictionary=network_dynamics_dictionary, attribute_dictionary=attribute_dictionary)\n",
    "# flood_map_choice can be \"harvey\", \"100yr\", or \"500yr\"\n",
    "\n",
    "# Calculate positions of nodes for the network plot.\n",
    "# The spring_layout function positions nodes using a force-directed algorithm,\n",
    "# which helps visualize the structure of the social network.\n",
    "pos = nx.spring_layout(model.G)\n",
    "\n",
    "# Define a function to plot agents on the network.\n",
    "# This function takes a matplotlib axes object and the model as inputs.\n",
    "# def plot_network(ax, model):\n",
    "#     # Clear the current axes.\n",
    "#     ax.clear()\n",
    "#     # Determine the color of each node (agent) based on their adaptation status.\n",
    "#     colors = ['blue' if agent.is_adapted else 'red' for agent in model.schedule.agents]\n",
    "#     # Draw the network with node colors and labels.\n",
    "#     nx.draw(model.G, pos, node_color=colors, with_labels=True, ax=ax)\n",
    "#     # Set the title of the plot with the current step number.\n",
    "#     ax.set_title(f\"Social Network State at Step {model.schedule.steps}\", fontsize=12)\n",
    "\n",
    "# Generate the initial plots at step 0.\n",
    "# Plot the spatial distribution of agents. This is a function written in the model.py\n",
    "# model.plot_model_domain_with_agents()\n",
    "\n",
    "# Plot the initial state of the social network.\n",
    "# fig, ax = plt.subplots(figsize=(7, 7))\n",
    "# plot_network(ax, model)\n",
    "# plt.show()\n",
    "\n",
    "# Run the model for 20 steps and generate plots every 5 steps.\n",
    "for step in range(20):\n",
    "    model.step()\n",
    "# \n",
    "#     # Every 5 steps, generate and display plots for both the spatial distribution and network.\n",
    "#     # Note the first step is step 0, so the plots will be generated at steps 4, 9, 14, and 19, which are the 5th, 10th, 15th, and 20th steps.\n",
    "#     if (step + 1) % 10 == 0:\n",
    "#         # Plot for the spatial map showing agent locations and adaptation status.\n",
    "#         plt.figure(figsize=(10, 6))\n",
    "#         model.plot_model_domain_with_agents()\n",
    "# \n",
    "#         # Plot for the social network showing connections and adaptation statuses.\n",
    "#         fig, ax = plt.subplots(figsize=(7, 7))\n",
    "#         plot_network(ax, model)\n",
    "#         plt.show()"
   ]
  },
  {
   "cell_type": "code",
   "execution_count": 11,
   "metadata": {
    "ExecuteTime": {
     "end_time": "2024-01-19T17:18:51.876862500Z",
     "start_time": "2024-01-19T17:18:51.855522500Z"
    }
   },
   "outputs": [
    {
     "data": {
      "text/plain": "              FloodDepthEstimated  FloodDamageEstimated  FloodDepthActual  \\\nStep AgentID                                                                \n0    0                   0.555725              0.545726          0.000000   \n     1                   0.611828              0.562518          0.000000   \n     2                   0.572072              0.550788          0.000000   \n     3                   0.000000              0.000000          0.000000   \n     4                   3.181133              0.850354          0.000000   \n...                           ...                   ...               ...   \n19   45                  0.576401              0.552104          0.505760   \n     46                  0.571430              0.550592          0.678076   \n     47                  0.000000              0.000000          0.000000   \n     48                  0.000000              0.000000          0.000000   \n     49                  1.136429              0.670630          0.700431   \n\n              FloodDamageActual  IsAdapted  Conviction  FriendsCount  \\\nStep AgentID                                                           \n0    0                 0.000000      False    0.667755             3   \n     1                 0.000000      False    0.395607             6   \n     2                 0.000000      False    0.396020             2   \n     3                 0.000000      False    0.455913             4   \n     4                 0.000000      False    0.763670             6   \n...                         ...        ...         ...           ...   \n19   45                0.529276      False    0.321441             4   \n     46                0.580469      False    0.676331             3   \n     47                0.000000      False    0.115284             3   \n     48                0.000000      False    0.993341             4   \n     49                0.586132      False    0.151563             5   \n\n                                                   location  HasChild  \nStep AgentID                                                           \n0    0         POINT (298614.1944865978 3310599.0200288864)     False  \n     1         POINT (241554.34989612424 3343041.557522431)     False  \n     2         POINT (290190.08697224245 3272638.928344043)     False  \n     3         POINT (248188.18019600955 3341436.566404584)     False  \n     4         POINT (249971.84171449137 3295141.124089687)     False  \n...                                                     ...       ...  \n19   45       POINT (283047.25396056083 3294699.4195651594)     False  \n     46        POINT (222172.62198017587 3302021.866360533)     False  \n     47        POINT (248727.0892711652 3341266.4060826316)     False  \n     48        POINT (230413.99617618602 3327240.086343202)      True  \n     49        POINT (246292.0075640458 3306506.0934847193)     False  \n\n[1000 rows x 9 columns]",
      "text/html": "<div>\n<style scoped>\n    .dataframe tbody tr th:only-of-type {\n        vertical-align: middle;\n    }\n\n    .dataframe tbody tr th {\n        vertical-align: top;\n    }\n\n    .dataframe thead th {\n        text-align: right;\n    }\n</style>\n<table border=\"1\" class=\"dataframe\">\n  <thead>\n    <tr style=\"text-align: right;\">\n      <th></th>\n      <th></th>\n      <th>FloodDepthEstimated</th>\n      <th>FloodDamageEstimated</th>\n      <th>FloodDepthActual</th>\n      <th>FloodDamageActual</th>\n      <th>IsAdapted</th>\n      <th>Conviction</th>\n      <th>FriendsCount</th>\n      <th>location</th>\n      <th>HasChild</th>\n    </tr>\n    <tr>\n      <th>Step</th>\n      <th>AgentID</th>\n      <th></th>\n      <th></th>\n      <th></th>\n      <th></th>\n      <th></th>\n      <th></th>\n      <th></th>\n      <th></th>\n      <th></th>\n    </tr>\n  </thead>\n  <tbody>\n    <tr>\n      <th rowspan=\"5\" valign=\"top\">0</th>\n      <th>0</th>\n      <td>0.555725</td>\n      <td>0.545726</td>\n      <td>0.000000</td>\n      <td>0.000000</td>\n      <td>False</td>\n      <td>0.667755</td>\n      <td>3</td>\n      <td>POINT (298614.1944865978 3310599.0200288864)</td>\n      <td>False</td>\n    </tr>\n    <tr>\n      <th>1</th>\n      <td>0.611828</td>\n      <td>0.562518</td>\n      <td>0.000000</td>\n      <td>0.000000</td>\n      <td>False</td>\n      <td>0.395607</td>\n      <td>6</td>\n      <td>POINT (241554.34989612424 3343041.557522431)</td>\n      <td>False</td>\n    </tr>\n    <tr>\n      <th>2</th>\n      <td>0.572072</td>\n      <td>0.550788</td>\n      <td>0.000000</td>\n      <td>0.000000</td>\n      <td>False</td>\n      <td>0.396020</td>\n      <td>2</td>\n      <td>POINT (290190.08697224245 3272638.928344043)</td>\n      <td>False</td>\n    </tr>\n    <tr>\n      <th>3</th>\n      <td>0.000000</td>\n      <td>0.000000</td>\n      <td>0.000000</td>\n      <td>0.000000</td>\n      <td>False</td>\n      <td>0.455913</td>\n      <td>4</td>\n      <td>POINT (248188.18019600955 3341436.566404584)</td>\n      <td>False</td>\n    </tr>\n    <tr>\n      <th>4</th>\n      <td>3.181133</td>\n      <td>0.850354</td>\n      <td>0.000000</td>\n      <td>0.000000</td>\n      <td>False</td>\n      <td>0.763670</td>\n      <td>6</td>\n      <td>POINT (249971.84171449137 3295141.124089687)</td>\n      <td>False</td>\n    </tr>\n    <tr>\n      <th>...</th>\n      <th>...</th>\n      <td>...</td>\n      <td>...</td>\n      <td>...</td>\n      <td>...</td>\n      <td>...</td>\n      <td>...</td>\n      <td>...</td>\n      <td>...</td>\n      <td>...</td>\n    </tr>\n    <tr>\n      <th rowspan=\"5\" valign=\"top\">19</th>\n      <th>45</th>\n      <td>0.576401</td>\n      <td>0.552104</td>\n      <td>0.505760</td>\n      <td>0.529276</td>\n      <td>False</td>\n      <td>0.321441</td>\n      <td>4</td>\n      <td>POINT (283047.25396056083 3294699.4195651594)</td>\n      <td>False</td>\n    </tr>\n    <tr>\n      <th>46</th>\n      <td>0.571430</td>\n      <td>0.550592</td>\n      <td>0.678076</td>\n      <td>0.580469</td>\n      <td>False</td>\n      <td>0.676331</td>\n      <td>3</td>\n      <td>POINT (222172.62198017587 3302021.866360533)</td>\n      <td>False</td>\n    </tr>\n    <tr>\n      <th>47</th>\n      <td>0.000000</td>\n      <td>0.000000</td>\n      <td>0.000000</td>\n      <td>0.000000</td>\n      <td>False</td>\n      <td>0.115284</td>\n      <td>3</td>\n      <td>POINT (248727.0892711652 3341266.4060826316)</td>\n      <td>False</td>\n    </tr>\n    <tr>\n      <th>48</th>\n      <td>0.000000</td>\n      <td>0.000000</td>\n      <td>0.000000</td>\n      <td>0.000000</td>\n      <td>False</td>\n      <td>0.993341</td>\n      <td>4</td>\n      <td>POINT (230413.99617618602 3327240.086343202)</td>\n      <td>True</td>\n    </tr>\n    <tr>\n      <th>49</th>\n      <td>1.136429</td>\n      <td>0.670630</td>\n      <td>0.700431</td>\n      <td>0.586132</td>\n      <td>False</td>\n      <td>0.151563</td>\n      <td>5</td>\n      <td>POINT (246292.0075640458 3306506.0934847193)</td>\n      <td>False</td>\n    </tr>\n  </tbody>\n</table>\n<p>1000 rows × 9 columns</p>\n</div>"
     },
     "execution_count": 11,
     "metadata": {},
     "output_type": "execute_result"
    }
   ],
   "source": [
    "agent_data = model.datacollector.get_agent_vars_dataframe()\n",
    "len([i for i in model.schedule.agents if i.has_child])\n",
    "agent_data\n",
    "\n",
    "# for agent in model.schedule.agents:\n",
    "#     print(f'{agent.unique_id} has an agent bias of {round(agent.general_bias_in_network, 3)}, a estimated flood damage of {round(agent.flood_damage_estimated, 3)} and is adapted is {agent.is_adapted} and has conviction: {agent.conviction}\\n')\n",
    "#     \n",
    "# for agent in model.schedule.agents:\n",
    "#     print(f'{agent.unique_id} has an agent bias of {round(agent.general_bias_in_network, 3)}, a impacted bias because of flooding {round(agent.actual_flood_impact_on_bias, 3)}')\n",
    "\n",
    "    "
   ]
  },
  {
   "cell_type": "code",
   "execution_count": 5,
   "outputs": [
    {
     "data": {
      "text/plain": "0.027793895941159996"
     },
     "execution_count": 5,
     "metadata": {},
     "output_type": "execute_result"
    }
   ],
   "source": [
    "# sum([i.general_bias_in_network for i in model.schedule.agents])/len(model.schedule.agents)\n",
    "\n",
    "max([i.actual_flood_impact_on_bias for i in model.schedule.agents])"
   ],
   "metadata": {
    "collapsed": false,
    "ExecuteTime": {
     "end_time": "2024-01-19T16:56:30.756906800Z",
     "start_time": "2024-01-19T16:56:30.753856300Z"
    }
   }
  },
  {
   "cell_type": "code",
   "execution_count": 30,
   "metadata": {
    "ExecuteTime": {
     "end_time": "2024-01-18T17:24:40.810955500Z",
     "start_time": "2024-01-18T17:24:40.804294800Z"
    }
   },
   "outputs": [
    {
     "data": {
      "text/plain": "    total_adapted_households\n0                          0\n1                          9\n2                          9\n3                         10\n4                         11\n5                         11\n6                         11\n7                         12\n8                         12\n9                         12\n10                        12\n11                        12\n12                        13\n13                        13\n14                        13\n15                        13\n16                        13\n17                        13\n18                        13\n19                        13",
      "text/html": "<div>\n<style scoped>\n    .dataframe tbody tr th:only-of-type {\n        vertical-align: middle;\n    }\n\n    .dataframe tbody tr th {\n        vertical-align: top;\n    }\n\n    .dataframe thead th {\n        text-align: right;\n    }\n</style>\n<table border=\"1\" class=\"dataframe\">\n  <thead>\n    <tr style=\"text-align: right;\">\n      <th></th>\n      <th>total_adapted_households</th>\n    </tr>\n  </thead>\n  <tbody>\n    <tr>\n      <th>0</th>\n      <td>0</td>\n    </tr>\n    <tr>\n      <th>1</th>\n      <td>9</td>\n    </tr>\n    <tr>\n      <th>2</th>\n      <td>9</td>\n    </tr>\n    <tr>\n      <th>3</th>\n      <td>10</td>\n    </tr>\n    <tr>\n      <th>4</th>\n      <td>11</td>\n    </tr>\n    <tr>\n      <th>5</th>\n      <td>11</td>\n    </tr>\n    <tr>\n      <th>6</th>\n      <td>11</td>\n    </tr>\n    <tr>\n      <th>7</th>\n      <td>12</td>\n    </tr>\n    <tr>\n      <th>8</th>\n      <td>12</td>\n    </tr>\n    <tr>\n      <th>9</th>\n      <td>12</td>\n    </tr>\n    <tr>\n      <th>10</th>\n      <td>12</td>\n    </tr>\n    <tr>\n      <th>11</th>\n      <td>12</td>\n    </tr>\n    <tr>\n      <th>12</th>\n      <td>13</td>\n    </tr>\n    <tr>\n      <th>13</th>\n      <td>13</td>\n    </tr>\n    <tr>\n      <th>14</th>\n      <td>13</td>\n    </tr>\n    <tr>\n      <th>15</th>\n      <td>13</td>\n    </tr>\n    <tr>\n      <th>16</th>\n      <td>13</td>\n    </tr>\n    <tr>\n      <th>17</th>\n      <td>13</td>\n    </tr>\n    <tr>\n      <th>18</th>\n      <td>13</td>\n    </tr>\n    <tr>\n      <th>19</th>\n      <td>13</td>\n    </tr>\n  </tbody>\n</table>\n</div>"
     },
     "execution_count": 30,
     "metadata": {},
     "output_type": "execute_result"
    }
   ],
   "source": [
    "model_data = model.datacollector.get_model_vars_dataframe()\n",
    "model_data"
   ]
  }
 ],
 "metadata": {
  "kernelspec": {
   "display_name": "tb231c",
   "language": "python",
   "name": "python3"
  },
  "language_info": {
   "codemirror_mode": {
    "name": "ipython",
    "version": 3
   },
   "file_extension": ".py",
   "mimetype": "text/x-python",
   "name": "python",
   "nbconvert_exporter": "python",
   "pygments_lexer": "ipython3",
   "version": "3.9.15"
  },
  "orig_nbformat": 4,
  "vscode": {
   "interpreter": {
    "hash": "ba734c44879edc1aadd96d1483e3c8c4b172ceac85e15a48cc8368b614d0488f"
   }
  }
 },
 "nbformat": 4,
 "nbformat_minor": 2
}
