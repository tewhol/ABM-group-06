{
 "cells": [
  {
   "attachments": {},
   "cell_type": "markdown",
   "metadata": {},
   "source": [
    "# Flood Adaptation: Minimal Model"
   ]
  },
  {
   "attachments": {},
   "cell_type": "markdown",
   "metadata": {},
   "source": [
    "This python script outlines a basic Agent-Based Model (ABM) developed using the Mesa framework, designed as a simplified representation of household adaptation to flood events in a social network context. The model serves as a template for understanding the fundamental mechanics of flood adapdtation with a given social network.\n",
    "\n",
    "This directory is structured as follows:\n",
    " - A Mesa Agent class `Households` is defined in `agents.py`\n",
    " - A Mesa Agent class `Government` is defined in `agents.py` (this agent currently does not perform any action)\n",
    " - A Mesa Model class `AdaptationModel` is defined in `model.py`\n",
    " - This notebook `demo.ipynb` provides a demonstration of the model and its visualization.\n",
    "\n",
    "Each household agent in the model represents a household with attributes and behaviors that determine its response to flood events. The flood depth attribute assigned to each household is currently random for demonstration purposes. The decision by each household to adapt is also arbitrary. In a more comprehensive model, this could be replaced with more sophisticated decision-making algorithms.\n",
    "\n",
    "The current implementation includes several simplifications and arbitrary choices, such as random flood depths and basic adaptation logic based on random thresholds. These aspects are designed for clarity and ease of understanding and should be replaced with realistic and sound choices.\n",
    "\n",
    "You are encouraged to modify, expand, and customize the model. This might include integrating real-world data, implementing more complex decision-making processes for agents, or exploring different network topologies and their effects on social dynamics.\n",
    "\n",
    "The visualisation provided is basic. Additional aspects can be added for visualization and more in-depth analysis.\n",
    "\n",
    "_This notebook was tested on 2023-11-13 with Mesa version 2.1.4 on Python 3.12.0._"
   ]
  },
  {
   "attachments": {},
   "cell_type": "markdown",
   "metadata": {},
   "source": [
    "# Running the model and visualizing the model domain and social network over time"
   ]
  },
  {
   "cell_type": "code",
   "execution_count": 39,
   "metadata": {
    "ExecuteTime": {
     "end_time": "2024-01-20T20:29:19.846821700Z",
     "start_time": "2024-01-20T20:29:19.724127200Z"
    }
   },
   "outputs": [
    {
     "name": "stdout",
     "output_type": "stream",
     "text": [
      "step: 0 : 9 adapted with a bias of 0 and a estimated damage of 0.8267480848387778!\n",
      "step: 0 : 36 adapted with a bias of 0 and a estimated damage of 0.8037341673636278!\n",
      "step: 0 : 28 adapted with a bias of 0 and a estimated damage of 1!\n",
      "step: 0 : 2 adapted with a bias of 0 and a estimated damage of 1!\n",
      "step: 0 : 29 adapted with a bias of 0 and a estimated damage of 0.8548141524330275!\n",
      "step: 0 : 45 adapted with a bias of 0 and a estimated damage of 0.7261735530163379!\n",
      "step: 0 : 33 adapted with a bias of 0 and a estimated damage of 0.7774423654029212!\n",
      "step: 0 : 6 adapted with a bias of 0 and a estimated damage of 0.91080116669193!\n",
      "step: 0 : 30 adapted with a bias of 0.2 and a estimated damage of 0.728864951276349!\n",
      "step: 0 : 46 adapted with a bias of 0 and a estimated damage of 1!\n",
      "step: 0 : 35 adapted with a bias of 0 and a estimated damage of 0.8120135403990167!\n",
      "step: 1 : 11 adapted with a bias of 0.4 and a estimated damage of 0.4926325890622226!\n",
      "step: 1 : 32 adapted with a bias of 0.0 and a estimated damage of 0.7802396983829653!\n",
      "step: 4 : 15 adapted with a bias of 0.2 and a estimated damage of 0.6731227108048452!\n",
      "step: 5 : 1 adapted with a bias of 0.2 and a estimated damage of 0.6669839731032493!\n",
      "step: 6 : 18 adapted with a bias of 0.2 and a estimated damage of 0.6960225328033681!\n",
      "step: 7 : 23 adapted with a bias of 0.8 and a estimated damage of 0!\n",
      "step: 7 : 40 adapted with a bias of 0.4 and a estimated damage of 0.3360784508017198!\n",
      "step: 7 : 13 adapted with a bias of 0.4 and a estimated damage of 0.5720198688429896!\n",
      "step: 10 : 38 adapted with a bias of 0.4 and a estimated damage of 0.38267942489319545!\n",
      "step: 11 : 3 adapted with a bias of 0.4 and a estimated damage of 0.42535121413959653!\n",
      "step: 11 : 22 adapted with a bias of 0.4 and a estimated damage of 0.4969089504126464!\n",
      "step: 12 : 43 adapted with a bias of 0.8 and a estimated damage of 0!\n",
      "step: 15 : 12 adapted with a bias of 0.8 and a estimated damage of 0!\n"
     ]
    }
   ],
   "source": [
    "import random\n",
    "\n",
    "from model import AdaptationModel\n",
    "import matplotlib.pyplot as plt\n",
    "import networkx as nx\n",
    "\n",
    "# Determine the input values for your network and dynamic parameters and how they should be distributed throughout the population.\n",
    "network_dynamics_dictionary = {\n",
    "                # The social network structure that is used. Can currently be\n",
    "                # \"erdos_renyi\", \"barabasi_albert\", \"watts_strogatz\", or \"no_network\"\n",
    "                \"network\": 'watts_strogatz',\n",
    "                \"number_of_households\": 50,  # number of household agents\n",
    "                \"probability_of_network_connection\": 0.4,  # likeliness of edge being created between two nodes\n",
    "                \"number_of_edges\": 3,  # number of edges for BA network\n",
    "                \"number_of_nearest_neighbours\": 5,  # number of nearest neighbours for WS social network\n",
    "                \"flood_time_tick\": 5,  # time of flood\n",
    "                \"flood_severity_probability\": (0.5, 1.2),  # Bounds between a Uniform distribution of the flood severity\n",
    "                \"seed\": 1  # The seed used to generate pseudo random numbers\n",
    "            }\n",
    "\n",
    "# Determine the input values for your agent's attributes and how they should be distributed throughout the population.\n",
    "attribute_dictionary = {\n",
    "                \"wealth\": [0.2, 'UI', (0, 3)],\n",
    "                \"has_child\": [0.2, 'B', (0.2)],\n",
    "                \"house_size\": [0.05, 'UI', (0, 2)],\n",
    "                \"house_type\": [0.05, 'UI', (0, 1)],\n",
    "                \"education_level\": [0.05, 'UI', (0, 3)],\n",
    "                \"social_preference\": [0.2, 'U', (-1, 1)],\n",
    "                \"age\": [0.2, 'N', (33.4, 5)]\n",
    "            }\n",
    "\n",
    "# Defining the standard values for agent interaction dynamics in case none are provided.\n",
    "agent_interaction_dictionary = {\n",
    "                \"household_tolerance\": 0.15,  # the tolerance level for each agent\n",
    "                \"bias_change_per_tick\": 0.2,  # Bias change per tick when an agent when it's influenced by its network\n",
    "                \"probability_positive_bias_change\": 0.5,  # Probability that agent changes it's bias positively\n",
    "                \"probability_negative_bias_change\": 0.1,  # Probability that agent changes it's bias negatively\n",
    "                \"adaption_threshold\": 0.7  # Threshold of bias an agent needs to adapt\n",
    "            }\n",
    "\n",
    "# Initialize the Adaptation Model with 50 household agents.\n",
    "model = AdaptationModel(network_dynamics_dictionary=network_dynamics_dictionary, attribute_dictionary=attribute_dictionary, agent_interaction_dictionary= agent_interaction_dictionary)\n",
    "# flood_map_choice can be \"harvey\", \"100yr\", or \"500yr\"\n",
    "\n",
    "# Calculate positions of nodes for the network plot.\n",
    "# The spring_layout function positions nodes using a force-directed algorithm,\n",
    "# which helps visualize the structure of the social network.\n",
    "pos = nx.spring_layout(model.G)\n",
    "\n",
    "# Define a function to plot agents on the network.\n",
    "# This function takes a matplotlib axes object and the model as inputs.\n",
    "# def plot_network(ax, model):\n",
    "#     # Clear the current axes.\n",
    "#     ax.clear()\n",
    "#     # Determine the color of each node (agent) based on their adaptation status.\n",
    "#     colors = ['blue' if agent.is_adapted else 'red' for agent in model.schedule.agents]\n",
    "#     # Draw the network with node colors and labels.\n",
    "#     nx.draw(model.G, pos, node_color=colors, with_labels=True, ax=ax)\n",
    "#     # Set the title of the plot with the current step number.\n",
    "#     ax.set_title(f\"Social Network State at Step {model.schedule.steps}\", fontsize=12)\n",
    "\n",
    "# Generate the initial plots at step 0.\n",
    "# Plot the spatial distribution of agents. This is a function written in the model.py\n",
    "# model.plot_model_domain_with_agents()\n",
    "\n",
    "# Plot the initial state of the social network.\n",
    "# fig, ax = plt.subplots(figsize=(7, 7))\n",
    "# plot_network(ax, model)\n",
    "# plt.show()\n",
    "\n",
    "# Run the model for 20 steps and generate plots every 5 steps.\n",
    "for step in range(80):\n",
    "    model.step()\n",
    "# \n",
    "#     # Every 5 steps, generate and display plots for both the spatial distribution and network.\n",
    "#     # Note the first step is step 0, so the plots will be generated at steps 4, 9, 14, and 19, which are the 5th, 10th, 15th, and 20th steps.\n",
    "#     if (step + 1) % 10 == 0:\n",
    "#         # Plot for the spatial map showing agent locations and adaptation status.\n",
    "#         plt.figure(figsize=(10, 6))\n",
    "#         model.plot_model_domain_with_agents()\n",
    "# \n",
    "#         # Plot for the social network showing connections and adaptation statuses.\n",
    "#         fig, ax = plt.subplots(figsize=(7, 7))\n",
    "#         plot_network(ax, model)\n",
    "#         plt.show()"
   ]
  },
  {
   "cell_type": "code",
   "execution_count": 36,
   "metadata": {
    "ExecuteTime": {
     "end_time": "2024-01-20T20:28:53.728026600Z",
     "start_time": "2024-01-20T20:28:53.690390300Z"
    }
   },
   "outputs": [
    {
     "data": {
      "text/plain": "              FloodDepthEstimated  FloodDamageEstimated  FloodDepthActual  \\\nStep AgentID                                                                \n0    0                   0.300697              0.438492          0.000000   \n     1                   0.622021              0.565403          0.000000   \n     2                   3.704315              0.876938          0.000000   \n     3                   0.910255              0.631882          0.000000   \n     4                   2.724166              0.823278          0.000000   \n...                           ...                   ...               ...   \n79   45                  0.988699              0.646316          0.578529   \n     46                  0.294067              0.434599          0.231267   \n     47                  0.000000              0.000000          0.000000   \n     48                  0.188232              0.356704          0.205050   \n     49                  0.000000              0.000000          0.000000   \n\n              FloodDamageActual  IsAdapted  Conviction  FriendsCount  \\\nStep AgentID                                                           \n0    0                 0.000000      False    0.312533             3   \n     1                 0.000000      False    0.572885             6   \n     2                 0.000000      False    0.259736             2   \n     3                 0.000000      False    0.150270             4   \n     4                 0.000000      False    1.098115             6   \n...                         ...        ...         ...           ...   \n79   45                0.552747      False    0.726957             4   \n     46                0.392653      False    0.247481             3   \n     47                0.000000      False    0.429090             3   \n     48                0.371646      False    0.451166             4   \n     49                0.000000      False    0.481837             5   \n\n                                                   location  HasChild  \\\nStep AgentID                                                            \n0    0          POINT (252420.9495128427 3308252.401272508)      True   \n     1        POINT (258762.72493419415 3318243.0805557934)     False   \n     2         POINT (262753.2178849407 3294342.6579580675)     False   \n     3        POINT (220559.06015178937 3321782.0115748136)     False   \n     4            POINT (309039.06993562 3288471.995675124)      True   \n...                                                     ...       ...   \n79   45       POINT (255623.33295252436 3290516.6537111932)     False   \n     46          POINT (227048.957801976 3307116.896002708)     False   \n     47        POINT (219228.55844857934 3341573.634193731)     False   \n     48       POINT (235359.76217676932 3345109.7832701267)     False   \n     49         POINT (228165.3067953716 3333482.827670909)     False   \n\n              AgentBias  \nStep AgentID             \n0    0              0.0  \n     1              0.0  \n     2              0.0  \n     3              0.0  \n     4              0.0  \n...                 ...  \n79   45             0.0  \n     46            -1.6  \n     47            -5.4  \n     48            -2.4  \n     49            -3.2  \n\n[4000 rows x 10 columns]",
      "text/html": "<div>\n<style scoped>\n    .dataframe tbody tr th:only-of-type {\n        vertical-align: middle;\n    }\n\n    .dataframe tbody tr th {\n        vertical-align: top;\n    }\n\n    .dataframe thead th {\n        text-align: right;\n    }\n</style>\n<table border=\"1\" class=\"dataframe\">\n  <thead>\n    <tr style=\"text-align: right;\">\n      <th></th>\n      <th></th>\n      <th>FloodDepthEstimated</th>\n      <th>FloodDamageEstimated</th>\n      <th>FloodDepthActual</th>\n      <th>FloodDamageActual</th>\n      <th>IsAdapted</th>\n      <th>Conviction</th>\n      <th>FriendsCount</th>\n      <th>location</th>\n      <th>HasChild</th>\n      <th>AgentBias</th>\n    </tr>\n    <tr>\n      <th>Step</th>\n      <th>AgentID</th>\n      <th></th>\n      <th></th>\n      <th></th>\n      <th></th>\n      <th></th>\n      <th></th>\n      <th></th>\n      <th></th>\n      <th></th>\n      <th></th>\n    </tr>\n  </thead>\n  <tbody>\n    <tr>\n      <th rowspan=\"5\" valign=\"top\">0</th>\n      <th>0</th>\n      <td>0.300697</td>\n      <td>0.438492</td>\n      <td>0.000000</td>\n      <td>0.000000</td>\n      <td>False</td>\n      <td>0.312533</td>\n      <td>3</td>\n      <td>POINT (252420.9495128427 3308252.401272508)</td>\n      <td>True</td>\n      <td>0.0</td>\n    </tr>\n    <tr>\n      <th>1</th>\n      <td>0.622021</td>\n      <td>0.565403</td>\n      <td>0.000000</td>\n      <td>0.000000</td>\n      <td>False</td>\n      <td>0.572885</td>\n      <td>6</td>\n      <td>POINT (258762.72493419415 3318243.0805557934)</td>\n      <td>False</td>\n      <td>0.0</td>\n    </tr>\n    <tr>\n      <th>2</th>\n      <td>3.704315</td>\n      <td>0.876938</td>\n      <td>0.000000</td>\n      <td>0.000000</td>\n      <td>False</td>\n      <td>0.259736</td>\n      <td>2</td>\n      <td>POINT (262753.2178849407 3294342.6579580675)</td>\n      <td>False</td>\n      <td>0.0</td>\n    </tr>\n    <tr>\n      <th>3</th>\n      <td>0.910255</td>\n      <td>0.631882</td>\n      <td>0.000000</td>\n      <td>0.000000</td>\n      <td>False</td>\n      <td>0.150270</td>\n      <td>4</td>\n      <td>POINT (220559.06015178937 3321782.0115748136)</td>\n      <td>False</td>\n      <td>0.0</td>\n    </tr>\n    <tr>\n      <th>4</th>\n      <td>2.724166</td>\n      <td>0.823278</td>\n      <td>0.000000</td>\n      <td>0.000000</td>\n      <td>False</td>\n      <td>1.098115</td>\n      <td>6</td>\n      <td>POINT (309039.06993562 3288471.995675124)</td>\n      <td>True</td>\n      <td>0.0</td>\n    </tr>\n    <tr>\n      <th>...</th>\n      <th>...</th>\n      <td>...</td>\n      <td>...</td>\n      <td>...</td>\n      <td>...</td>\n      <td>...</td>\n      <td>...</td>\n      <td>...</td>\n      <td>...</td>\n      <td>...</td>\n      <td>...</td>\n    </tr>\n    <tr>\n      <th rowspan=\"5\" valign=\"top\">79</th>\n      <th>45</th>\n      <td>0.988699</td>\n      <td>0.646316</td>\n      <td>0.578529</td>\n      <td>0.552747</td>\n      <td>False</td>\n      <td>0.726957</td>\n      <td>4</td>\n      <td>POINT (255623.33295252436 3290516.6537111932)</td>\n      <td>False</td>\n      <td>0.0</td>\n    </tr>\n    <tr>\n      <th>46</th>\n      <td>0.294067</td>\n      <td>0.434599</td>\n      <td>0.231267</td>\n      <td>0.392653</td>\n      <td>False</td>\n      <td>0.247481</td>\n      <td>3</td>\n      <td>POINT (227048.957801976 3307116.896002708)</td>\n      <td>False</td>\n      <td>-1.6</td>\n    </tr>\n    <tr>\n      <th>47</th>\n      <td>0.000000</td>\n      <td>0.000000</td>\n      <td>0.000000</td>\n      <td>0.000000</td>\n      <td>False</td>\n      <td>0.429090</td>\n      <td>3</td>\n      <td>POINT (219228.55844857934 3341573.634193731)</td>\n      <td>False</td>\n      <td>-5.4</td>\n    </tr>\n    <tr>\n      <th>48</th>\n      <td>0.188232</td>\n      <td>0.356704</td>\n      <td>0.205050</td>\n      <td>0.371646</td>\n      <td>False</td>\n      <td>0.451166</td>\n      <td>4</td>\n      <td>POINT (235359.76217676932 3345109.7832701267)</td>\n      <td>False</td>\n      <td>-2.4</td>\n    </tr>\n    <tr>\n      <th>49</th>\n      <td>0.000000</td>\n      <td>0.000000</td>\n      <td>0.000000</td>\n      <td>0.000000</td>\n      <td>False</td>\n      <td>0.481837</td>\n      <td>5</td>\n      <td>POINT (228165.3067953716 3333482.827670909)</td>\n      <td>False</td>\n      <td>-3.2</td>\n    </tr>\n  </tbody>\n</table>\n<p>4000 rows × 10 columns</p>\n</div>"
     },
     "execution_count": 36,
     "metadata": {},
     "output_type": "execute_result"
    }
   ],
   "source": [
    "agent_data = model.datacollector.get_agent_vars_dataframe()\n",
    "len([i for i in model.schedule.agents if i.has_child])\n",
    "agent_data\n",
    "\n",
    "# for agent in model.schedule.agents:\n",
    "#     print(f'{agent.unique_id} has an agent bias of {round(agent.general_bias_in_network, 3)}, a estimated flood damage of {round(agent.flood_damage_estimated, 3)} and is adapted is {agent.is_adapted} and has conviction: {agent.conviction}\\n')\n",
    "#     \n",
    "# for agent in model.schedule.agents:\n",
    "#     print(f'{agent.unique_id} has an agent bias of {round(agent.general_bias_in_network, 3)}, a impacted bias because of flooding {round(agent.actual_flood_impact_on_bias, 3)}')\n",
    "\n",
    "    "
   ]
  },
  {
   "cell_type": "code",
   "execution_count": 37,
   "outputs": [
    {
     "data": {
      "text/plain": "0.03076104255214651"
     },
     "execution_count": 37,
     "metadata": {},
     "output_type": "execute_result"
    }
   ],
   "source": [
    "# sum([i.general_bias_in_network for i in model.schedule.agents])/len(model.schedule.agents)\n",
    "\n",
    "max([i.actual_flood_impact_on_bias for i in model.schedule.agents])"
   ],
   "metadata": {
    "collapsed": false,
    "ExecuteTime": {
     "end_time": "2024-01-20T20:28:54.789880900Z",
     "start_time": "2024-01-20T20:28:54.751145700Z"
    }
   }
  },
  {
   "cell_type": "code",
   "execution_count": 38,
   "metadata": {
    "ExecuteTime": {
     "end_time": "2024-01-20T20:28:55.546173800Z",
     "start_time": "2024-01-20T20:28:55.518874400Z"
    }
   },
   "outputs": [
    {
     "data": {
      "text/plain": "    total_adapted_households\n0                          0\n1                          8\n2                         12\n3                         12\n4                         14\n..                       ...\n75                        20\n76                        20\n77                        20\n78                        20\n79                        20\n\n[80 rows x 1 columns]",
      "text/html": "<div>\n<style scoped>\n    .dataframe tbody tr th:only-of-type {\n        vertical-align: middle;\n    }\n\n    .dataframe tbody tr th {\n        vertical-align: top;\n    }\n\n    .dataframe thead th {\n        text-align: right;\n    }\n</style>\n<table border=\"1\" class=\"dataframe\">\n  <thead>\n    <tr style=\"text-align: right;\">\n      <th></th>\n      <th>total_adapted_households</th>\n    </tr>\n  </thead>\n  <tbody>\n    <tr>\n      <th>0</th>\n      <td>0</td>\n    </tr>\n    <tr>\n      <th>1</th>\n      <td>8</td>\n    </tr>\n    <tr>\n      <th>2</th>\n      <td>12</td>\n    </tr>\n    <tr>\n      <th>3</th>\n      <td>12</td>\n    </tr>\n    <tr>\n      <th>4</th>\n      <td>14</td>\n    </tr>\n    <tr>\n      <th>...</th>\n      <td>...</td>\n    </tr>\n    <tr>\n      <th>75</th>\n      <td>20</td>\n    </tr>\n    <tr>\n      <th>76</th>\n      <td>20</td>\n    </tr>\n    <tr>\n      <th>77</th>\n      <td>20</td>\n    </tr>\n    <tr>\n      <th>78</th>\n      <td>20</td>\n    </tr>\n    <tr>\n      <th>79</th>\n      <td>20</td>\n    </tr>\n  </tbody>\n</table>\n<p>80 rows × 1 columns</p>\n</div>"
     },
     "execution_count": 38,
     "metadata": {},
     "output_type": "execute_result"
    }
   ],
   "source": [
    "model_data = model.datacollector.get_model_vars_dataframe()\n",
    "model_data"
   ]
  },
  {
   "cell_type": "code",
   "execution_count": null,
   "outputs": [],
   "source": [],
   "metadata": {
    "collapsed": false
   }
  }
 ],
 "metadata": {
  "kernelspec": {
   "display_name": "tb231c",
   "language": "python",
   "name": "python3"
  },
  "language_info": {
   "codemirror_mode": {
    "name": "ipython",
    "version": 3
   },
   "file_extension": ".py",
   "mimetype": "text/x-python",
   "name": "python",
   "nbconvert_exporter": "python",
   "pygments_lexer": "ipython3",
   "version": "3.9.15"
  },
  "orig_nbformat": 4,
  "vscode": {
   "interpreter": {
    "hash": "ba734c44879edc1aadd96d1483e3c8c4b172ceac85e15a48cc8368b614d0488f"
   }
  }
 },
 "nbformat": 4,
 "nbformat_minor": 2
}
