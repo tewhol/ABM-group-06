{
 "cells": [
  {
   "attachments": {},
   "cell_type": "markdown",
   "metadata": {},
   "source": [
    "# Flood Adaptation: Minimal Model"
   ]
  },
  {
   "attachments": {},
   "cell_type": "markdown",
   "metadata": {},
   "source": [
    "This python script outlines a basic Agent-Based Model (ABM) developed using the Mesa framework, designed as a simplified representation of household adaptation to flood events in a social network context. The model serves as a template for understanding the fundamental mechanics of flood adapdtation with a given social network.\n",
    "\n",
    "This directory is structured as follows:\n",
    " - A Mesa Agent class `Households` is defined in `agents.py`\n",
    " - A Mesa Agent class `Government` is defined in `agents.py` (this agent currently does not perform any action)\n",
    " - A Mesa Model class `AdaptationModel` is defined in `model.py`\n",
    " - This notebook `demo.ipynb` provides a demonstration of the model and its visualization.\n",
    "\n",
    "Each household agent in the model represents a household with attributes and behaviors that determine its response to flood events. The flood depth attribute assigned to each household is currently random for demonstration purposes. The decision by each household to adapt is also arbitrary. In a more comprehensive model, this could be replaced with more sophisticated decision-making algorithms.\n",
    "\n",
    "The current implementation includes several simplifications and arbitrary choices, such as random flood depths and basic adaptation logic based on random thresholds. These aspects are designed for clarity and ease of understanding and should be replaced with realistic and sound choices.\n",
    "\n",
    "You are encouraged to modify, expand, and customize the model. This might include integrating real-world data, implementing more complex decision-making processes for agents, or exploring different network topologies and their effects on social dynamics.\n",
    "\n",
    "The visualisation provided is basic. Additional aspects can be added for visualization and more in-depth analysis.\n",
    "\n",
    "_This notebook was tested on 2023-11-13 with Mesa version 2.1.4 on Python 3.12.0._"
   ]
  },
  {
   "attachments": {},
   "cell_type": "markdown",
   "metadata": {},
   "source": [
    "# Running the model and visualizing the model domain and social network over time"
   ]
  },
  {
   "cell_type": "code",
   "execution_count": 9,
   "metadata": {
    "ExecuteTime": {
     "end_time": "2024-01-21T14:23:48.971110800Z",
     "start_time": "2024-01-21T14:23:48.890188500Z"
    }
   },
   "outputs": [
    {
     "name": "stdout",
     "output_type": "stream",
     "text": [
      "step: 0 : 15 adapted with a bias of 0 and a estimated damage of 0.7375141632221414!\n",
      "step: 0 : 17 adapted with a bias of 0 and a estimated damage of 0.7754756582288351!\n",
      "step: 0 : 2 adapted with a bias of 0 and a estimated damage of 0.7908085349455153!\n",
      "step: 0 : 31 adapted with a bias of -0.02 and a estimated damage of 0.7490529722348819!\n",
      "step: 0 : 39 adapted with a bias of 0 and a estimated damage of 0.8554053256136347!\n",
      "step: 0 : 1 adapted with a bias of -0.02 and a estimated damage of 0.8779229267017474!\n",
      "step: 0 : 33 adapted with a bias of 0 and a estimated damage of 0.7590792827850705!\n",
      "step: 0 : 38 adapted with a bias of 0 and a estimated damage of 0.7911818112532963!\n",
      "step: 0 : 43 adapted with a bias of 0 and a estimated damage of 0.8713940782223969!\n",
      "step: 0 : 46 adapted with a bias of 0 and a estimated damage of 0.7272400942890523!\n",
      "step: 0 : 8 adapted with a bias of 0 and a estimated damage of 0.9431718563056124!\n",
      "step: 0 : 3 adapted with a bias of 0.04 and a estimated damage of 0.7176351487889397!\n",
      "step: 2 : 23 adapted with a bias of 0.02 and a estimated damage of 0.6873046178083524!\n",
      "step: 17 : 44 adapted with a bias of 0.06 and a estimated damage of 0.6424532123147269!\n",
      "step: 19 : 42 adapted with a bias of 0.27999999999999997 and a estimated damage of 0.48362226676420805!\n",
      "step: 23 : 40 adapted with a bias of 0.19999999999999998 and a estimated damage of 0.5187752557451486!\n",
      "step: 25 : 18 adapted with a bias of 0.1 and a estimated damage of 0.6572073642741474!\n",
      "step: 26 : 22 adapted with a bias of 0.14 and a estimated damage of 0.6350980771634612!\n",
      "step: 31 : 19 adapted with a bias of 0.34 and a estimated damage of 0.481588680360158!\n",
      "step: 33 : 16 adapted with a bias of 0.36000000000000004 and a estimated damage of 0.46228850733809534!\n",
      "step: 43 : 32 adapted with a bias of 0.36000000000000004 and a estimated damage of 0.33464298532900183!\n",
      "step: 52 : 10 adapted with a bias of 0.7000000000000003 and a estimated damage of 0!\n",
      "step: 60 : 41 adapted with a bias of 0.7000000000000003 and a estimated damage of 0!\n"
     ]
    }
   ],
   "source": [
    "import random\n",
    "\n",
    "from model import AdaptationModel\n",
    "import matplotlib.pyplot as plt\n",
    "import networkx as nx\n",
    "\n",
    "# Determine the input values for your network and dynamic parameters and how they should be distributed throughout the population.\n",
    "network_dynamics_dictionary = {\n",
    "                # The social network structure that is used. Can currently be\n",
    "                # \"erdos_renyi\", \"barabasi_albert\", \"watts_strogatz\", or \"no_network\"\n",
    "                \"network\": 'watts_strogatz',\n",
    "                \"number_of_households\": 50,  # number of household agents\n",
    "                \"probability_of_network_connection\": 0.4,  # likeliness of edge being created between two nodes\n",
    "                \"number_of_edges\": 3,  # number of edges for BA network\n",
    "                \"number_of_nearest_neighbours\": 5,  # number of nearest neighbours for WS social network\n",
    "                \"flood_time_tick\": [5],  # list of flood times on the tick\n",
    "                \"flood_severity_probability\": (0.5, 1.2),  # Bounds between a Uniform distribution of the flood severity\n",
    "                \"seed\": 1  # The seed used to generate pseudo random numbers\n",
    "            }\n",
    "\n",
    "# Determine the input values for your agent's attributes and how they should be distributed throughout the population.\n",
    "attribute_dictionary = {\n",
    "                \"wealth\": [0.2, 'UI', (0, 3)],\n",
    "                \"has_child\": [0.2, 'B', (0.2)],\n",
    "                \"house_size\": [0.05, 'UI', (0, 2)],\n",
    "                \"house_type\": [0.05, 'UI', (0, 1)],\n",
    "                \"education_level\": [0.05, 'UI', (0, 3)],\n",
    "                \"social_preference\": [0.2, 'U', (-1, 1)],\n",
    "                \"age\": [0.2, 'N', (33.4, 5)]\n",
    "            }\n",
    "\n",
    "# Defining the standard values for agent interaction dynamics in case none are provided.\n",
    "agent_interaction_dictionary = {\n",
    "                \"household_tolerance\": 0.15,  # the tolerance level for each agent\n",
    "                \"bias_change_per_tick\": 0.02,  # Bias change per tick when an agent when it's influenced by its network\n",
    "                \"flood_impact_on_bias_factor\": 1,  # Defines factor regarding the actual and expected damage of flooding\n",
    "                \"probability_positive_bias_change\": 0.5,  # Probability that agent changes it's bias positively\n",
    "                \"probability_negative_bias_change\": 0.1,  # Probability that agent changes it's bias negatively\n",
    "                \"adaption_threshold\": 0.7  # Threshold of bias an agent needs to adapt\n",
    "            }\n",
    "\n",
    "# Initialize the Adaptation Model with 50 household agents.\n",
    "model = AdaptationModel(network_dynamics_dictionary=network_dynamics_dictionary, attribute_dictionary=attribute_dictionary, agent_interaction_dictionary= agent_interaction_dictionary)\n",
    "# flood_map_choice can be \"harvey\", \"100yr\", or \"500yr\"\n",
    "\n",
    "# Calculate positions of nodes for the network plot.\n",
    "# The spring_layout function positions nodes using a force-directed algorithm,\n",
    "# which helps visualize the structure of the social network.\n",
    "pos = nx.spring_layout(model.G)\n",
    "\n",
    "# Define a function to plot agents on the network.\n",
    "# This function takes a matplotlib axes object and the model as inputs.\n",
    "# def plot_network(ax, model):\n",
    "#     # Clear the current axes.\n",
    "#     ax.clear()\n",
    "#     # Determine the color of each node (agent) based on their adaptation status.\n",
    "#     colors = ['blue' if agent.is_adapted else 'red' for agent in model.schedule.agents]\n",
    "#     # Draw the network with node colors and labels.\n",
    "#     nx.draw(model.G, pos, node_color=colors, with_labels=True, ax=ax)\n",
    "#     # Set the title of the plot with the current step number.\n",
    "#     ax.set_title(f\"Social Network State at Step {model.schedule.steps}\", fontsize=12)\n",
    "\n",
    "# Generate the initial plots at step 0.\n",
    "# Plot the spatial distribution of agents. This is a function written in the model.py\n",
    "# model.plot_model_domain_with_agents()\n",
    "\n",
    "# Plot the initial state of the social network.\n",
    "# fig, ax = plt.subplots(figsize=(7, 7))\n",
    "# plot_network(ax, model)\n",
    "# plt.show()\n",
    "\n",
    "# Run the model for 20 steps and generate plots every 5 steps.\n",
    "for step in range(80):\n",
    "    model.step()\n",
    "# \n",
    "#     # Every 5 steps, generate and display plots for both the spatial distribution and network.\n",
    "#     # Note the first step is step 0, so the plots will be generated at steps 4, 9, 14, and 19, which are the 5th, 10th, 15th, and 20th steps.\n",
    "#     if (step + 1) % 10 == 0:\n",
    "#         # Plot for the spatial map showing agent locations and adaptation status.\n",
    "#         plt.figure(figsize=(10, 6))\n",
    "#         model.plot_model_domain_with_agents()\n",
    "# \n",
    "#         # Plot for the social network showing connections and adaptation statuses.\n",
    "#         fig, ax = plt.subplots(figsize=(7, 7))\n",
    "#         plot_network(ax, model)\n",
    "#         plt.show()"
   ]
  },
  {
   "cell_type": "code",
   "execution_count": 10,
   "metadata": {
    "ExecuteTime": {
     "end_time": "2024-01-21T14:23:53.096387900Z",
     "start_time": "2024-01-21T14:23:53.063264200Z"
    }
   },
   "outputs": [
    {
     "data": {
      "text/plain": "              FloodDepthEstimated  FloodDamageEstimated  FloodDepthActual  \\\nStep AgentID                                                                \n0    0                   1.081856              0.662037          0.000000   \n     1                   3.725261              0.877923          0.000000   \n     2                   2.261889              0.790809          0.000000   \n     3                   1.487517              0.717635          0.000000   \n     4                   0.715288              0.589797          0.000000   \n...                           ...                   ...               ...   \n79   45                  0.000000              0.000000          0.000000   \n     46                  1.571640              0.727240          0.806734   \n     47                  0.952662              0.639833          0.571433   \n     48                  0.546889              0.542927          0.430056   \n     49                  0.815716              0.612736          0.572746   \n\n              FloodDamageActual  IsAdapted  identity  FriendsCount  \\\nStep AgentID                                                         \n0    0                 0.000000      False  0.093853             3   \n     1                 0.000000      False  0.544088             6   \n     2                 0.000000      False  0.516384             2   \n     3                 0.000000      False  0.507935             4   \n     4                 0.000000      False  0.823913             6   \n...                         ...        ...       ...           ...   \n79   45                0.000000      False  0.755951             4   \n     46                0.610803       True  0.256773             3   \n     47                0.550593      False  0.395236             3   \n     48                0.500965      False  0.879132             4   \n     49                0.550993      False  0.257932             5   \n\n                                                   location  HasChild  \\\nStep AgentID                                                            \n0    0         POINT (257576.30980290295 3345226.165794304)     False   \n     1         POINT (297627.8956108263 3274212.6570090423)     False   \n     2         POINT (293792.7347641664 3304310.6385381934)     False   \n     3         POINT (265575.6818158605 3290399.9717597775)      True   \n     4         POINT (260304.83997850376 3277384.936265996)     False   \n...                                                     ...       ...   \n79   45        POINT (243583.92583976316 3332728.432258534)     False   \n     46       POINT (245440.71037575652 3292553.4779036953)     False   \n     47         POINT (259977.2863508964 3306753.724684249)     False   \n     48        POINT (304284.2405821579 3296306.6304419013)     False   \n     49        POINT (270552.20506499894 3273501.898997991)     False   \n\n              AgentBias  \nStep AgentID             \n0    0             0.00  \n     1             0.00  \n     2             0.00  \n     3             0.00  \n     4             0.00  \n...                 ...  \n79   45            0.00  \n     46            0.00  \n     47           -0.26  \n     48            0.00  \n     49           -0.18  \n\n[4000 rows x 10 columns]",
      "text/html": "<div>\n<style scoped>\n    .dataframe tbody tr th:only-of-type {\n        vertical-align: middle;\n    }\n\n    .dataframe tbody tr th {\n        vertical-align: top;\n    }\n\n    .dataframe thead th {\n        text-align: right;\n    }\n</style>\n<table border=\"1\" class=\"dataframe\">\n  <thead>\n    <tr style=\"text-align: right;\">\n      <th></th>\n      <th></th>\n      <th>FloodDepthEstimated</th>\n      <th>FloodDamageEstimated</th>\n      <th>FloodDepthActual</th>\n      <th>FloodDamageActual</th>\n      <th>IsAdapted</th>\n      <th>identity</th>\n      <th>FriendsCount</th>\n      <th>location</th>\n      <th>HasChild</th>\n      <th>AgentBias</th>\n    </tr>\n    <tr>\n      <th>Step</th>\n      <th>AgentID</th>\n      <th></th>\n      <th></th>\n      <th></th>\n      <th></th>\n      <th></th>\n      <th></th>\n      <th></th>\n      <th></th>\n      <th></th>\n      <th></th>\n    </tr>\n  </thead>\n  <tbody>\n    <tr>\n      <th rowspan=\"5\" valign=\"top\">0</th>\n      <th>0</th>\n      <td>1.081856</td>\n      <td>0.662037</td>\n      <td>0.000000</td>\n      <td>0.000000</td>\n      <td>False</td>\n      <td>0.093853</td>\n      <td>3</td>\n      <td>POINT (257576.30980290295 3345226.165794304)</td>\n      <td>False</td>\n      <td>0.00</td>\n    </tr>\n    <tr>\n      <th>1</th>\n      <td>3.725261</td>\n      <td>0.877923</td>\n      <td>0.000000</td>\n      <td>0.000000</td>\n      <td>False</td>\n      <td>0.544088</td>\n      <td>6</td>\n      <td>POINT (297627.8956108263 3274212.6570090423)</td>\n      <td>False</td>\n      <td>0.00</td>\n    </tr>\n    <tr>\n      <th>2</th>\n      <td>2.261889</td>\n      <td>0.790809</td>\n      <td>0.000000</td>\n      <td>0.000000</td>\n      <td>False</td>\n      <td>0.516384</td>\n      <td>2</td>\n      <td>POINT (293792.7347641664 3304310.6385381934)</td>\n      <td>False</td>\n      <td>0.00</td>\n    </tr>\n    <tr>\n      <th>3</th>\n      <td>1.487517</td>\n      <td>0.717635</td>\n      <td>0.000000</td>\n      <td>0.000000</td>\n      <td>False</td>\n      <td>0.507935</td>\n      <td>4</td>\n      <td>POINT (265575.6818158605 3290399.9717597775)</td>\n      <td>True</td>\n      <td>0.00</td>\n    </tr>\n    <tr>\n      <th>4</th>\n      <td>0.715288</td>\n      <td>0.589797</td>\n      <td>0.000000</td>\n      <td>0.000000</td>\n      <td>False</td>\n      <td>0.823913</td>\n      <td>6</td>\n      <td>POINT (260304.83997850376 3277384.936265996)</td>\n      <td>False</td>\n      <td>0.00</td>\n    </tr>\n    <tr>\n      <th>...</th>\n      <th>...</th>\n      <td>...</td>\n      <td>...</td>\n      <td>...</td>\n      <td>...</td>\n      <td>...</td>\n      <td>...</td>\n      <td>...</td>\n      <td>...</td>\n      <td>...</td>\n      <td>...</td>\n    </tr>\n    <tr>\n      <th rowspan=\"5\" valign=\"top\">79</th>\n      <th>45</th>\n      <td>0.000000</td>\n      <td>0.000000</td>\n      <td>0.000000</td>\n      <td>0.000000</td>\n      <td>False</td>\n      <td>0.755951</td>\n      <td>4</td>\n      <td>POINT (243583.92583976316 3332728.432258534)</td>\n      <td>False</td>\n      <td>0.00</td>\n    </tr>\n    <tr>\n      <th>46</th>\n      <td>1.571640</td>\n      <td>0.727240</td>\n      <td>0.806734</td>\n      <td>0.610803</td>\n      <td>True</td>\n      <td>0.256773</td>\n      <td>3</td>\n      <td>POINT (245440.71037575652 3292553.4779036953)</td>\n      <td>False</td>\n      <td>0.00</td>\n    </tr>\n    <tr>\n      <th>47</th>\n      <td>0.952662</td>\n      <td>0.639833</td>\n      <td>0.571433</td>\n      <td>0.550593</td>\n      <td>False</td>\n      <td>0.395236</td>\n      <td>3</td>\n      <td>POINT (259977.2863508964 3306753.724684249)</td>\n      <td>False</td>\n      <td>-0.26</td>\n    </tr>\n    <tr>\n      <th>48</th>\n      <td>0.546889</td>\n      <td>0.542927</td>\n      <td>0.430056</td>\n      <td>0.500965</td>\n      <td>False</td>\n      <td>0.879132</td>\n      <td>4</td>\n      <td>POINT (304284.2405821579 3296306.6304419013)</td>\n      <td>False</td>\n      <td>0.00</td>\n    </tr>\n    <tr>\n      <th>49</th>\n      <td>0.815716</td>\n      <td>0.612736</td>\n      <td>0.572746</td>\n      <td>0.550993</td>\n      <td>False</td>\n      <td>0.257932</td>\n      <td>5</td>\n      <td>POINT (270552.20506499894 3273501.898997991)</td>\n      <td>False</td>\n      <td>-0.18</td>\n    </tr>\n  </tbody>\n</table>\n<p>4000 rows × 10 columns</p>\n</div>"
     },
     "execution_count": 10,
     "metadata": {},
     "output_type": "execute_result"
    }
   ],
   "source": [
    "agent_data = model.datacollector.get_agent_vars_dataframe()\n",
    "len([i for i in model.schedule.agents if i.has_child])\n",
    "agent_data\n",
    "\n",
    "# for agent in model.schedule.agents:\n",
    "#     print(f'{agent.unique_id} has an agent bias of {round(agent.general_bias_in_network, 3)}, a estimated flood damage of {round(agent.flood_damage_estimated, 3)} and is adapted is {agent.is_adapted} and has identity: {agent.identity}\\n')\n",
    "#     \n",
    "# for agent in model.schedule.agents:\n",
    "#     print(f'{agent.unique_id} has an agent bias of {round(agent.general_bias_in_network, 3)}, a impacted bias because of flooding {round(agent.actual_flood_impact_on_bias, 3)}')\n",
    "\n",
    "    "
   ]
  },
  {
   "cell_type": "code",
   "execution_count": 11,
   "outputs": [
    {
     "data": {
      "text/plain": "0.02884601770234907"
     },
     "execution_count": 11,
     "metadata": {},
     "output_type": "execute_result"
    }
   ],
   "source": [
    "# sum([i.general_bias_in_network for i in model.schedule.agents])/len(model.schedule.agents)\n",
    "\n",
    "max([i.actual_flood_impact_on_bias for i in model.schedule.agents])"
   ],
   "metadata": {
    "collapsed": false,
    "ExecuteTime": {
     "end_time": "2024-01-21T14:23:54.185905900Z",
     "start_time": "2024-01-21T14:23:54.172484Z"
    }
   }
  },
  {
   "cell_type": "code",
   "execution_count": 12,
   "metadata": {
    "ExecuteTime": {
     "end_time": "2024-01-21T14:23:56.525483Z",
     "start_time": "2024-01-21T14:23:56.516348600Z"
    }
   },
   "outputs": [
    {
     "data": {
      "text/plain": "    total_adapted_households\n0                          0\n1                         12\n2                         12\n3                         13\n4                         13\n..                       ...\n75                        23\n76                        23\n77                        23\n78                        23\n79                        23\n\n[80 rows x 1 columns]",
      "text/html": "<div>\n<style scoped>\n    .dataframe tbody tr th:only-of-type {\n        vertical-align: middle;\n    }\n\n    .dataframe tbody tr th {\n        vertical-align: top;\n    }\n\n    .dataframe thead th {\n        text-align: right;\n    }\n</style>\n<table border=\"1\" class=\"dataframe\">\n  <thead>\n    <tr style=\"text-align: right;\">\n      <th></th>\n      <th>total_adapted_households</th>\n    </tr>\n  </thead>\n  <tbody>\n    <tr>\n      <th>0</th>\n      <td>0</td>\n    </tr>\n    <tr>\n      <th>1</th>\n      <td>12</td>\n    </tr>\n    <tr>\n      <th>2</th>\n      <td>12</td>\n    </tr>\n    <tr>\n      <th>3</th>\n      <td>13</td>\n    </tr>\n    <tr>\n      <th>4</th>\n      <td>13</td>\n    </tr>\n    <tr>\n      <th>...</th>\n      <td>...</td>\n    </tr>\n    <tr>\n      <th>75</th>\n      <td>23</td>\n    </tr>\n    <tr>\n      <th>76</th>\n      <td>23</td>\n    </tr>\n    <tr>\n      <th>77</th>\n      <td>23</td>\n    </tr>\n    <tr>\n      <th>78</th>\n      <td>23</td>\n    </tr>\n    <tr>\n      <th>79</th>\n      <td>23</td>\n    </tr>\n  </tbody>\n</table>\n<p>80 rows × 1 columns</p>\n</div>"
     },
     "execution_count": 12,
     "metadata": {},
     "output_type": "execute_result"
    }
   ],
   "source": [
    "model_data = model.datacollector.get_model_vars_dataframe()\n",
    "model_data"
   ]
  },
  {
   "cell_type": "code",
   "execution_count": null,
   "outputs": [],
   "source": [],
   "metadata": {
    "collapsed": false
   }
  }
 ],
 "metadata": {
  "kernelspec": {
   "display_name": "tb231c",
   "language": "python",
   "name": "python3"
  },
  "language_info": {
   "codemirror_mode": {
    "name": "ipython",
    "version": 3
   },
   "file_extension": ".py",
   "mimetype": "text/x-python",
   "name": "python",
   "nbconvert_exporter": "python",
   "pygments_lexer": "ipython3",
   "version": "3.9.15"
  },
  "orig_nbformat": 4,
  "vscode": {
   "interpreter": {
    "hash": "ba734c44879edc1aadd96d1483e3c8c4b172ceac85e15a48cc8368b614d0488f"
   }
  }
 },
 "nbformat": 4,
 "nbformat_minor": 2
}
