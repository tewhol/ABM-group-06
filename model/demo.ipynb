{
 "cells": [
  {
   "attachments": {},
   "cell_type": "markdown",
   "metadata": {},
   "source": [
    "# Flood Adaptation: Minimal Model"
   ]
  },
  {
   "attachments": {},
   "cell_type": "markdown",
   "metadata": {},
   "source": [
    "This python script outlines a basic Agent-Based Model (ABM) developed using the Mesa framework, designed as a simplified representation of household adaptation to flood events in a social network context. The model serves as a template for understanding the fundamental mechanics of flood adapdtation with a given social network.\n",
    "\n",
    "This directory is structured as follows:\n",
    " - A Mesa Agent class `Households` is defined in `agents.py`\n",
    " - A Mesa Agent class `Government` is defined in `agents.py` (this agent currently does not perform any action)\n",
    " - A Mesa Model class `AdaptationModel` is defined in `model.py`\n",
    " - This notebook `demo.ipynb` provides a demonstration of the model and its visualization.\n",
    "\n",
    "Each household agent in the model represents a household with attributes and behaviors that determine its response to flood events. The flood depth attribute assigned to each household is currently random for demonstration purposes. The decision by each household to adapt is also arbitrary. In a more comprehensive model, this could be replaced with more sophisticated decision-making algorithms.\n",
    "\n",
    "The current implementation includes several simplifications and arbitrary choices, such as random flood depths and basic adaptation logic based on random thresholds. These aspects are designed for clarity and ease of understanding and should be replaced with realistic and sound choices.\n",
    "\n",
    "You are encouraged to modify, expand, and customize the model. This might include integrating real-world data, implementing more complex decision-making processes for agents, or exploring different network topologies and their effects on social dynamics.\n",
    "\n",
    "The visualisation provided is basic. Additional aspects can be added for visualization and more in-depth analysis.\n",
    "\n",
    "_This notebook was tested on 2023-11-13 with Mesa version 2.1.4 on Python 3.12.0._"
   ]
  },
  {
   "attachments": {},
   "cell_type": "markdown",
   "metadata": {},
   "source": [
    "# Running the model and visualizing the model domain and social network over time"
   ]
  },
  {
   "cell_type": "code",
   "execution_count": 12,
   "metadata": {
    "ExecuteTime": {
     "end_time": "2024-01-20T15:50:56.237766400Z",
     "start_time": "2024-01-20T15:50:56.112242400Z"
    }
   },
   "outputs": [
    {
     "name": "stdout",
     "output_type": "stream",
     "text": [
      "step: 0 : 9 adapted with a bias of 0 and a estimated damage of 1!\n",
      "step: 3 : 8 adapted with a bias of 0.6000000000000001 and a estimated damage of 0.35547224657343!\n",
      "step: 4 : 6 adapted with a bias of 0.4 and a estimated damage of 0.53927411832719!\n",
      "step: 5 : 10 adapted with a bias of 0.4 and a estimated damage of 0.6814665495247537!\n",
      "step: 6 : 4 adapted with a bias of 0.4 and a estimated damage of 0.6114146391113984!\n",
      "step: 7 : 14 adapted with a bias of 0.4 and a estimated damage of 0.6594873197404011!\n",
      "step: 8 : 13 adapted with a bias of 0.4 and a estimated damage of 0.6557668471873622!\n",
      "step: 8 : 12 adapted with a bias of 0.4 and a estimated damage of 0.5959066918060847!\n",
      "step: 9 : 39 adapted with a bias of 0.4 and a estimated damage of 0.6921347943585138!\n",
      "step: 9 : 11 adapted with a bias of 0.6000000000000001 and a estimated damage of 0.5748322319689031!\n",
      "step: 10 : 20 adapted with a bias of 0.4 and a estimated damage of 0.6823497493915556!\n",
      "step: 10 : 16 adapted with a bias of 0.2 and a estimated damage of 0.817349947495615!\n",
      "step: 11 : 15 adapted with a bias of 0.4 and a estimated damage of 0.5296277277444674!\n",
      "step: 11 : 44 adapted with a bias of 0.6000000000000001 and a estimated damage of 0.42439753705399197!\n",
      "step: 11 : 18 adapted with a bias of 0.4 and a estimated damage of 0.6169970880490075!\n",
      "step: 12 : 34 adapted with a bias of 0.6000000000000001 and a estimated damage of 0.41353221083612146!\n",
      "step: 12 : 17 adapted with a bias of 1.2 and a estimated damage of 0!\n",
      "step: 12 : 19 adapted with a bias of 0.6000000000000001 and a estimated damage of 0.35203370018146296!\n",
      "step: 13 : 45 adapted with a bias of 0.2 and a estimated damage of 0.861740350790908!\n",
      "step: 13 : 43 adapted with a bias of 0.6000000000000001 and a estimated damage of 0.4559944006063505!\n",
      "step: 14 : 0 adapted with a bias of 0.6000000000000001 and a estimated damage of 0.3523405336500873!\n",
      "step: 15 : 41 adapted with a bias of 0.4 and a estimated damage of 0.5927756389042406!\n",
      "step: 15 : 23 adapted with a bias of 0.4 and a estimated damage of 0.5626841998259475!\n",
      "step: 15 : 36 adapted with a bias of 0.4 and a estimated damage of 0.5974778116144523!\n",
      "step: 15 : 24 adapted with a bias of 0.39999999999999997 and a estimated damage of 0.6399853610193152!\n",
      "step: 15 : 21 adapted with a bias of 0.6 and a estimated damage of 0.44064029240947544!\n",
      "step: 16 : 46 adapted with a bias of 1.0 and a estimated damage of 0!\n",
      "step: 16 : 29 adapted with a bias of 0.4 and a estimated damage of 0.5086594369739746!\n",
      "step: 17 : 48 adapted with a bias of 1.0 and a estimated damage of 0!\n",
      "step: 18 : 22 adapted with a bias of 0.8 and a estimated damage of 0.5273597381986417!\n",
      "step: 19 : 33 adapted with a bias of 0.6000000000000001 and a estimated damage of 0.6054624772915695!\n"
     ]
    }
   ],
   "source": [
    "import random\n",
    "\n",
    "from model import AdaptationModel\n",
    "import matplotlib.pyplot as plt\n",
    "import networkx as nx\n",
    "\n",
    "# Determine the input values for your network and dynamic parameters and how they should be distributed throughout the population.\n",
    "network_dynamics_dictionary = {\n",
    "                # The social network structure that is used. Can currently be\n",
    "                # \"erdos_renyi\", \"barabasi_albert\", \"watts_strogatz\", or \"no_network\"\n",
    "                \"network\": 'watts_strogatz',\n",
    "                \"number_of_households\": 50,  # number of household agents\n",
    "                \"probability_of_network_connection\": 0.4,  # likeliness of edge being created between two nodes\n",
    "                \"number_of_edges\": 3,  # number of edges for BA network\n",
    "                \"number_of_nearest_neighbours\": 5,  # number of nearest neighbours for WS social network\n",
    "                \"household_tolerance\": 0.1,  # the tolerance level for each agent,\n",
    "                \"flood_time_tick\": 5,  # time of flood\n",
    "                \"seed\": 1  # The seed used to generate pseudo random numbers\n",
    "            }\n",
    "\n",
    "# Determine the input values for your agent's attributes and how they should be distributed throughout the population.\n",
    "attribute_dictionary = {\n",
    "                \"wealth\": [0.2, 'UI', (0, 3)],\n",
    "                \"has_child\": [0.2, 'B', (0.2)],\n",
    "                \"house_size\": [0.05, 'UI', (0, 2)],\n",
    "                \"house_type\": [0.05, 'UI', (0, 1)],\n",
    "                \"education_level\": [0.05, 'UI', (0, 3)],\n",
    "                \"social_preference\": [0.2, 'U', (-1, 1)],\n",
    "                \"age\": [0.2, 'N', (33.4, 5)]\n",
    "            }\n",
    "\n",
    "# Defining the standard values for agent interaction dynamics in case none are provided.\n",
    "agent_interaction_dictionary = {\n",
    "                \"household_tolerance\": 0.3,  # the tolerance level for each agent\n",
    "                \"bias_change_per_tick\": 0.2,  # Bias change per tick when an agent when it's influenced by its network\n",
    "                \"probability_positive_bias_change\": 1,  # Probability that agent changes it's bias positively\n",
    "                \"probability_negative_bias_change\": 0.05,  # Probability that agent changes it's bias negatively\n",
    "                \"adaption_threshold\": 0.9  # Threshold of bias an agent needs to adapt\n",
    "            }\n",
    "\n",
    "# Initialize the Adaptation Model with 50 household agents.\n",
    "model = AdaptationModel(network_dynamics_dictionary=network_dynamics_dictionary, attribute_dictionary=attribute_dictionary, agent_interaction_dictionary= agent_interaction_dictionary)\n",
    "# flood_map_choice can be \"harvey\", \"100yr\", or \"500yr\"\n",
    "\n",
    "# Calculate positions of nodes for the network plot.\n",
    "# The spring_layout function positions nodes using a force-directed algorithm,\n",
    "# which helps visualize the structure of the social network.\n",
    "pos = nx.spring_layout(model.G)\n",
    "\n",
    "# Define a function to plot agents on the network.\n",
    "# This function takes a matplotlib axes object and the model as inputs.\n",
    "# def plot_network(ax, model):\n",
    "#     # Clear the current axes.\n",
    "#     ax.clear()\n",
    "#     # Determine the color of each node (agent) based on their adaptation status.\n",
    "#     colors = ['blue' if agent.is_adapted else 'red' for agent in model.schedule.agents]\n",
    "#     # Draw the network with node colors and labels.\n",
    "#     nx.draw(model.G, pos, node_color=colors, with_labels=True, ax=ax)\n",
    "#     # Set the title of the plot with the current step number.\n",
    "#     ax.set_title(f\"Social Network State at Step {model.schedule.steps}\", fontsize=12)\n",
    "\n",
    "# Generate the initial plots at step 0.\n",
    "# Plot the spatial distribution of agents. This is a function written in the model.py\n",
    "# model.plot_model_domain_with_agents()\n",
    "\n",
    "# Plot the initial state of the social network.\n",
    "# fig, ax = plt.subplots(figsize=(7, 7))\n",
    "# plot_network(ax, model)\n",
    "# plt.show()\n",
    "\n",
    "# Run the model for 20 steps and generate plots every 5 steps.\n",
    "for step in range(20):\n",
    "    model.step()\n",
    "# \n",
    "#     # Every 5 steps, generate and display plots for both the spatial distribution and network.\n",
    "#     # Note the first step is step 0, so the plots will be generated at steps 4, 9, 14, and 19, which are the 5th, 10th, 15th, and 20th steps.\n",
    "#     if (step + 1) % 10 == 0:\n",
    "#         # Plot for the spatial map showing agent locations and adaptation status.\n",
    "#         plt.figure(figsize=(10, 6))\n",
    "#         model.plot_model_domain_with_agents()\n",
    "# \n",
    "#         # Plot for the social network showing connections and adaptation statuses.\n",
    "#         fig, ax = plt.subplots(figsize=(7, 7))\n",
    "#         plot_network(ax, model)\n",
    "#         plt.show()"
   ]
  },
  {
   "cell_type": "code",
   "execution_count": 13,
   "metadata": {
    "ExecuteTime": {
     "end_time": "2024-01-20T15:51:00.773040500Z",
     "start_time": "2024-01-20T15:51:00.741256800Z"
    }
   },
   "outputs": [
    {
     "data": {
      "text/plain": "              FloodDepthEstimated  FloodDamageEstimated  FloodDepthActual  \\\nStep AgentID                                                                \n0    0                   0.183586              0.352341          0.000000   \n     1                   0.266617              0.417489          0.000000   \n     2                   0.492401              0.524603          0.000000   \n     3                   1.792309              0.750180          0.000000   \n     4                   0.809566              0.611415          0.000000   \n...                           ...                   ...               ...   \n19   45                  3.395508              0.861740          2.911130   \n     46                  0.000000              0.000000          0.000000   \n     47                  1.050894              0.656967          0.635013   \n     48                  0.000000              0.000000          0.000000   \n     49                  1.727493              0.743749          1.212676   \n\n              FloodDamageActual  IsAdapted  Conviction  FriendsCount  \\\nStep AgentID                                                           \n0    0                 0.000000      False    0.421215             3   \n     1                 0.000000      False    0.286380             6   \n     2                 0.000000      False    0.410683             2   \n     3                 0.000000      False    0.199998             4   \n     4                 0.000000      False    0.819154             6   \n...                         ...        ...         ...           ...   \n19   45                0.834867       True    0.692630             4   \n     46                0.000000       True    0.329376             3   \n     47                0.569012      False    0.693394             3   \n     48                0.000000       True    0.699899             4   \n     49                0.681968      False    0.901700             5   \n\n                                                   location  HasChild  \\\nStep AgentID                                                            \n0    0        POINT (223226.36165408476 3315557.2672322504)     False   \n     1         POINT (261428.70919878504 3326665.747637199)     False   \n     2         POINT (227546.01791107949 3348009.260806306)      True   \n     3         POINT (231774.91068052858 3327757.783843969)     False   \n     4         POINT (218998.3983496831 3323948.9129254585)     False   \n...                                                     ...       ...   \n19   45        POINT (219405.80970705827 3328809.826580425)     False   \n     46        POINT (225786.34175544517 3327995.504275322)      True   \n     47        POINT (252564.68277188475 3292774.660476982)     False   \n     48        POINT (247845.9989428391 3285958.0909120278)     False   \n     49       POINT (254082.21251367082 3282312.8577439855)     False   \n\n              AgentBias  \nStep AgentID             \n0    0              0.0  \n     1              0.0  \n     2              0.0  \n     3              0.0  \n     4              0.0  \n...                 ...  \n19   45             2.2  \n     46             1.4  \n     47             0.0  \n     48             1.2  \n     49            -0.6  \n\n[1000 rows x 10 columns]",
      "text/html": "<div>\n<style scoped>\n    .dataframe tbody tr th:only-of-type {\n        vertical-align: middle;\n    }\n\n    .dataframe tbody tr th {\n        vertical-align: top;\n    }\n\n    .dataframe thead th {\n        text-align: right;\n    }\n</style>\n<table border=\"1\" class=\"dataframe\">\n  <thead>\n    <tr style=\"text-align: right;\">\n      <th></th>\n      <th></th>\n      <th>FloodDepthEstimated</th>\n      <th>FloodDamageEstimated</th>\n      <th>FloodDepthActual</th>\n      <th>FloodDamageActual</th>\n      <th>IsAdapted</th>\n      <th>Conviction</th>\n      <th>FriendsCount</th>\n      <th>location</th>\n      <th>HasChild</th>\n      <th>AgentBias</th>\n    </tr>\n    <tr>\n      <th>Step</th>\n      <th>AgentID</th>\n      <th></th>\n      <th></th>\n      <th></th>\n      <th></th>\n      <th></th>\n      <th></th>\n      <th></th>\n      <th></th>\n      <th></th>\n      <th></th>\n    </tr>\n  </thead>\n  <tbody>\n    <tr>\n      <th rowspan=\"5\" valign=\"top\">0</th>\n      <th>0</th>\n      <td>0.183586</td>\n      <td>0.352341</td>\n      <td>0.000000</td>\n      <td>0.000000</td>\n      <td>False</td>\n      <td>0.421215</td>\n      <td>3</td>\n      <td>POINT (223226.36165408476 3315557.2672322504)</td>\n      <td>False</td>\n      <td>0.0</td>\n    </tr>\n    <tr>\n      <th>1</th>\n      <td>0.266617</td>\n      <td>0.417489</td>\n      <td>0.000000</td>\n      <td>0.000000</td>\n      <td>False</td>\n      <td>0.286380</td>\n      <td>6</td>\n      <td>POINT (261428.70919878504 3326665.747637199)</td>\n      <td>False</td>\n      <td>0.0</td>\n    </tr>\n    <tr>\n      <th>2</th>\n      <td>0.492401</td>\n      <td>0.524603</td>\n      <td>0.000000</td>\n      <td>0.000000</td>\n      <td>False</td>\n      <td>0.410683</td>\n      <td>2</td>\n      <td>POINT (227546.01791107949 3348009.260806306)</td>\n      <td>True</td>\n      <td>0.0</td>\n    </tr>\n    <tr>\n      <th>3</th>\n      <td>1.792309</td>\n      <td>0.750180</td>\n      <td>0.000000</td>\n      <td>0.000000</td>\n      <td>False</td>\n      <td>0.199998</td>\n      <td>4</td>\n      <td>POINT (231774.91068052858 3327757.783843969)</td>\n      <td>False</td>\n      <td>0.0</td>\n    </tr>\n    <tr>\n      <th>4</th>\n      <td>0.809566</td>\n      <td>0.611415</td>\n      <td>0.000000</td>\n      <td>0.000000</td>\n      <td>False</td>\n      <td>0.819154</td>\n      <td>6</td>\n      <td>POINT (218998.3983496831 3323948.9129254585)</td>\n      <td>False</td>\n      <td>0.0</td>\n    </tr>\n    <tr>\n      <th>...</th>\n      <th>...</th>\n      <td>...</td>\n      <td>...</td>\n      <td>...</td>\n      <td>...</td>\n      <td>...</td>\n      <td>...</td>\n      <td>...</td>\n      <td>...</td>\n      <td>...</td>\n      <td>...</td>\n    </tr>\n    <tr>\n      <th rowspan=\"5\" valign=\"top\">19</th>\n      <th>45</th>\n      <td>3.395508</td>\n      <td>0.861740</td>\n      <td>2.911130</td>\n      <td>0.834867</td>\n      <td>True</td>\n      <td>0.692630</td>\n      <td>4</td>\n      <td>POINT (219405.80970705827 3328809.826580425)</td>\n      <td>False</td>\n      <td>2.2</td>\n    </tr>\n    <tr>\n      <th>46</th>\n      <td>0.000000</td>\n      <td>0.000000</td>\n      <td>0.000000</td>\n      <td>0.000000</td>\n      <td>True</td>\n      <td>0.329376</td>\n      <td>3</td>\n      <td>POINT (225786.34175544517 3327995.504275322)</td>\n      <td>True</td>\n      <td>1.4</td>\n    </tr>\n    <tr>\n      <th>47</th>\n      <td>1.050894</td>\n      <td>0.656967</td>\n      <td>0.635013</td>\n      <td>0.569012</td>\n      <td>False</td>\n      <td>0.693394</td>\n      <td>3</td>\n      <td>POINT (252564.68277188475 3292774.660476982)</td>\n      <td>False</td>\n      <td>0.0</td>\n    </tr>\n    <tr>\n      <th>48</th>\n      <td>0.000000</td>\n      <td>0.000000</td>\n      <td>0.000000</td>\n      <td>0.000000</td>\n      <td>True</td>\n      <td>0.699899</td>\n      <td>4</td>\n      <td>POINT (247845.9989428391 3285958.0909120278)</td>\n      <td>False</td>\n      <td>1.2</td>\n    </tr>\n    <tr>\n      <th>49</th>\n      <td>1.727493</td>\n      <td>0.743749</td>\n      <td>1.212676</td>\n      <td>0.681968</td>\n      <td>False</td>\n      <td>0.901700</td>\n      <td>5</td>\n      <td>POINT (254082.21251367082 3282312.8577439855)</td>\n      <td>False</td>\n      <td>-0.6</td>\n    </tr>\n  </tbody>\n</table>\n<p>1000 rows × 10 columns</p>\n</div>"
     },
     "execution_count": 13,
     "metadata": {},
     "output_type": "execute_result"
    }
   ],
   "source": [
    "agent_data = model.datacollector.get_agent_vars_dataframe()\n",
    "len([i for i in model.schedule.agents if i.has_child])\n",
    "agent_data\n",
    "\n",
    "# for agent in model.schedule.agents:\n",
    "#     print(f'{agent.unique_id} has an agent bias of {round(agent.general_bias_in_network, 3)}, a estimated flood damage of {round(agent.flood_damage_estimated, 3)} and is adapted is {agent.is_adapted} and has conviction: {agent.conviction}\\n')\n",
    "#     \n",
    "# for agent in model.schedule.agents:\n",
    "#     print(f'{agent.unique_id} has an agent bias of {round(agent.general_bias_in_network, 3)}, a impacted bias because of flooding {round(agent.actual_flood_impact_on_bias, 3)}')\n",
    "\n",
    "    "
   ]
  },
  {
   "cell_type": "code",
   "execution_count": 5,
   "outputs": [
    {
     "data": {
      "text/plain": "0.027793895941159996"
     },
     "execution_count": 5,
     "metadata": {},
     "output_type": "execute_result"
    }
   ],
   "source": [
    "# sum([i.general_bias_in_network for i in model.schedule.agents])/len(model.schedule.agents)\n",
    "\n",
    "max([i.actual_flood_impact_on_bias for i in model.schedule.agents])"
   ],
   "metadata": {
    "collapsed": false,
    "ExecuteTime": {
     "end_time": "2024-01-19T16:56:30.756906800Z",
     "start_time": "2024-01-19T16:56:30.753856300Z"
    }
   }
  },
  {
   "cell_type": "code",
   "execution_count": 30,
   "metadata": {
    "ExecuteTime": {
     "end_time": "2024-01-18T17:24:40.810955500Z",
     "start_time": "2024-01-18T17:24:40.804294800Z"
    }
   },
   "outputs": [
    {
     "data": {
      "text/plain": "    total_adapted_households\n0                          0\n1                          9\n2                          9\n3                         10\n4                         11\n5                         11\n6                         11\n7                         12\n8                         12\n9                         12\n10                        12\n11                        12\n12                        13\n13                        13\n14                        13\n15                        13\n16                        13\n17                        13\n18                        13\n19                        13",
      "text/html": "<div>\n<style scoped>\n    .dataframe tbody tr th:only-of-type {\n        vertical-align: middle;\n    }\n\n    .dataframe tbody tr th {\n        vertical-align: top;\n    }\n\n    .dataframe thead th {\n        text-align: right;\n    }\n</style>\n<table border=\"1\" class=\"dataframe\">\n  <thead>\n    <tr style=\"text-align: right;\">\n      <th></th>\n      <th>total_adapted_households</th>\n    </tr>\n  </thead>\n  <tbody>\n    <tr>\n      <th>0</th>\n      <td>0</td>\n    </tr>\n    <tr>\n      <th>1</th>\n      <td>9</td>\n    </tr>\n    <tr>\n      <th>2</th>\n      <td>9</td>\n    </tr>\n    <tr>\n      <th>3</th>\n      <td>10</td>\n    </tr>\n    <tr>\n      <th>4</th>\n      <td>11</td>\n    </tr>\n    <tr>\n      <th>5</th>\n      <td>11</td>\n    </tr>\n    <tr>\n      <th>6</th>\n      <td>11</td>\n    </tr>\n    <tr>\n      <th>7</th>\n      <td>12</td>\n    </tr>\n    <tr>\n      <th>8</th>\n      <td>12</td>\n    </tr>\n    <tr>\n      <th>9</th>\n      <td>12</td>\n    </tr>\n    <tr>\n      <th>10</th>\n      <td>12</td>\n    </tr>\n    <tr>\n      <th>11</th>\n      <td>12</td>\n    </tr>\n    <tr>\n      <th>12</th>\n      <td>13</td>\n    </tr>\n    <tr>\n      <th>13</th>\n      <td>13</td>\n    </tr>\n    <tr>\n      <th>14</th>\n      <td>13</td>\n    </tr>\n    <tr>\n      <th>15</th>\n      <td>13</td>\n    </tr>\n    <tr>\n      <th>16</th>\n      <td>13</td>\n    </tr>\n    <tr>\n      <th>17</th>\n      <td>13</td>\n    </tr>\n    <tr>\n      <th>18</th>\n      <td>13</td>\n    </tr>\n    <tr>\n      <th>19</th>\n      <td>13</td>\n    </tr>\n  </tbody>\n</table>\n</div>"
     },
     "execution_count": 30,
     "metadata": {},
     "output_type": "execute_result"
    }
   ],
   "source": [
    "model_data = model.datacollector.get_model_vars_dataframe()\n",
    "model_data"
   ]
  }
 ],
 "metadata": {
  "kernelspec": {
   "display_name": "tb231c",
   "language": "python",
   "name": "python3"
  },
  "language_info": {
   "codemirror_mode": {
    "name": "ipython",
    "version": 3
   },
   "file_extension": ".py",
   "mimetype": "text/x-python",
   "name": "python",
   "nbconvert_exporter": "python",
   "pygments_lexer": "ipython3",
   "version": "3.9.15"
  },
  "orig_nbformat": 4,
  "vscode": {
   "interpreter": {
    "hash": "ba734c44879edc1aadd96d1483e3c8c4b172ceac85e15a48cc8368b614d0488f"
   }
  }
 },
 "nbformat": 4,
 "nbformat_minor": 2
}
