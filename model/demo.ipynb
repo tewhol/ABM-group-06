{
 "cells": [
  {
   "attachments": {},
   "cell_type": "markdown",
   "metadata": {},
   "source": [
    "# Flood Adaptation: Minimal Model"
   ]
  },
  {
   "attachments": {},
   "cell_type": "markdown",
   "metadata": {},
   "source": [
    "This python script outlines a basic Agent-Based Model (ABM) developed using the Mesa framework, designed as a simplified representation of household adaptation to flood events in a social network context. The model serves as a template for understanding the fundamental mechanics of flood adapdtation with a given social network.\n",
    "\n",
    "This directory is structured as follows:\n",
    " - A Mesa Agent class `Households` is defined in `agents.py`\n",
    " - A Mesa Agent class `Government` is defined in `agents.py` (this agent currently does not perform any action)\n",
    " - A Mesa Model class `AdaptationModel` is defined in `model.py`\n",
    " - This notebook `demo.ipynb` provides a demonstration of the model and its visualization.\n",
    "\n",
    "Each household agent in the model represents a household with attributes and behaviors that determine its response to flood events. The flood depth attribute assigned to each household is currently random for demonstration purposes. The decision by each household to adapt is also arbitrary. In a more comprehensive model, this could be replaced with more sophisticated decision-making algorithms.\n",
    "\n",
    "The current implementation includes several simplifications and arbitrary choices, such as random flood depths and basic adaptation logic based on random thresholds. These aspects are designed for clarity and ease of understanding and should be replaced with realistic and sound choices.\n",
    "\n",
    "You are encouraged to modify, expand, and customize the model. This might include integrating real-world data, implementing more complex decision-making processes for agents, or exploring different network topologies and their effects on social dynamics.\n",
    "\n",
    "The visualisation provided is basic. Additional aspects can be added for visualization and more in-depth analysis.\n",
    "\n",
    "_This notebook was tested on 2023-11-13 with Mesa version 2.1.4 on Python 3.12.0._"
   ]
  },
  {
   "attachments": {},
   "cell_type": "markdown",
   "metadata": {},
   "source": [
    "# Running the model and visualizing the model domain and social network over time"
   ]
  },
  {
   "cell_type": "code",
   "execution_count": 13,
   "metadata": {
    "ExecuteTime": {
     "end_time": "2024-01-21T14:24:46.604857600Z",
     "start_time": "2024-01-21T14:24:46.537376900Z"
    }
   },
   "outputs": [
    {
     "name": "stdout",
     "output_type": "stream",
     "text": [
      "step: 0 : 38 adapted with a bias of 0 and a estimated damage of 1!\n",
      "step: 0 : 1 adapted with a bias of -0.02 and a estimated damage of 1!\n",
      "step: 0 : 29 adapted with a bias of 0 and a estimated damage of 0.8548709702638162!\n",
      "step: 0 : 24 adapted with a bias of 0 and a estimated damage of 0.7705434188302884!\n",
      "step: 0 : 18 adapted with a bias of 0 and a estimated damage of 0.7095551845290607!\n",
      "step: 0 : 16 adapted with a bias of 0 and a estimated damage of 0.7570011430431214!\n",
      "step: 0 : 49 adapted with a bias of 0 and a estimated damage of 1!\n",
      "step: 0 : 12 adapted with a bias of 0 and a estimated damage of 0.7869106585121985!\n",
      "step: 0 : 17 adapted with a bias of 0 and a estimated damage of 0.9353670355337003!\n",
      "step: 0 : 41 adapted with a bias of 0 and a estimated damage of 1!\n",
      "step: 0 : 23 adapted with a bias of 0 and a estimated damage of 0.7065021840590641!\n",
      "step: 0 : 4 adapted with a bias of 0 and a estimated damage of 0.8309485378482248!\n",
      "step: 2 : 13 adapted with a bias of 0.02 and a estimated damage of 0.6839329537213699!\n",
      "step: 3 : 42 adapted with a bias of 0.02 and a estimated damage of 0.6956649022382129!\n",
      "step: 5 : 46 adapted with a bias of 0 and a estimated damage of 0.6825124406250123!\n",
      "step: 8 : 36 adapted with a bias of 0.12000000000000001 and a estimated damage of 0.5631555738980701!\n",
      "step: 15 : 5 adapted with a bias of 0.16 and a estimated damage of 0.6390215265054634!\n",
      "step: 23 : 47 adapted with a bias of 0.18 and a estimated damage of 0.500938302750001!\n",
      "step: 27 : 26 adapted with a bias of 0.3 and a estimated damage of 0.3862888245607884!\n",
      "step: 33 : 10 adapted with a bias of 0.21999999999999997 and a estimated damage of 0.5464612605351635!\n",
      "step: 35 : 45 adapted with a bias of 0.18 and a estimated damage of 0.5394590106298995!\n",
      "step: 40 : 48 adapted with a bias of 0.36000000000000004 and a estimated damage of 0.3514475859136698!\n",
      "step: 50 : 15 adapted with a bias of 0.34 and a estimated damage of 0.49091073756140535!\n",
      "step: 51 : 43 adapted with a bias of 0.4400000000000001 and a estimated damage of 0.37185988872709896!\n",
      "step: 59 : 27 adapted with a bias of 0.7000000000000003 and a estimated damage of 0!\n",
      "step: 66 : 14 adapted with a bias of 0.7000000000000003 and a estimated damage of 0!\n",
      "step: 68 : 37 adapted with a bias of 0.7000000000000003 and a estimated damage of 0!\n",
      "step: 70 : 8 adapted with a bias of 0.38000000000000006 and a estimated damage of 0.34961286734485464!\n",
      "step: 74 : 20 adapted with a bias of 0.7000000000000003 and a estimated damage of 0!\n"
     ]
    }
   ],
   "source": [
    "import random\n",
    "\n",
    "from model import AdaptationModel\n",
    "import matplotlib.pyplot as plt\n",
    "import networkx as nx\n",
    "\n",
    "# Determine the input values for your network and dynamic parameters and how they should be distributed throughout the population.\n",
    "network_dynamics_dictionary = {\n",
    "                # The social network structure that is used. Can currently be\n",
    "                # \"erdos_renyi\", \"barabasi_albert\", \"watts_strogatz\", or \"no_network\"\n",
    "                \"network\": 'watts_strogatz',\n",
    "                \"number_of_households\": 50,  # number of household agents\n",
    "                \"probability_of_network_connection\": 0.4,  # likeliness of edge being created between two nodes\n",
    "                \"number_of_edges\": 3,  # number of edges for BA network\n",
    "                \"number_of_nearest_neighbours\": 5,  # number of nearest neighbours for WS social network\n",
    "                \"flood_time_tick\": [5],  # list of flood times on the tick\n",
    "                \"flood_severity_probability\": (0.5, 1.2),  # Bounds between a Uniform distribution of the flood severity\n",
    "                \"seed\": 1  # The seed used to generate pseudo random numbers\n",
    "            }\n",
    "\n",
    "# Determine the input values for your agent's attributes and how they should be distributed throughout the population.\n",
    "attribute_dictionary = {\n",
    "                \"wealth\": [0.2, 'UI', (0, 3)],\n",
    "                \"has_child\": [0.2, 'B', (0.2)],\n",
    "                \"house_size\": [0.05, 'UI', (0, 2)],\n",
    "                \"house_type\": [0.05, 'UI', (0, 1)],\n",
    "                \"education_level\": [0.05, 'UI', (0, 3)],\n",
    "                \"social_preference\": [0.2, 'U', (-1, 1)],\n",
    "                \"age\": [0.2, 'N', (33.4, 5)]\n",
    "            }\n",
    "\n",
    "# Defining the standard values for agent interaction dynamics in case none are provided.\n",
    "agent_interaction_dictionary = {\n",
    "                \"household_tolerance\": 0.15,  # the tolerance level for each agent\n",
    "                \"bias_change_per_tick\": 0.02,  # Bias change per tick when an agent when it's influenced by its network\n",
    "                \"flood_impact_on_bias_factor\": 1,  # Defines factor regarding the actual and expected damage of flooding\n",
    "                \"probability_positive_bias_change\": 0.5,  # Probability that agent changes it's bias positively\n",
    "                \"probability_negative_bias_change\": 0.1,  # Probability that agent changes it's bias negatively\n",
    "                \"adaption_threshold\": 0.7  # Threshold of bias an agent needs to adapt\n",
    "            }\n",
    "\n",
    "# Initialize the Adaptation Model with 50 household agents.\n",
    "model = AdaptationModel(network_dynamics_dictionary=network_dynamics_dictionary, attribute_dictionary=attribute_dictionary, agent_interaction_dictionary= agent_interaction_dictionary)\n",
    "# flood_map_choice can be \"harvey\", \"100yr\", or \"500yr\"\n",
    "\n",
    "# Calculate positions of nodes for the network plot.\n",
    "# The spring_layout function positions nodes using a force-directed algorithm,\n",
    "# which helps visualize the structure of the social network.\n",
    "pos = nx.spring_layout(model.G)\n",
    "\n",
    "# Define a function to plot agents on the network.\n",
    "# This function takes a matplotlib axes object and the model as inputs.\n",
    "# def plot_network(ax, model):\n",
    "#     # Clear the current axes.\n",
    "#     ax.clear()\n",
    "#     # Determine the color of each node (agent) based on their adaptation status.\n",
    "#     colors = ['blue' if agent.is_adapted else 'red' for agent in model.schedule.agents]\n",
    "#     # Draw the network with node colors and labels.\n",
    "#     nx.draw(model.G, pos, node_color=colors, with_labels=True, ax=ax)\n",
    "#     # Set the title of the plot with the current step number.\n",
    "#     ax.set_title(f\"Social Network State at Step {model.schedule.steps}\", fontsize=12)\n",
    "\n",
    "# Generate the initial plots at step 0.\n",
    "# Plot the spatial distribution of agents. This is a function written in the model.py\n",
    "# model.plot_model_domain_with_agents()\n",
    "\n",
    "# Plot the initial state of the social network.\n",
    "# fig, ax = plt.subplots(figsize=(7, 7))\n",
    "# plot_network(ax, model)\n",
    "# plt.show()\n",
    "\n",
    "# Run the model for 20 steps and generate plots every 5 steps.\n",
    "for step in range(80):\n",
    "    model.step()\n",
    "# \n",
    "#     # Every 5 steps, generate and display plots for both the spatial distribution and network.\n",
    "#     # Note the first step is step 0, so the plots will be generated at steps 4, 9, 14, and 19, which are the 5th, 10th, 15th, and 20th steps.\n",
    "#     if (step + 1) % 10 == 0:\n",
    "#         # Plot for the spatial map showing agent locations and adaptation status.\n",
    "#         plt.figure(figsize=(10, 6))\n",
    "#         model.plot_model_domain_with_agents()\n",
    "# \n",
    "#         # Plot for the social network showing connections and adaptation statuses.\n",
    "#         fig, ax = plt.subplots(figsize=(7, 7))\n",
    "#         plot_network(ax, model)\n",
    "#         plt.show()"
   ]
  },
  {
   "cell_type": "code",
   "execution_count": 14,
   "metadata": {
    "ExecuteTime": {
     "end_time": "2024-01-21T14:28:42.696904400Z",
     "start_time": "2024-01-21T14:28:42.666331300Z"
    }
   },
   "outputs": [
    {
     "data": {
      "text/plain": "              FloodDepthEstimated  FloodDamageEstimated  FloodDepthActual  \\\nStep AgentID                                                                \n0    0                   0.779350              0.604773          0.000000   \n     1                   6.402948              1.000000          0.000000   \n     2                   0.642626              0.571093          0.000000   \n     3                   0.315795              0.447045          0.000000   \n     4                   2.846519              0.830949          0.000000   \n...                           ...                   ...               ...   \n79   45                  0.536133              0.539459          0.501634   \n     46                  1.216463              0.682512          1.448115   \n     47                  0.429989              0.500938          0.498942   \n     48                  0.182650              0.351448          0.178514   \n     49                  9.226017              1.000000          7.411401   \n\n              FloodDamageActual  IsAdapted  identity  FriendsCount  \\\nStep AgentID                                                         \n0    0                 0.000000      False  0.141350             3   \n     1                 0.000000      False  0.590319             6   \n     2                 0.000000      False  0.360749             2   \n     3                 0.000000      False  1.026729             4   \n     4                 0.000000      False  1.099769             6   \n...                         ...        ...       ...           ...   \n79   45                0.527846       True  0.351167             4   \n     46                0.712948       True  0.359290             3   \n     47                0.526907       True  0.640360             3   \n     48                0.347448       True  0.903582             4   \n     49                1.000000       True  0.780593             5   \n\n                                                   location  HasChild  \\\nStep AgentID                                                            \n0    0          POINT (253071.6900172176 3316787.418455525)     False   \n     1         POINT (267490.4392086614 3294491.7159918016)      True   \n     2        POINT (274089.38984379085 3301055.4133319915)     False   \n     3         POINT (304709.48301778664 3275641.790944181)     False   \n     4          POINT (242972.3748635401 3317007.241808125)     False   \n...                                                     ...       ...   \n79   45       POINT (219982.05851606763 3313861.5276159765)     False   \n     46        POINT (281770.09382179164 3265083.766239415)     False   \n     47         POINT (215282.2909264425 3317263.624873443)     False   \n     48        POINT (271081.54049757257 3268777.785521252)     False   \n     49           POINT (270615.1245270499 3294714.9767383)     False   \n\n              AgentBias  \nStep AgentID             \n0    0             0.00  \n     1             0.00  \n     2             0.00  \n     3             0.00  \n     4             0.00  \n...                 ...  \n79   45            0.40  \n     46            0.50  \n     47            0.68  \n     48            0.76  \n     49            1.22  \n\n[4000 rows x 10 columns]",
      "text/html": "<div>\n<style scoped>\n    .dataframe tbody tr th:only-of-type {\n        vertical-align: middle;\n    }\n\n    .dataframe tbody tr th {\n        vertical-align: top;\n    }\n\n    .dataframe thead th {\n        text-align: right;\n    }\n</style>\n<table border=\"1\" class=\"dataframe\">\n  <thead>\n    <tr style=\"text-align: right;\">\n      <th></th>\n      <th></th>\n      <th>FloodDepthEstimated</th>\n      <th>FloodDamageEstimated</th>\n      <th>FloodDepthActual</th>\n      <th>FloodDamageActual</th>\n      <th>IsAdapted</th>\n      <th>identity</th>\n      <th>FriendsCount</th>\n      <th>location</th>\n      <th>HasChild</th>\n      <th>AgentBias</th>\n    </tr>\n    <tr>\n      <th>Step</th>\n      <th>AgentID</th>\n      <th></th>\n      <th></th>\n      <th></th>\n      <th></th>\n      <th></th>\n      <th></th>\n      <th></th>\n      <th></th>\n      <th></th>\n      <th></th>\n    </tr>\n  </thead>\n  <tbody>\n    <tr>\n      <th rowspan=\"5\" valign=\"top\">0</th>\n      <th>0</th>\n      <td>0.779350</td>\n      <td>0.604773</td>\n      <td>0.000000</td>\n      <td>0.000000</td>\n      <td>False</td>\n      <td>0.141350</td>\n      <td>3</td>\n      <td>POINT (253071.6900172176 3316787.418455525)</td>\n      <td>False</td>\n      <td>0.00</td>\n    </tr>\n    <tr>\n      <th>1</th>\n      <td>6.402948</td>\n      <td>1.000000</td>\n      <td>0.000000</td>\n      <td>0.000000</td>\n      <td>False</td>\n      <td>0.590319</td>\n      <td>6</td>\n      <td>POINT (267490.4392086614 3294491.7159918016)</td>\n      <td>True</td>\n      <td>0.00</td>\n    </tr>\n    <tr>\n      <th>2</th>\n      <td>0.642626</td>\n      <td>0.571093</td>\n      <td>0.000000</td>\n      <td>0.000000</td>\n      <td>False</td>\n      <td>0.360749</td>\n      <td>2</td>\n      <td>POINT (274089.38984379085 3301055.4133319915)</td>\n      <td>False</td>\n      <td>0.00</td>\n    </tr>\n    <tr>\n      <th>3</th>\n      <td>0.315795</td>\n      <td>0.447045</td>\n      <td>0.000000</td>\n      <td>0.000000</td>\n      <td>False</td>\n      <td>1.026729</td>\n      <td>4</td>\n      <td>POINT (304709.48301778664 3275641.790944181)</td>\n      <td>False</td>\n      <td>0.00</td>\n    </tr>\n    <tr>\n      <th>4</th>\n      <td>2.846519</td>\n      <td>0.830949</td>\n      <td>0.000000</td>\n      <td>0.000000</td>\n      <td>False</td>\n      <td>1.099769</td>\n      <td>6</td>\n      <td>POINT (242972.3748635401 3317007.241808125)</td>\n      <td>False</td>\n      <td>0.00</td>\n    </tr>\n    <tr>\n      <th>...</th>\n      <th>...</th>\n      <td>...</td>\n      <td>...</td>\n      <td>...</td>\n      <td>...</td>\n      <td>...</td>\n      <td>...</td>\n      <td>...</td>\n      <td>...</td>\n      <td>...</td>\n      <td>...</td>\n    </tr>\n    <tr>\n      <th rowspan=\"5\" valign=\"top\">79</th>\n      <th>45</th>\n      <td>0.536133</td>\n      <td>0.539459</td>\n      <td>0.501634</td>\n      <td>0.527846</td>\n      <td>True</td>\n      <td>0.351167</td>\n      <td>4</td>\n      <td>POINT (219982.05851606763 3313861.5276159765)</td>\n      <td>False</td>\n      <td>0.40</td>\n    </tr>\n    <tr>\n      <th>46</th>\n      <td>1.216463</td>\n      <td>0.682512</td>\n      <td>1.448115</td>\n      <td>0.712948</td>\n      <td>True</td>\n      <td>0.359290</td>\n      <td>3</td>\n      <td>POINT (281770.09382179164 3265083.766239415)</td>\n      <td>False</td>\n      <td>0.50</td>\n    </tr>\n    <tr>\n      <th>47</th>\n      <td>0.429989</td>\n      <td>0.500938</td>\n      <td>0.498942</td>\n      <td>0.526907</td>\n      <td>True</td>\n      <td>0.640360</td>\n      <td>3</td>\n      <td>POINT (215282.2909264425 3317263.624873443)</td>\n      <td>False</td>\n      <td>0.68</td>\n    </tr>\n    <tr>\n      <th>48</th>\n      <td>0.182650</td>\n      <td>0.351448</td>\n      <td>0.178514</td>\n      <td>0.347448</td>\n      <td>True</td>\n      <td>0.903582</td>\n      <td>4</td>\n      <td>POINT (271081.54049757257 3268777.785521252)</td>\n      <td>False</td>\n      <td>0.76</td>\n    </tr>\n    <tr>\n      <th>49</th>\n      <td>9.226017</td>\n      <td>1.000000</td>\n      <td>7.411401</td>\n      <td>1.000000</td>\n      <td>True</td>\n      <td>0.780593</td>\n      <td>5</td>\n      <td>POINT (270615.1245270499 3294714.9767383)</td>\n      <td>False</td>\n      <td>1.22</td>\n    </tr>\n  </tbody>\n</table>\n<p>4000 rows × 10 columns</p>\n</div>"
     },
     "execution_count": 14,
     "metadata": {},
     "output_type": "execute_result"
    }
   ],
   "source": [
    "agent_data = model.datacollector.get_agent_vars_dataframe()\n",
    "len([i for i in model.schedule.agents if i.has_child])\n",
    "agent_data\n",
    "\n",
    "# for agent in model.schedule.agents:\n",
    "#     print(f'{agent.unique_id} has an agent bias of {round(agent.general_bias_in_network, 3)}, a estimated flood damage of {round(agent.flood_damage_estimated, 3)} and is adapted is {agent.is_adapted} and has identity: {agent.identity}\\n')\n",
    "#     \n",
    "# for agent in model.schedule.agents:\n",
    "#     print(f'{agent.unique_id} has an agent bias of {round(agent.general_bias_in_network, 3)}, a impacted bias because of flooding {round(agent.actual_flood_impact_on_bias, 3)}')\n",
    "\n",
    "    "
   ]
  },
  {
   "cell_type": "code",
   "execution_count": 15,
   "outputs": [
    {
     "data": {
      "text/plain": "0.06463296446629974"
     },
     "execution_count": 15,
     "metadata": {},
     "output_type": "execute_result"
    }
   ],
   "source": [
    "# sum([i.general_bias_in_network for i in model.schedule.agents])/len(model.schedule.agents)\n",
    "\n",
    "max([i.actual_flood_impact_on_bias for i in model.schedule.agents])"
   ],
   "metadata": {
    "collapsed": false,
    "ExecuteTime": {
     "end_time": "2024-01-21T14:28:43.496093800Z",
     "start_time": "2024-01-21T14:28:43.465399500Z"
    }
   }
  },
  {
   "cell_type": "code",
   "execution_count": 16,
   "metadata": {
    "ExecuteTime": {
     "end_time": "2024-01-21T14:28:44.205175300Z",
     "start_time": "2024-01-21T14:28:44.198300Z"
    }
   },
   "outputs": [
    {
     "data": {
      "text/plain": "    total_adapted_households\n0                          0\n1                         12\n2                         12\n3                         13\n4                         14\n..                       ...\n75                        29\n76                        29\n77                        29\n78                        29\n79                        29\n\n[80 rows x 1 columns]",
      "text/html": "<div>\n<style scoped>\n    .dataframe tbody tr th:only-of-type {\n        vertical-align: middle;\n    }\n\n    .dataframe tbody tr th {\n        vertical-align: top;\n    }\n\n    .dataframe thead th {\n        text-align: right;\n    }\n</style>\n<table border=\"1\" class=\"dataframe\">\n  <thead>\n    <tr style=\"text-align: right;\">\n      <th></th>\n      <th>total_adapted_households</th>\n    </tr>\n  </thead>\n  <tbody>\n    <tr>\n      <th>0</th>\n      <td>0</td>\n    </tr>\n    <tr>\n      <th>1</th>\n      <td>12</td>\n    </tr>\n    <tr>\n      <th>2</th>\n      <td>12</td>\n    </tr>\n    <tr>\n      <th>3</th>\n      <td>13</td>\n    </tr>\n    <tr>\n      <th>4</th>\n      <td>14</td>\n    </tr>\n    <tr>\n      <th>...</th>\n      <td>...</td>\n    </tr>\n    <tr>\n      <th>75</th>\n      <td>29</td>\n    </tr>\n    <tr>\n      <th>76</th>\n      <td>29</td>\n    </tr>\n    <tr>\n      <th>77</th>\n      <td>29</td>\n    </tr>\n    <tr>\n      <th>78</th>\n      <td>29</td>\n    </tr>\n    <tr>\n      <th>79</th>\n      <td>29</td>\n    </tr>\n  </tbody>\n</table>\n<p>80 rows × 1 columns</p>\n</div>"
     },
     "execution_count": 16,
     "metadata": {},
     "output_type": "execute_result"
    }
   ],
   "source": [
    "model_data = model.datacollector.get_model_vars_dataframe()\n",
    "model_data"
   ]
  },
  {
   "cell_type": "code",
   "execution_count": null,
   "outputs": [],
   "source": [],
   "metadata": {
    "collapsed": false
   }
  }
 ],
 "metadata": {
  "kernelspec": {
   "display_name": "tb231c",
   "language": "python",
   "name": "python3"
  },
  "language_info": {
   "codemirror_mode": {
    "name": "ipython",
    "version": 3
   },
   "file_extension": ".py",
   "mimetype": "text/x-python",
   "name": "python",
   "nbconvert_exporter": "python",
   "pygments_lexer": "ipython3",
   "version": "3.9.15"
  },
  "orig_nbformat": 4,
  "vscode": {
   "interpreter": {
    "hash": "ba734c44879edc1aadd96d1483e3c8c4b172ceac85e15a48cc8368b614d0488f"
   }
  }
 },
 "nbformat": 4,
 "nbformat_minor": 2
}
