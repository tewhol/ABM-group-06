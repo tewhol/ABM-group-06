{
 "cells": [
  {
   "attachments": {},
   "cell_type": "markdown",
   "metadata": {},
   "source": [
    "# Flood Adaptation: Minimal Model"
   ]
  },
  {
   "attachments": {},
   "cell_type": "markdown",
   "metadata": {},
   "source": [
    "This python script outlines a basic Agent-Based Model (ABM) developed using the Mesa framework, designed as a simplified representation of household adaptation to flood events in a social network context. The model serves as a template for understanding the fundamental mechanics of flood adapdtation with a given social network.\n",
    "\n",
    "This directory is structured as follows:\n",
    " - A Mesa Agent class `Households` is defined in `agents.py`\n",
    " - A Mesa Agent class `Government` is defined in `agents.py` (this agent currently does not perform any action)\n",
    " - A Mesa Model class `AdaptationModel` is defined in `model.py`\n",
    " - This notebook `demo.ipynb` provides a demonstration of the model and its visualization.\n",
    "\n",
    "Each household agent in the model represents a household with attributes and behaviors that determine its response to flood events. The flood depth attribute assigned to each household is currently random for demonstration purposes. The decision by each household to adapt is also arbitrary. In a more comprehensive model, this could be replaced with more sophisticated decision-making algorithms.\n",
    "\n",
    "The current implementation includes several simplifications and arbitrary choices, such as random flood depths and basic adaptation logic based on random thresholds. These aspects are designed for clarity and ease of understanding and should be replaced with realistic and sound choices.\n",
    "\n",
    "You are encouraged to modify, expand, and customize the model. This might include integrating real-world data, implementing more complex decision-making processes for agents, or exploring different network topologies and their effects on social dynamics.\n",
    "\n",
    "The visualisation provided is basic. Additional aspects can be added for visualization and more in-depth analysis.\n",
    "\n",
    "_This notebook was tested on 2023-11-13 with Mesa version 2.1.4 on Python 3.12.0._"
   ]
  },
  {
   "attachments": {},
   "cell_type": "markdown",
   "metadata": {},
   "source": [
    "# Running the model and visualizing the model domain and social network over time"
   ]
  },
  {
   "cell_type": "code",
   "execution_count": 2,
   "metadata": {
    "ExecuteTime": {
     "end_time": "2024-01-21T14:05:55.399360400Z",
     "start_time": "2024-01-21T14:05:55.321607600Z"
    }
   },
   "outputs": [
    {
     "name": "stdout",
     "output_type": "stream",
     "text": [
      "step: 0 : 8 adapted with a bias of 0 and a estimated damage of 0.7317721107910228!\n",
      "step: 0 : 49 adapted with a bias of 0 and a estimated damage of 0.8130381003936059!\n",
      "step: 0 : 3 adapted with a bias of 0 and a estimated damage of 1!\n",
      "step: 0 : 23 adapted with a bias of 0 and a estimated damage of 0.9397987376666705!\n",
      "step: 0 : 6 adapted with a bias of 0.2 and a estimated damage of 0.9006906221541626!\n",
      "step: 0 : 26 adapted with a bias of 0 and a estimated damage of 0.9070094801567291!\n",
      "step: 0 : 43 adapted with a bias of 0 and a estimated damage of 0.8094178153612082!\n",
      "step: 0 : 48 adapted with a bias of 0 and a estimated damage of 0.7779743412871583!\n",
      "step: 0 : 22 adapted with a bias of 0 and a estimated damage of 0.7606385065846636!\n",
      "step: 0 : 13 adapted with a bias of 0 and a estimated damage of 0.7989886084436189!\n",
      "step: 3 : 46 adapted with a bias of 0.4 and a estimated damage of 0.43531322756115387!\n",
      "step: 3 : 17 adapted with a bias of 0.2 and a estimated damage of 0.6563603657345186!\n",
      "step: 4 : 4 adapted with a bias of 0.4 and a estimated damage of 0.4255630331473696!\n",
      "step: 5 : 20 adapted with a bias of 0.2 and a estimated damage of 0.5195385951298321!\n",
      "step: 5 : 25 adapted with a bias of 0.4 and a estimated damage of 0.4759653166738116!\n",
      "step: 7 : 18 adapted with a bias of 0.4 and a estimated damage of 0.4823829106257427!\n",
      "step: 7 : 19 adapted with a bias of 0.4 and a estimated damage of 0.3722584746463009!\n",
      "step: 8 : 47 adapted with a bias of 0.8 and a estimated damage of 0!\n",
      "step: 10 : 44 adapted with a bias of 0.6000000000000001 and a estimated damage of 0.32358401648566987!\n",
      "step: 11 : 21 adapted with a bias of 0.8 and a estimated damage of 0!\n"
     ]
    }
   ],
   "source": [
    "import random\n",
    "\n",
    "from model import AdaptationModel\n",
    "import matplotlib.pyplot as plt\n",
    "import networkx as nx\n",
    "\n",
    "# Determine the input values for your network and dynamic parameters and how they should be distributed throughout the population.\n",
    "network_dynamics_dictionary = {\n",
    "                # The social network structure that is used. Can currently be\n",
    "                # \"erdos_renyi\", \"barabasi_albert\", \"watts_strogatz\", or \"no_network\"\n",
    "                \"network\": 'watts_strogatz',\n",
    "                \"number_of_households\": 50,  # number of household agents\n",
    "                \"probability_of_network_connection\": 0.4,  # likeliness of edge being created between two nodes\n",
    "                \"number_of_edges\": 3,  # number of edges for BA network\n",
    "                \"number_of_nearest_neighbours\": 5,  # number of nearest neighbours for WS social network\n",
    "                \"flood_time_tick\": [5],  # list of flood times on the tick\n",
    "                \"flood_severity_probability\": (0.5, 1.2),  # Bounds between a Uniform distribution of the flood severity\n",
    "                \"seed\": 1  # The seed used to generate pseudo random numbers\n",
    "            }\n",
    "\n",
    "# Determine the input values for your agent's attributes and how they should be distributed throughout the population.\n",
    "attribute_dictionary = {\n",
    "                \"wealth\": [0.2, 'UI', (0, 3)],\n",
    "                \"has_child\": [0.2, 'B', (0.2)],\n",
    "                \"house_size\": [0.05, 'UI', (0, 2)],\n",
    "                \"house_type\": [0.05, 'UI', (0, 1)],\n",
    "                \"education_level\": [0.05, 'UI', (0, 3)],\n",
    "                \"social_preference\": [0.2, 'U', (-1, 1)],\n",
    "                \"age\": [0.2, 'N', (33.4, 5)]\n",
    "            }\n",
    "\n",
    "# Defining the standard values for agent interaction dynamics in case none are provided.\n",
    "agent_interaction_dictionary = {\n",
    "                \"household_tolerance\": 0.15,  # the tolerance level for each agent\n",
    "                \"bias_change_per_tick\": 0.2,  # Bias change per tick when an agent when it's influenced by its network\n",
    "                \"probability_positive_bias_change\": 0.5,  # Probability that agent changes it's bias positively\n",
    "                \"probability_negative_bias_change\": 0.1,  # Probability that agent changes it's bias negatively\n",
    "                \"adaption_threshold\": 0.7  # Threshold of bias an agent needs to adapt\n",
    "            }\n",
    "\n",
    "# Initialize the Adaptation Model with 50 household agents.\n",
    "model = AdaptationModel(network_dynamics_dictionary=network_dynamics_dictionary, attribute_dictionary=attribute_dictionary, agent_interaction_dictionary= agent_interaction_dictionary)\n",
    "# flood_map_choice can be \"harvey\", \"100yr\", or \"500yr\"\n",
    "\n",
    "# Calculate positions of nodes for the network plot.\n",
    "# The spring_layout function positions nodes using a force-directed algorithm,\n",
    "# which helps visualize the structure of the social network.\n",
    "pos = nx.spring_layout(model.G)\n",
    "\n",
    "# Define a function to plot agents on the network.\n",
    "# This function takes a matplotlib axes object and the model as inputs.\n",
    "# def plot_network(ax, model):\n",
    "#     # Clear the current axes.\n",
    "#     ax.clear()\n",
    "#     # Determine the color of each node (agent) based on their adaptation status.\n",
    "#     colors = ['blue' if agent.is_adapted else 'red' for agent in model.schedule.agents]\n",
    "#     # Draw the network with node colors and labels.\n",
    "#     nx.draw(model.G, pos, node_color=colors, with_labels=True, ax=ax)\n",
    "#     # Set the title of the plot with the current step number.\n",
    "#     ax.set_title(f\"Social Network State at Step {model.schedule.steps}\", fontsize=12)\n",
    "\n",
    "# Generate the initial plots at step 0.\n",
    "# Plot the spatial distribution of agents. This is a function written in the model.py\n",
    "# model.plot_model_domain_with_agents()\n",
    "\n",
    "# Plot the initial state of the social network.\n",
    "# fig, ax = plt.subplots(figsize=(7, 7))\n",
    "# plot_network(ax, model)\n",
    "# plt.show()\n",
    "\n",
    "# Run the model for 20 steps and generate plots every 5 steps.\n",
    "for step in range(80):\n",
    "    model.step()\n",
    "# \n",
    "#     # Every 5 steps, generate and display plots for both the spatial distribution and network.\n",
    "#     # Note the first step is step 0, so the plots will be generated at steps 4, 9, 14, and 19, which are the 5th, 10th, 15th, and 20th steps.\n",
    "#     if (step + 1) % 10 == 0:\n",
    "#         # Plot for the spatial map showing agent locations and adaptation status.\n",
    "#         plt.figure(figsize=(10, 6))\n",
    "#         model.plot_model_domain_with_agents()\n",
    "# \n",
    "#         # Plot for the social network showing connections and adaptation statuses.\n",
    "#         fig, ax = plt.subplots(figsize=(7, 7))\n",
    "#         plot_network(ax, model)\n",
    "#         plt.show()"
   ]
  },
  {
   "cell_type": "code",
   "execution_count": 17,
   "metadata": {
    "ExecuteTime": {
     "end_time": "2024-01-21T13:53:20.065383700Z",
     "start_time": "2024-01-21T13:53:20.042509400Z"
    }
   },
   "outputs": [
    {
     "data": {
      "text/plain": "              FloodDepthEstimated  FloodDamageEstimated  FloodDepthActual  \\\nStep AgentID                                                                \n0    0                   0.914719              0.632736          0.000000   \n     1                   0.828465              0.615444          0.000000   \n     2                   1.477482              0.716453          0.000000   \n     3                   0.575500              0.551831          0.000000   \n     4                   0.000000              0.000000          0.000000   \n...                           ...                   ...               ...   \n79   45                  0.000000              0.000000          0.000000   \n     46                  0.272741              0.421454          1.190511   \n     47                  1.684425              0.739341          7.279849   \n     48                  4.126419              0.895780         11.851432   \n     49                  0.559410              0.546880          2.621033   \n\n              FloodDamageActual  IsAdapted  identity  FriendsCount  \\\nStep AgentID                                                           \n0    0                 0.000000      False    0.137915             3   \n     1                 0.000000      False    0.238371             6   \n     2                 0.000000      False    0.345650             2   \n     3                 0.000000      False    0.487069             4   \n     4                 0.000000      False    0.721177             6   \n...                         ...        ...         ...           ...   \n79   45                0.000000       True    0.502418             4   \n     46                0.678747       True    0.885888             3   \n     47                1.000000       True    1.124265             3   \n     48                1.000000       True    0.938995             4   \n     49                0.816539       True    0.402953             5   \n\n                                                   location  HasChild  \\\nStep AgentID                                                            \n0    0         POINT (219023.22382247538 3329850.249745885)     False   \n     1           POINT (285073.881667405 3302426.377471865)     False   \n     2        POINT (256732.87332841553 3345792.6517015398)     False   \n     3        POINT (222614.99221068708 3303042.9055755553)     False   \n     4        POINT (260072.42832994874 3314393.3591049607)     False   \n...                                                     ...       ...   \n79   45        POINT (254850.17420973376 3339061.844511192)     False   \n     46        POINT (240641.2956753731 3288497.9238458956)     False   \n     47       POINT (261288.78367108776 3289785.8242065767)      True   \n     48        POINT (231088.2976510692 3302210.5498792124)      True   \n     49       POINT (222131.39951582125 3293873.0438353326)      True   \n\n              AgentBias  \nStep AgentID             \n0    0              0.0  \n     1              0.0  \n     2              0.0  \n     3              0.0  \n     4              0.0  \n...                 ...  \n79   45             6.4  \n     46             8.0  \n     47             0.0  \n     48             7.8  \n     49            14.8  \n\n[4000 rows x 10 columns]",
      "text/html": "<div>\n<style scoped>\n    .dataframe tbody tr th:only-of-type {\n        vertical-align: middle;\n    }\n\n    .dataframe tbody tr th {\n        vertical-align: top;\n    }\n\n    .dataframe thead th {\n        text-align: right;\n    }\n</style>\n<table border=\"1\" class=\"dataframe\">\n  <thead>\n    <tr style=\"text-align: right;\">\n      <th></th>\n      <th></th>\n      <th>FloodDepthEstimated</th>\n      <th>FloodDamageEstimated</th>\n      <th>FloodDepthActual</th>\n      <th>FloodDamageActual</th>\n      <th>IsAdapted</th>\n      <th>identity</th>\n      <th>FriendsCount</th>\n      <th>location</th>\n      <th>HasChild</th>\n      <th>AgentBias</th>\n    </tr>\n    <tr>\n      <th>Step</th>\n      <th>AgentID</th>\n      <th></th>\n      <th></th>\n      <th></th>\n      <th></th>\n      <th></th>\n      <th></th>\n      <th></th>\n      <th></th>\n      <th></th>\n      <th></th>\n    </tr>\n  </thead>\n  <tbody>\n    <tr>\n      <th rowspan=\"5\" valign=\"top\">0</th>\n      <th>0</th>\n      <td>0.914719</td>\n      <td>0.632736</td>\n      <td>0.000000</td>\n      <td>0.000000</td>\n      <td>False</td>\n      <td>0.137915</td>\n      <td>3</td>\n      <td>POINT (219023.22382247538 3329850.249745885)</td>\n      <td>False</td>\n      <td>0.0</td>\n    </tr>\n    <tr>\n      <th>1</th>\n      <td>0.828465</td>\n      <td>0.615444</td>\n      <td>0.000000</td>\n      <td>0.000000</td>\n      <td>False</td>\n      <td>0.238371</td>\n      <td>6</td>\n      <td>POINT (285073.881667405 3302426.377471865)</td>\n      <td>False</td>\n      <td>0.0</td>\n    </tr>\n    <tr>\n      <th>2</th>\n      <td>1.477482</td>\n      <td>0.716453</td>\n      <td>0.000000</td>\n      <td>0.000000</td>\n      <td>False</td>\n      <td>0.345650</td>\n      <td>2</td>\n      <td>POINT (256732.87332841553 3345792.6517015398)</td>\n      <td>False</td>\n      <td>0.0</td>\n    </tr>\n    <tr>\n      <th>3</th>\n      <td>0.575500</td>\n      <td>0.551831</td>\n      <td>0.000000</td>\n      <td>0.000000</td>\n      <td>False</td>\n      <td>0.487069</td>\n      <td>4</td>\n      <td>POINT (222614.99221068708 3303042.9055755553)</td>\n      <td>False</td>\n      <td>0.0</td>\n    </tr>\n    <tr>\n      <th>4</th>\n      <td>0.000000</td>\n      <td>0.000000</td>\n      <td>0.000000</td>\n      <td>0.000000</td>\n      <td>False</td>\n      <td>0.721177</td>\n      <td>6</td>\n      <td>POINT (260072.42832994874 3314393.3591049607)</td>\n      <td>False</td>\n      <td>0.0</td>\n    </tr>\n    <tr>\n      <th>...</th>\n      <th>...</th>\n      <td>...</td>\n      <td>...</td>\n      <td>...</td>\n      <td>...</td>\n      <td>...</td>\n      <td>...</td>\n      <td>...</td>\n      <td>...</td>\n      <td>...</td>\n      <td>...</td>\n    </tr>\n    <tr>\n      <th rowspan=\"5\" valign=\"top\">79</th>\n      <th>45</th>\n      <td>0.000000</td>\n      <td>0.000000</td>\n      <td>0.000000</td>\n      <td>0.000000</td>\n      <td>True</td>\n      <td>0.502418</td>\n      <td>4</td>\n      <td>POINT (254850.17420973376 3339061.844511192)</td>\n      <td>False</td>\n      <td>6.4</td>\n    </tr>\n    <tr>\n      <th>46</th>\n      <td>0.272741</td>\n      <td>0.421454</td>\n      <td>1.190511</td>\n      <td>0.678747</td>\n      <td>True</td>\n      <td>0.885888</td>\n      <td>3</td>\n      <td>POINT (240641.2956753731 3288497.9238458956)</td>\n      <td>False</td>\n      <td>8.0</td>\n    </tr>\n    <tr>\n      <th>47</th>\n      <td>1.684425</td>\n      <td>0.739341</td>\n      <td>7.279849</td>\n      <td>1.000000</td>\n      <td>True</td>\n      <td>1.124265</td>\n      <td>3</td>\n      <td>POINT (261288.78367108776 3289785.8242065767)</td>\n      <td>True</td>\n      <td>0.0</td>\n    </tr>\n    <tr>\n      <th>48</th>\n      <td>4.126419</td>\n      <td>0.895780</td>\n      <td>11.851432</td>\n      <td>1.000000</td>\n      <td>True</td>\n      <td>0.938995</td>\n      <td>4</td>\n      <td>POINT (231088.2976510692 3302210.5498792124)</td>\n      <td>True</td>\n      <td>7.8</td>\n    </tr>\n    <tr>\n      <th>49</th>\n      <td>0.559410</td>\n      <td>0.546880</td>\n      <td>2.621033</td>\n      <td>0.816539</td>\n      <td>True</td>\n      <td>0.402953</td>\n      <td>5</td>\n      <td>POINT (222131.39951582125 3293873.0438353326)</td>\n      <td>True</td>\n      <td>14.8</td>\n    </tr>\n  </tbody>\n</table>\n<p>4000 rows × 10 columns</p>\n</div>"
     },
     "execution_count": 17,
     "metadata": {},
     "output_type": "execute_result"
    }
   ],
   "source": [
    "agent_data = model.datacollector.get_agent_vars_dataframe()\n",
    "len([i for i in model.schedule.agents if i.has_child])\n",
    "agent_data\n",
    "\n",
    "# for agent in model.schedule.agents:\n",
    "#     print(f'{agent.unique_id} has an agent bias of {round(agent.general_bias_in_network, 3)}, a estimated flood damage of {round(agent.flood_damage_estimated, 3)} and is adapted is {agent.is_adapted} and has identity: {agent.identity}\\n')\n",
    "#     \n",
    "# for agent in model.schedule.agents:\n",
    "#     print(f'{agent.unique_id} has an agent bias of {round(agent.general_bias_in_network, 3)}, a impacted bias because of flooding {round(agent.actual_flood_impact_on_bias, 3)}')\n",
    "\n",
    "    "
   ]
  },
  {
   "cell_type": "code",
   "execution_count": 18,
   "outputs": [
    {
     "data": {
      "text/plain": "0.7799932482854881"
     },
     "execution_count": 18,
     "metadata": {},
     "output_type": "execute_result"
    }
   ],
   "source": [
    "# sum([i.general_bias_in_network for i in model.schedule.agents])/len(model.schedule.agents)\n",
    "\n",
    "max([i.actual_flood_impact_on_bias for i in model.schedule.agents])"
   ],
   "metadata": {
    "collapsed": false,
    "ExecuteTime": {
     "end_time": "2024-01-21T13:53:25.713188200Z",
     "start_time": "2024-01-21T13:53:25.708297700Z"
    }
   }
  },
  {
   "cell_type": "code",
   "execution_count": 38,
   "metadata": {
    "ExecuteTime": {
     "end_time": "2024-01-20T20:28:55.546173800Z",
     "start_time": "2024-01-20T20:28:55.518874400Z"
    }
   },
   "outputs": [
    {
     "data": {
      "text/plain": "    total_adapted_households\n0                          0\n1                          8\n2                         12\n3                         12\n4                         14\n..                       ...\n75                        20\n76                        20\n77                        20\n78                        20\n79                        20\n\n[80 rows x 1 columns]",
      "text/html": "<div>\n<style scoped>\n    .dataframe tbody tr th:only-of-type {\n        vertical-align: middle;\n    }\n\n    .dataframe tbody tr th {\n        vertical-align: top;\n    }\n\n    .dataframe thead th {\n        text-align: right;\n    }\n</style>\n<table border=\"1\" class=\"dataframe\">\n  <thead>\n    <tr style=\"text-align: right;\">\n      <th></th>\n      <th>total_adapted_households</th>\n    </tr>\n  </thead>\n  <tbody>\n    <tr>\n      <th>0</th>\n      <td>0</td>\n    </tr>\n    <tr>\n      <th>1</th>\n      <td>8</td>\n    </tr>\n    <tr>\n      <th>2</th>\n      <td>12</td>\n    </tr>\n    <tr>\n      <th>3</th>\n      <td>12</td>\n    </tr>\n    <tr>\n      <th>4</th>\n      <td>14</td>\n    </tr>\n    <tr>\n      <th>...</th>\n      <td>...</td>\n    </tr>\n    <tr>\n      <th>75</th>\n      <td>20</td>\n    </tr>\n    <tr>\n      <th>76</th>\n      <td>20</td>\n    </tr>\n    <tr>\n      <th>77</th>\n      <td>20</td>\n    </tr>\n    <tr>\n      <th>78</th>\n      <td>20</td>\n    </tr>\n    <tr>\n      <th>79</th>\n      <td>20</td>\n    </tr>\n  </tbody>\n</table>\n<p>80 rows × 1 columns</p>\n</div>"
     },
     "execution_count": 38,
     "metadata": {},
     "output_type": "execute_result"
    }
   ],
   "source": [
    "model_data = model.datacollector.get_model_vars_dataframe()\n",
    "model_data"
   ]
  },
  {
   "cell_type": "code",
   "execution_count": null,
   "outputs": [],
   "source": [],
   "metadata": {
    "collapsed": false
   }
  }
 ],
 "metadata": {
  "kernelspec": {
   "display_name": "tb231c",
   "language": "python",
   "name": "python3"
  },
  "language_info": {
   "codemirror_mode": {
    "name": "ipython",
    "version": 3
   },
   "file_extension": ".py",
   "mimetype": "text/x-python",
   "name": "python",
   "nbconvert_exporter": "python",
   "pygments_lexer": "ipython3",
   "version": "3.9.15"
  },
  "orig_nbformat": 4,
  "vscode": {
   "interpreter": {
    "hash": "ba734c44879edc1aadd96d1483e3c8c4b172ceac85e15a48cc8368b614d0488f"
   }
  }
 },
 "nbformat": 4,
 "nbformat_minor": 2
}
