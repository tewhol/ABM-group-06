{
 "cells": [
  {
   "attachments": {},
   "cell_type": "markdown",
   "metadata": {},
   "source": [
    "# Flood Adaptation: Minimal Model"
   ]
  },
  {
   "attachments": {},
   "cell_type": "markdown",
   "metadata": {},
   "source": [
    "This python script outlines a basic Agent-Based Model (ABM) developed using the Mesa framework, designed as a simplified representation of household adaptation to flood events in a social network context. The model serves as a template for understanding the fundamental mechanics of flood adapdtation with a given social network.\n",
    "\n",
    "This directory is structured as follows:\n",
    " - A Mesa Agent class `Households` is defined in `agents.py`\n",
    " - A Mesa Agent class `Government` is defined in `agents.py` (this agent currently does not perform any action)\n",
    " - A Mesa Model class `AdaptationModel` is defined in `model.py`\n",
    " - This notebook `demo.ipynb` provides a demonstration of the model and its visualization.\n",
    "\n",
    "Each household agent in the model represents a household with attributes and behaviors that determine its response to flood events. The flood depth attribute assigned to each household is currently random for demonstration purposes. The decision by each household to adapt is also arbitrary. In a more comprehensive model, this could be replaced with more sophisticated decision-making algorithms.\n",
    "\n",
    "The current implementation includes several simplifications and arbitrary choices, such as random flood depths and basic adaptation logic based on random thresholds. These aspects are designed for clarity and ease of understanding and should be replaced with realistic and sound choices.\n",
    "\n",
    "You are encouraged to modify, expand, and customize the model. This might include integrating real-world data, implementing more complex decision-making processes for agents, or exploring different network topologies and their effects on social dynamics.\n",
    "\n",
    "The visualisation provided is basic. Additional aspects can be added for visualization and more in-depth analysis.\n",
    "\n",
    "_This notebook was tested on 2023-11-13 with Mesa version 2.1.4 on Python 3.12.0._"
   ]
  },
  {
   "attachments": {},
   "cell_type": "markdown",
   "metadata": {},
   "source": [
    "# Running the model and visualizing the model domain and social network over time"
   ]
  },
  {
   "cell_type": "code",
   "execution_count": 1,
   "metadata": {
    "ExecuteTime": {
     "end_time": "2024-01-10T15:20:23.179349900Z",
     "start_time": "2024-01-10T15:20:18.256432300Z"
    }
   },
   "outputs": [
    {
     "ename": "AttributeError",
     "evalue": "'Households' object has no attribute 'house_size'",
     "output_type": "error",
     "traceback": [
      "\u001B[1;31m---------------------------------------------------------------------------\u001B[0m",
      "\u001B[1;31mAttributeError\u001B[0m                            Traceback (most recent call last)",
      "Cell \u001B[1;32mIn[1], line 6\u001B[0m\n\u001B[0;32m      3\u001B[0m \u001B[38;5;28;01mimport\u001B[39;00m \u001B[38;5;21;01mnetworkx\u001B[39;00m \u001B[38;5;28;01mas\u001B[39;00m \u001B[38;5;21;01mnx\u001B[39;00m\n\u001B[0;32m      5\u001B[0m \u001B[38;5;66;03m# Initialize the Adaptation Model with 50 household agents.\u001B[39;00m\n\u001B[1;32m----> 6\u001B[0m model \u001B[38;5;241m=\u001B[39m \u001B[43mAdaptationModel\u001B[49m\u001B[43m(\u001B[49m\u001B[43mnumber_of_households\u001B[49m\u001B[38;5;241;43m=\u001B[39;49m\u001B[38;5;241;43m50\u001B[39;49m\u001B[43m,\u001B[49m\u001B[43m \u001B[49m\u001B[43mflood_map_choice\u001B[49m\u001B[38;5;241;43m=\u001B[39;49m\u001B[38;5;124;43m\"\u001B[39;49m\u001B[38;5;124;43mharvey\u001B[39;49m\u001B[38;5;124;43m\"\u001B[39;49m\u001B[43m,\u001B[49m\u001B[43m \u001B[49m\u001B[43mnetwork\u001B[49m\u001B[38;5;241;43m=\u001B[39;49m\u001B[38;5;124;43m\"\u001B[39;49m\u001B[38;5;124;43mwatts_strogatz\u001B[39;49m\u001B[38;5;124;43m\"\u001B[39;49m\u001B[43m)\u001B[49m \u001B[38;5;66;03m# flood_map_choice can be \"harvey\", \"100yr\", or \"500yr\"\u001B[39;00m\n\u001B[0;32m      8\u001B[0m \u001B[38;5;66;03m# Calculate positions of nodes for the network plot.\u001B[39;00m\n\u001B[0;32m      9\u001B[0m \u001B[38;5;66;03m# The spring_layout function positions nodes using a force-directed algorithm,\u001B[39;00m\n\u001B[0;32m     10\u001B[0m \u001B[38;5;66;03m# which helps visualize the structure of the social network.\u001B[39;00m\n\u001B[0;32m     11\u001B[0m pos \u001B[38;5;241m=\u001B[39m nx\u001B[38;5;241m.\u001B[39mspring_layout(model\u001B[38;5;241m.\u001B[39mG)\n",
      "File \u001B[1;32m~\\PycharmProjects\\ABM-group-06\\model\\model.py:72\u001B[0m, in \u001B[0;36mAdaptationModel.__init__\u001B[1;34m(self, seed, number_of_households, flood_map_choice, network, probability_of_network_connection, number_of_edges, number_of_nearest_neighbours, number_of_children, household_tolerance)\u001B[0m\n\u001B[0;32m     70\u001B[0m \u001B[38;5;66;03m# create households through initiating a household on each node of the network graph\u001B[39;00m\n\u001B[0;32m     71\u001B[0m \u001B[38;5;28;01mfor\u001B[39;00m i, node \u001B[38;5;129;01min\u001B[39;00m \u001B[38;5;28menumerate\u001B[39m(\u001B[38;5;28mself\u001B[39m\u001B[38;5;241m.\u001B[39mG\u001B[38;5;241m.\u001B[39mnodes()):\n\u001B[1;32m---> 72\u001B[0m     household \u001B[38;5;241m=\u001B[39m \u001B[43mHouseholds\u001B[49m\u001B[43m(\u001B[49m\u001B[43munique_id\u001B[49m\u001B[38;5;241;43m=\u001B[39;49m\u001B[43mi\u001B[49m\u001B[43m,\u001B[49m\u001B[43m \u001B[49m\u001B[43mmodel\u001B[49m\u001B[38;5;241;43m=\u001B[39;49m\u001B[38;5;28;43mself\u001B[39;49m\u001B[43m,\u001B[49m\u001B[43m \u001B[49m\u001B[43mradius_network\u001B[49m\u001B[38;5;241;43m=\u001B[39;49m\u001B[38;5;241;43m1\u001B[39;49m\u001B[43m,\u001B[49m\u001B[43m \u001B[49m\u001B[43mamount_of_change_in_bias\u001B[49m\u001B[38;5;241;43m=\u001B[39;49m\u001B[43m \u001B[49m\u001B[38;5;241;43m0.2\u001B[39;49m\u001B[43m \u001B[49m\u001B[43m,\u001B[49m\u001B[43mtolerance\u001B[49m\u001B[38;5;241;43m=\u001B[39;49m\u001B[43mhousehold_tolerance\u001B[49m\u001B[43m)\u001B[49m\n\u001B[0;32m     73\u001B[0m     \u001B[38;5;28mself\u001B[39m\u001B[38;5;241m.\u001B[39mschedule\u001B[38;5;241m.\u001B[39madd(household)\n\u001B[0;32m     74\u001B[0m     \u001B[38;5;28mself\u001B[39m\u001B[38;5;241m.\u001B[39mgrid\u001B[38;5;241m.\u001B[39mplace_agent(agent\u001B[38;5;241m=\u001B[39mhousehold, node_id\u001B[38;5;241m=\u001B[39mnode)\n",
      "File \u001B[1;32m~\\PycharmProjects\\ABM-group-06\\model\\agents.py:39\u001B[0m, in \u001B[0;36mHouseholds.__init__\u001B[1;34m(self, unique_id, model, radius_network, tolerance, amount_of_change_in_bias, has_child)\u001B[0m\n\u001B[0;32m     37\u001B[0m \u001B[38;5;28mself\u001B[39m\u001B[38;5;241m.\u001B[39mhas_child \u001B[38;5;241m=\u001B[39m has_child \u001B[38;5;28;01mif\u001B[39;00m has_child \u001B[38;5;129;01mis\u001B[39;00m \u001B[38;5;129;01mnot\u001B[39;00m \u001B[38;5;28;01mNone\u001B[39;00m \u001B[38;5;28;01melse\u001B[39;00m \u001B[38;5;28;01mFalse\u001B[39;00m\n\u001B[0;32m     38\u001B[0m \u001B[38;5;66;03m# This function determines the initial conviction of each household based on their attributes\u001B[39;00m\n\u001B[1;32m---> 39\u001B[0m \u001B[38;5;28mself\u001B[39m\u001B[38;5;241m.\u001B[39mconviction \u001B[38;5;241m=\u001B[39m \u001B[38;5;28;43mself\u001B[39;49m\u001B[38;5;241;43m.\u001B[39;49m\u001B[43mcalculate_initial_conviction\u001B[49m\u001B[43m(\u001B[49m\u001B[43m)\u001B[49m\n\u001B[0;32m     41\u001B[0m \u001B[38;5;66;03m#attribute for the age\u001B[39;00m\n\u001B[0;32m     42\u001B[0m mean_age \u001B[38;5;241m=\u001B[39m \u001B[38;5;241m33.7\u001B[39m\n",
      "File \u001B[1;32m~\\PycharmProjects\\ABM-group-06\\model\\agents.py:90\u001B[0m, in \u001B[0;36mHouseholds.calculate_initial_conviction\u001B[1;34m(self)\u001B[0m\n\u001B[0;32m     88\u001B[0m \u001B[38;5;28;01mdef\u001B[39;00m \u001B[38;5;21mcalculate_initial_conviction\u001B[39m(\u001B[38;5;28mself\u001B[39m):\n\u001B[0;32m     89\u001B[0m     child_factor \u001B[38;5;241m=\u001B[39m \u001B[38;5;241m0.2\u001B[39m \u001B[38;5;28;01mif\u001B[39;00m \u001B[38;5;28mself\u001B[39m\u001B[38;5;241m.\u001B[39mhas_child \u001B[38;5;28;01melse\u001B[39;00m \u001B[38;5;241m0\u001B[39m\n\u001B[1;32m---> 90\u001B[0m     scaled_house_size \u001B[38;5;241m=\u001B[39m (\u001B[38;5;28;43mself\u001B[39;49m\u001B[38;5;241;43m.\u001B[39;49m\u001B[43mhouse_size\u001B[49m \u001B[38;5;241m-\u001B[39m \u001B[38;5;241m1\u001B[39m) \u001B[38;5;241m*\u001B[39m \u001B[38;5;241m0.05\u001B[39m\n\u001B[0;32m     91\u001B[0m     scaled_education_level \u001B[38;5;241m=\u001B[39m (\u001B[38;5;28mself\u001B[39m\u001B[38;5;241m.\u001B[39meducation_level \u001B[38;5;241m-\u001B[39m \u001B[38;5;241m1\u001B[39m) \u001B[38;5;241m*\u001B[39m \u001B[38;5;241m0.05\u001B[39m\n\u001B[0;32m     92\u001B[0m     scaled_social_preference \u001B[38;5;241m=\u001B[39m \u001B[38;5;28mself\u001B[39m\u001B[38;5;241m.\u001B[39msocial_preference \u001B[38;5;241m*\u001B[39m \u001B[38;5;241m0.2\u001B[39m\n",
      "\u001B[1;31mAttributeError\u001B[0m: 'Households' object has no attribute 'house_size'"
     ]
    }
   ],
   "source": [
    "from model import AdaptationModel\n",
    "import matplotlib.pyplot as plt\n",
    "import networkx as nx\n",
    "\n",
    "# Initialize the Adaptation Model with 50 household agents.\n",
    "model = AdaptationModel(number_of_households=50, flood_map_choice=\"harvey\", network=\"watts_strogatz\") # flood_map_choice can be \"harvey\", \"100yr\", or \"500yr\"\n",
    "\n",
    "# Calculate positions of nodes for the network plot.\n",
    "# The spring_layout function positions nodes using a force-directed algorithm,\n",
    "# which helps visualize the structure of the social network.\n",
    "pos = nx.spring_layout(model.G)\n",
    "\n",
    "# Define a function to plot agents on the network.\n",
    "# This function takes a matplotlib axes object and the model as inputs.\n",
    "def plot_network(ax, model):\n",
    "    # Clear the current axes.\n",
    "    ax.clear()\n",
    "    # Determine the color of each node (agent) based on their adaptation status.\n",
    "    colors = ['blue' if agent.is_adapted else 'red' for agent in model.schedule.agents]\n",
    "    # Draw the network with node colors and labels.\n",
    "    nx.draw(model.G, pos, node_color=colors, with_labels=True, ax=ax)\n",
    "    # Set the title of the plot with the current step number.\n",
    "    ax.set_title(f\"Social Network State at Step {model.schedule.steps}\", fontsize=12)\n",
    "\n",
    "# Generate the initial plots at step 0.\n",
    "# Plot the spatial distribution of agents. This is a function written in the model.py\n",
    "model.plot_model_domain_with_agents()\n",
    "\n",
    "# Plot the initial state of the social network.\n",
    "fig, ax = plt.subplots(figsize=(7, 7))\n",
    "plot_network(ax, model)\n",
    "plt.show()\n",
    "\n",
    "# Run the model for 20 steps and generate plots every 5 steps.\n",
    "for step in range(20):\n",
    "    model.step()\n",
    "\n",
    "    # Every 5 steps, generate and display plots for both the spatial distribution and network.\n",
    "    # Note the first step is step 0, so the plots will be generated at steps 4, 9, 14, and 19, which are the 5th, 10th, 15th, and 20th steps.\n",
    "    if (step + 1) % 10 == 0:\n",
    "        # Plot for the spatial map showing agent locations and adaptation status.\n",
    "        plt.figure(figsize=(10, 6))\n",
    "        model.plot_model_domain_with_agents()\n",
    "\n",
    "        # Plot for the social network showing connections and adaptation statuses.\n",
    "        fig, ax = plt.subplots(figsize=(7, 7))\n",
    "        plot_network(ax, model)\n",
    "        plt.show()"
   ]
  },
  {
   "cell_type": "code",
   "execution_count": 4,
   "metadata": {
    "ExecuteTime": {
     "end_time": "2023-12-14T09:08:00.104135600Z",
     "start_time": "2023-12-14T09:08:00.019744600Z"
    }
   },
   "outputs": [
    {
     "name": "stdout",
     "output_type": "stream",
     "text": [
      "0 has an agent bias of -2.0, a estimated flood damage of 0.44 and is adapted is False\n",
      "\n",
      "1 has an agent bias of -1.0, a estimated flood damage of 0.481 and is adapted is False\n",
      "\n",
      "2 has an agent bias of -3.0, a estimated flood damage of 0.503 and is adapted is False\n",
      "\n",
      "3 has an agent bias of -2.0, a estimated flood damage of 0.524 and is adapted is False\n",
      "\n",
      "4 has an agent bias of -2.0, a estimated flood damage of 0.641 and is adapted is False\n",
      "\n",
      "5 has an agent bias of 1.0, a estimated flood damage of 0.564 and is adapted is True\n",
      "\n",
      "6 has an agent bias of -3.0, a estimated flood damage of 0.484 and is adapted is False\n",
      "\n",
      "7 has an agent bias of -1.3, a estimated flood damage of 0.888 and is adapted is True\n",
      "\n",
      "8 has an agent bias of -2.0, a estimated flood damage of 0.939 and is adapted is True\n",
      "\n",
      "9 has an agent bias of 0.0, a estimated flood damage of 0.426 and is adapted is False\n",
      "\n",
      "10 has an agent bias of -0.1, a estimated flood damage of 0 and is adapted is False\n",
      "\n",
      "11 has an agent bias of -1.1, a estimated flood damage of 0 and is adapted is False\n",
      "\n",
      "12 has an agent bias of 0, a estimated flood damage of 0.709 and is adapted is True\n",
      "\n",
      "13 has an agent bias of -2.0, a estimated flood damage of 0.86 and is adapted is True\n",
      "\n",
      "14 has an agent bias of 0.0, a estimated flood damage of 0.505 and is adapted is False\n",
      "\n",
      "15 has an agent bias of -2.0, a estimated flood damage of 0.611 and is adapted is False\n",
      "\n",
      "16 has an agent bias of -1.0, a estimated flood damage of 0.73 and is adapted is False\n",
      "\n",
      "17 has an agent bias of -3.0, a estimated flood damage of 0.571 and is adapted is False\n",
      "\n",
      "18 has an agent bias of -1.1, a estimated flood damage of 0.62 and is adapted is False\n",
      "\n",
      "19 has an agent bias of -3.0, a estimated flood damage of 0.726 and is adapted is False\n",
      "\n",
      "20 has an agent bias of -2.0, a estimated flood damage of 0.812 and is adapted is True\n",
      "\n",
      "21 has an agent bias of -1.1, a estimated flood damage of 0 and is adapted is False\n",
      "\n",
      "22 has an agent bias of -3.0, a estimated flood damage of 0 and is adapted is False\n",
      "\n",
      "23 has an agent bias of 0, a estimated flood damage of 0.623 and is adapted is False\n",
      "\n",
      "24 has an agent bias of 0.9, a estimated flood damage of 0.629 and is adapted is True\n",
      "\n",
      "25 has an agent bias of 1.0, a estimated flood damage of 0 and is adapted is True\n",
      "\n",
      "26 has an agent bias of -1.6, a estimated flood damage of 0.951 and is adapted is True\n",
      "\n",
      "27 has an agent bias of 0.0, a estimated flood damage of 0 and is adapted is False\n",
      "\n",
      "28 has an agent bias of -1.0, a estimated flood damage of 0 and is adapted is False\n",
      "\n",
      "29 has an agent bias of -0.1, a estimated flood damage of 0.476 and is adapted is False\n",
      "\n",
      "30 has an agent bias of 0, a estimated flood damage of 0.362 and is adapted is False\n",
      "\n",
      "31 has an agent bias of -1.0, a estimated flood damage of 0 and is adapted is False\n",
      "\n",
      "32 has an agent bias of -1.0, a estimated flood damage of 0.46 and is adapted is False\n",
      "\n",
      "33 has an agent bias of -3.0, a estimated flood damage of 0 and is adapted is False\n",
      "\n",
      "34 has an agent bias of -2.0, a estimated flood damage of 0.575 and is adapted is False\n",
      "\n",
      "35 has an agent bias of -1.0, a estimated flood damage of 0 and is adapted is False\n",
      "\n",
      "36 has an agent bias of -1.0, a estimated flood damage of 0.609 and is adapted is False\n",
      "\n",
      "37 has an agent bias of -1.0, a estimated flood damage of 0.654 and is adapted is False\n",
      "\n",
      "38 has an agent bias of -3.0, a estimated flood damage of 0.597 and is adapted is False\n",
      "\n",
      "39 has an agent bias of -4.0, a estimated flood damage of 0.685 and is adapted is False\n",
      "\n",
      "40 has an agent bias of -4.0, a estimated flood damage of 0.467 and is adapted is False\n",
      "\n",
      "41 has an agent bias of -3.1, a estimated flood damage of 0.417 and is adapted is False\n",
      "\n",
      "42 has an agent bias of -1.0, a estimated flood damage of 0.554 and is adapted is False\n",
      "\n",
      "43 has an agent bias of -2.0, a estimated flood damage of 0 and is adapted is False\n",
      "\n",
      "44 has an agent bias of -1.0, a estimated flood damage of 0 and is adapted is False\n",
      "\n",
      "45 has an agent bias of -2.0, a estimated flood damage of 0.571 and is adapted is False\n",
      "\n",
      "46 has an agent bias of -3.0, a estimated flood damage of 0.343 and is adapted is False\n",
      "\n",
      "47 has an agent bias of -2.0, a estimated flood damage of 0 and is adapted is False\n",
      "\n",
      "48 has an agent bias of -2.0, a estimated flood damage of 0 and is adapted is False\n",
      "\n",
      "49 has an agent bias of -2.0, a estimated flood damage of 0.426 and is adapted is False\n"
     ]
    }
   ],
   "source": [
    "agent_data = model.datacollector.get_agent_vars_dataframe()\n",
    "agent_data\n",
    "for agent in model.schedule.agents:\n",
    "    print(f'{agent.unique_id} has an agent bias of {round(agent.bias_network_adaption, 3)}, a estimated flood damage of {round(agent.flood_damage_estimated, 3)} and is adapted is {agent.is_adapted}\\n')"
   ]
  },
  {
   "cell_type": "code",
   "execution_count": 5,
   "metadata": {
    "ExecuteTime": {
     "end_time": "2023-12-14T09:08:07.123012200Z",
     "start_time": "2023-12-14T09:08:07.091578600Z"
    }
   },
   "outputs": [
    {
     "data": {
      "text/plain": "    total_adapted_households\n0                          0\n1                          6\n2                          6\n3                          7\n4                          8\n5                          8\n6                          8\n7                          8\n8                          8\n9                          8\n10                         8\n11                         8\n12                         8\n13                         8\n14                         9\n15                         9\n16                         9\n17                         9\n18                         9\n19                         9",
      "text/html": "<div>\n<style scoped>\n    .dataframe tbody tr th:only-of-type {\n        vertical-align: middle;\n    }\n\n    .dataframe tbody tr th {\n        vertical-align: top;\n    }\n\n    .dataframe thead th {\n        text-align: right;\n    }\n</style>\n<table border=\"1\" class=\"dataframe\">\n  <thead>\n    <tr style=\"text-align: right;\">\n      <th></th>\n      <th>total_adapted_households</th>\n    </tr>\n  </thead>\n  <tbody>\n    <tr>\n      <th>0</th>\n      <td>0</td>\n    </tr>\n    <tr>\n      <th>1</th>\n      <td>6</td>\n    </tr>\n    <tr>\n      <th>2</th>\n      <td>6</td>\n    </tr>\n    <tr>\n      <th>3</th>\n      <td>7</td>\n    </tr>\n    <tr>\n      <th>4</th>\n      <td>8</td>\n    </tr>\n    <tr>\n      <th>5</th>\n      <td>8</td>\n    </tr>\n    <tr>\n      <th>6</th>\n      <td>8</td>\n    </tr>\n    <tr>\n      <th>7</th>\n      <td>8</td>\n    </tr>\n    <tr>\n      <th>8</th>\n      <td>8</td>\n    </tr>\n    <tr>\n      <th>9</th>\n      <td>8</td>\n    </tr>\n    <tr>\n      <th>10</th>\n      <td>8</td>\n    </tr>\n    <tr>\n      <th>11</th>\n      <td>8</td>\n    </tr>\n    <tr>\n      <th>12</th>\n      <td>8</td>\n    </tr>\n    <tr>\n      <th>13</th>\n      <td>8</td>\n    </tr>\n    <tr>\n      <th>14</th>\n      <td>9</td>\n    </tr>\n    <tr>\n      <th>15</th>\n      <td>9</td>\n    </tr>\n    <tr>\n      <th>16</th>\n      <td>9</td>\n    </tr>\n    <tr>\n      <th>17</th>\n      <td>9</td>\n    </tr>\n    <tr>\n      <th>18</th>\n      <td>9</td>\n    </tr>\n    <tr>\n      <th>19</th>\n      <td>9</td>\n    </tr>\n  </tbody>\n</table>\n</div>"
     },
     "execution_count": 5,
     "metadata": {},
     "output_type": "execute_result"
    }
   ],
   "source": [
    "model_data = model.datacollector.get_model_vars_dataframe()\n",
    "model_data"
   ]
  },
  {
   "cell_type": "code",
   "execution_count": 5,
   "metadata": {
    "ExecuteTime": {
     "end_time": "2023-12-14T09:08:20.034266100Z",
     "start_time": "2023-12-14T09:08:20.006335300Z"
    }
   },
   "outputs": [],
   "source": []
  },
  {
   "cell_type": "code",
   "execution_count": null,
   "outputs": [],
   "source": [],
   "metadata": {
    "collapsed": false
   }
  }
 ],
 "metadata": {
  "kernelspec": {
   "display_name": "tb231c",
   "language": "python",
   "name": "python3"
  },
  "language_info": {
   "codemirror_mode": {
    "name": "ipython",
    "version": 3
   },
   "file_extension": ".py",
   "mimetype": "text/x-python",
   "name": "python",
   "nbconvert_exporter": "python",
   "pygments_lexer": "ipython3",
   "version": "3.9.15"
  },
  "orig_nbformat": 4,
  "vscode": {
   "interpreter": {
    "hash": "ba734c44879edc1aadd96d1483e3c8c4b172ceac85e15a48cc8368b614d0488f"
   }
  }
 },
 "nbformat": 4,
 "nbformat_minor": 2
}
