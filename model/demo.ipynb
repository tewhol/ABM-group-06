{
 "cells": [
  {
   "attachments": {},
   "cell_type": "markdown",
   "metadata": {},
   "source": [
    "# Flood Adaptation: Minimal Model"
   ]
  },
  {
   "attachments": {},
   "cell_type": "markdown",
   "metadata": {},
   "source": [
    "This python script outlines a basic Agent-Based Model (ABM) developed using the Mesa framework, designed as a simplified representation of household adaptation to flood events in a social network context. The model serves as a template for understanding the fundamental mechanics of flood adapdtation with a given social network.\n",
    "\n",
    "This directory is structured as follows:\n",
    " - A Mesa Agent class `Households` is defined in `agents.py`\n",
    " - A Mesa Agent class `Government` is defined in `agents.py` (this agent currently does not perform any action)\n",
    " - A Mesa Model class `AdaptationModel` is defined in `model.py`\n",
    " - This notebook `demo.ipynb` provides a demonstration of the model and its visualization.\n",
    "\n",
    "Each household agent in the model represents a household with attributes and behaviors that determine its response to flood events. The flood depth attribute assigned to each household is currently random for demonstration purposes. The decision by each household to adapt is also arbitrary. In a more comprehensive model, this could be replaced with more sophisticated decision-making algorithms.\n",
    "\n",
    "The current implementation includes several simplifications and arbitrary choices, such as random flood depths and basic adaptation logic based on random thresholds. These aspects are designed for clarity and ease of understanding and should be replaced with realistic and sound choices.\n",
    "\n",
    "You are encouraged to modify, expand, and customize the model. This might include integrating real-world data, implementing more complex decision-making processes for agents, or exploring different network topologies and their effects on social dynamics.\n",
    "\n",
    "The visualisation provided is basic. Additional aspects can be added for visualization and more in-depth analysis.\n",
    "\n",
    "_This notebook was tested on 2023-11-13 with Mesa version 2.1.4 on Python 3.12.0._"
   ]
  },
  {
   "attachments": {},
   "cell_type": "markdown",
   "metadata": {},
   "source": [
    "# Running the model and visualizing the model domain and social network over time"
   ]
  },
  {
   "cell_type": "code",
   "execution_count": 7,
   "metadata": {
    "ExecuteTime": {
     "end_time": "2024-01-20T15:49:44.928562400Z",
     "start_time": "2024-01-20T15:49:44.834183800Z"
    }
   },
   "outputs": [
    {
     "name": "stdout",
     "output_type": "stream",
     "text": [
      "step: 0 : 48 adapted with a bias of 0 and a estimated damage of 1!\n",
      "step: 0 : 46 adapted with a bias of 0.2 and a estimated damage of 0.8745141095373499!\n",
      "step: 1 : 17 adapted with a bias of 0.2 and a estimated damage of 0.773320138195071!\n",
      "step: 2 : 47 adapted with a bias of 0.4 and a estimated damage of 0.5647443863678607!\n",
      "step: 4 : 24 adapted with a bias of 0.6000000000000001 and a estimated damage of 0.36798412146820353!\n",
      "step: 5 : 20 adapted with a bias of 0.4 and a estimated damage of 0.5937378209671954!\n",
      "step: 6 : 15 adapted with a bias of 0.4 and a estimated damage of 0.7314657564032103!\n",
      "step: 8 : 12 adapted with a bias of 0.6000000000000001 and a estimated damage of 0.46371773404147637!\n",
      "step: 8 : 18 adapted with a bias of 1.0 and a estimated damage of 0!\n",
      "step: 9 : 21 adapted with a bias of 0.6000000000000001 and a estimated damage of 0.5013969737087738!\n",
      "step: 10 : 16 adapted with a bias of 0.6000000000000001 and a estimated damage of 0.5238556987887899!\n",
      "step: 10 : 32 adapted with a bias of 0.4 and a estimated damage of 0.700707561571779!\n",
      "step: 10 : 14 adapted with a bias of 0.0 and a estimated damage of 1!\n",
      "step: 11 : 19 adapted with a bias of 0.6000000000000001 and a estimated damage of 0.4188821746979956!\n",
      "step: 11 : 33 adapted with a bias of 0.4 and a estimated damage of 0.5576703752687241!\n",
      "step: 12 : 23 adapted with a bias of 0.4 and a estimated damage of 0.5871720366116377!\n",
      "step: 13 : 30 adapted with a bias of 0.4 and a estimated damage of 0.5552789893117507!\n",
      "step: 13 : 11 adapted with a bias of 0.6 and a estimated damage of 0.42274975187464703!\n",
      "step: 15 : 13 adapted with a bias of 1.2 and a estimated damage of 0!\n",
      "step: 15 : 34 adapted with a bias of 0.4 and a estimated damage of 0.5509217118613133!\n",
      "step: 16 : 36 adapted with a bias of 1.0 and a estimated damage of 0!\n",
      "step: 16 : 28 adapted with a bias of 0.6000000000000001 and a estimated damage of 0.4659624595222776!\n",
      "step: 16 : 43 adapted with a bias of 0.39999999999999997 and a estimated damage of 0.5206905249073389!\n",
      "step: 17 : 29 adapted with a bias of 0.4 and a estimated damage of 0.6904466273877286!\n",
      "step: 17 : 22 adapted with a bias of 1.0 and a estimated damage of 0!\n",
      "step: 17 : 9 adapted with a bias of 0.4 and a estimated damage of 0.6546638960082638!\n",
      "step: 19 : 35 adapted with a bias of 1.0 and a estimated damage of 0!\n",
      "step: 19 : 39 adapted with a bias of 0.6000000000000001 and a estimated damage of 0.4655171453818484!\n"
     ]
    }
   ],
   "source": [
    "import random\n",
    "\n",
    "from model import AdaptationModel\n",
    "import matplotlib.pyplot as plt\n",
    "import networkx as nx\n",
    "\n",
    "# Determine the input values for your network and dynamic parameters and how they should be distributed throughout the population.\n",
    "network_dynamics_dictionary = {\n",
    "                # The social network structure that is used. Can currently be\n",
    "                # \"erdos_renyi\", \"barabasi_albert\", \"watts_strogatz\", or \"no_network\"\n",
    "                \"network\": 'watts_strogatz',\n",
    "                \"number_of_households\": 50,  # number of household agents\n",
    "                \"probability_of_network_connection\": 0.4,  # likeliness of edge being created between two nodes\n",
    "                \"number_of_edges\": 3,  # number of edges for BA network\n",
    "                \"number_of_nearest_neighbours\": 5,  # number of nearest neighbours for WS social network\n",
    "                \"household_tolerance\": 0.1,  # the tolerance level for each agent,\n",
    "                \"flood_time_tick\": 5,  # time of flood\n",
    "                \"seed\": 1  # The seed used to generate pseudo random numbers\n",
    "            }\n",
    "\n",
    "# Determine the input values for your agent's attributes and how they should be distributed throughout the population.\n",
    "attribute_dictionary = {\n",
    "                \"wealth\": [0.2, 'UI', (0, 3)],\n",
    "                \"has_child\": [0.2, 'B', (0.2)],\n",
    "                \"house_size\": [0.05, 'UI', (0, 2)],\n",
    "                \"house_type\": [0.05, 'UI', (0, 1)],\n",
    "                \"education_level\": [0.05, 'UI', (0, 3)],\n",
    "                \"social_preference\": [0.2, 'U', (-1, 1)],\n",
    "                \"age\": [0.2, 'N', (33.4, 5)]\n",
    "            }\n",
    "\n",
    "# Defining the standard values for agent interaction dynamics in case none are provided.\n",
    "agent_interaction_dictionary = {\n",
    "                \"household_tolerance\": 0.3,  # the tolerance level for each agent\n",
    "                \"bias_change_per_tick\": 0.2,  # Bias change per tick when an agent when it's influenced by its network\n",
    "                \"probability_positive_bias_change\": 1,  # Probability that agent changes it's bias positively\n",
    "                \"probability_negative_bias_change\": 0.05,  # Probability that agent changes it's bias negatively\n",
    "                \"adaption_threshold\": 0.9  # Threshold of bias an agent needs to adapt\n",
    "            }\n",
    "\n",
    "# Initialize the Adaptation Model with 50 household agents.\n",
    "model = AdaptationModel(network_dynamics_dictionary=network_dynamics_dictionary, attribute_dictionary=attribute_dictionary, agent_interaction_dictionary= agent_interaction_dictionary)\n",
    "# flood_map_choice can be \"harvey\", \"100yr\", or \"500yr\"\n",
    "\n",
    "# Calculate positions of nodes for the network plot.\n",
    "# The spring_layout function positions nodes using a force-directed algorithm,\n",
    "# which helps visualize the structure of the social network.\n",
    "pos = nx.spring_layout(model.G)\n",
    "\n",
    "# Define a function to plot agents on the network.\n",
    "# This function takes a matplotlib axes object and the model as inputs.\n",
    "# def plot_network(ax, model):\n",
    "#     # Clear the current axes.\n",
    "#     ax.clear()\n",
    "#     # Determine the color of each node (agent) based on their adaptation status.\n",
    "#     colors = ['blue' if agent.is_adapted else 'red' for agent in model.schedule.agents]\n",
    "#     # Draw the network with node colors and labels.\n",
    "#     nx.draw(model.G, pos, node_color=colors, with_labels=True, ax=ax)\n",
    "#     # Set the title of the plot with the current step number.\n",
    "#     ax.set_title(f\"Social Network State at Step {model.schedule.steps}\", fontsize=12)\n",
    "\n",
    "# Generate the initial plots at step 0.\n",
    "# Plot the spatial distribution of agents. This is a function written in the model.py\n",
    "# model.plot_model_domain_with_agents()\n",
    "\n",
    "# Plot the initial state of the social network.\n",
    "# fig, ax = plt.subplots(figsize=(7, 7))\n",
    "# plot_network(ax, model)\n",
    "# plt.show()\n",
    "\n",
    "# Run the model for 20 steps and generate plots every 5 steps.\n",
    "for step in range(20):\n",
    "    model.step()\n",
    "# \n",
    "#     # Every 5 steps, generate and display plots for both the spatial distribution and network.\n",
    "#     # Note the first step is step 0, so the plots will be generated at steps 4, 9, 14, and 19, which are the 5th, 10th, 15th, and 20th steps.\n",
    "#     if (step + 1) % 10 == 0:\n",
    "#         # Plot for the spatial map showing agent locations and adaptation status.\n",
    "#         plt.figure(figsize=(10, 6))\n",
    "#         model.plot_model_domain_with_agents()\n",
    "# \n",
    "#         # Plot for the social network showing connections and adaptation statuses.\n",
    "#         fig, ax = plt.subplots(figsize=(7, 7))\n",
    "#         plot_network(ax, model)\n",
    "#         plt.show()"
   ]
  },
  {
   "cell_type": "code",
   "execution_count": 8,
   "metadata": {
    "ExecuteTime": {
     "end_time": "2024-01-20T15:49:52.292171Z",
     "start_time": "2024-01-20T15:49:52.260516Z"
    }
   },
   "outputs": [
    {
     "data": {
      "text/plain": "              FloodDepthEstimated  FloodDamageEstimated  FloodDepthActual  \\\nStep AgentID                                                                \n0    0                   1.347790              0.700412          0.000000   \n     1                   0.000000              0.000000          0.000000   \n     2                   1.033861              0.654114          0.000000   \n     3                   0.351196              0.465597          0.000000   \n     4                   0.388612              0.483273          0.000000   \n...                           ...                   ...               ...   \n19   45                  0.709928              0.588483          0.399958   \n     46                  3.653236              0.874514          2.254106   \n     47                  0.619678              0.564744          0.360417   \n     48                  6.056093              1.000000          5.771554   \n     49                  0.325191              0.452165          0.338022   \n\n              FloodDamageActual  IsAdapted  Conviction  FriendsCount  \\\nStep AgentID                                                           \n0    0                 0.000000      False    0.250012             3   \n     1                 0.000000      False    1.044338             6   \n     2                 0.000000      False    0.637695             2   \n     3                 0.000000      False    0.751191             4   \n     4                 0.000000      False    0.780823             6   \n...                         ...        ...         ...           ...   \n19   45                0.488297      False    0.812060             4   \n     46                0.790207       True    0.297888             3   \n     47                0.470122       True    0.200624             3   \n     48                0.954364       True    0.252936             4   \n     49                0.458921      False    0.801337             5   \n\n                                                   location  HasChild  \\\nStep AgentID                                                            \n0    0          POINT (254117.5603571438 3288733.129999726)     False   \n     1          POINT (263871.17004024953 3321642.01980434)      True   \n     2        POINT (255938.34721797943 3286527.2367757196)     False   \n     3         POINT (297678.1756341426 3316390.8907487495)     False   \n     4         POINT (281878.5634621643 3304715.4532533167)     False   \n...                                                     ...       ...   \n19   45        POINT (281809.68724098237 3308610.116752115)      True   \n     46       POINT (220913.75252614368 3320818.1096360395)     False   \n     47        POINT (254205.83231404723 3306961.547416474)     False   \n     48        POINT (301228.2738394685 3288822.2536344235)     False   \n     49       POINT (250496.24913282564 3317523.2076986386)     False   \n\n              AgentBias  \nStep AgentID             \n0    0              0.0  \n     1              0.0  \n     2              0.0  \n     3              0.0  \n     4              0.0  \n...                 ...  \n19   45             0.2  \n     46             3.8  \n     47             6.6  \n     48            10.2  \n     49            -0.2  \n\n[1000 rows x 10 columns]",
      "text/html": "<div>\n<style scoped>\n    .dataframe tbody tr th:only-of-type {\n        vertical-align: middle;\n    }\n\n    .dataframe tbody tr th {\n        vertical-align: top;\n    }\n\n    .dataframe thead th {\n        text-align: right;\n    }\n</style>\n<table border=\"1\" class=\"dataframe\">\n  <thead>\n    <tr style=\"text-align: right;\">\n      <th></th>\n      <th></th>\n      <th>FloodDepthEstimated</th>\n      <th>FloodDamageEstimated</th>\n      <th>FloodDepthActual</th>\n      <th>FloodDamageActual</th>\n      <th>IsAdapted</th>\n      <th>Conviction</th>\n      <th>FriendsCount</th>\n      <th>location</th>\n      <th>HasChild</th>\n      <th>AgentBias</th>\n    </tr>\n    <tr>\n      <th>Step</th>\n      <th>AgentID</th>\n      <th></th>\n      <th></th>\n      <th></th>\n      <th></th>\n      <th></th>\n      <th></th>\n      <th></th>\n      <th></th>\n      <th></th>\n      <th></th>\n    </tr>\n  </thead>\n  <tbody>\n    <tr>\n      <th rowspan=\"5\" valign=\"top\">0</th>\n      <th>0</th>\n      <td>1.347790</td>\n      <td>0.700412</td>\n      <td>0.000000</td>\n      <td>0.000000</td>\n      <td>False</td>\n      <td>0.250012</td>\n      <td>3</td>\n      <td>POINT (254117.5603571438 3288733.129999726)</td>\n      <td>False</td>\n      <td>0.0</td>\n    </tr>\n    <tr>\n      <th>1</th>\n      <td>0.000000</td>\n      <td>0.000000</td>\n      <td>0.000000</td>\n      <td>0.000000</td>\n      <td>False</td>\n      <td>1.044338</td>\n      <td>6</td>\n      <td>POINT (263871.17004024953 3321642.01980434)</td>\n      <td>True</td>\n      <td>0.0</td>\n    </tr>\n    <tr>\n      <th>2</th>\n      <td>1.033861</td>\n      <td>0.654114</td>\n      <td>0.000000</td>\n      <td>0.000000</td>\n      <td>False</td>\n      <td>0.637695</td>\n      <td>2</td>\n      <td>POINT (255938.34721797943 3286527.2367757196)</td>\n      <td>False</td>\n      <td>0.0</td>\n    </tr>\n    <tr>\n      <th>3</th>\n      <td>0.351196</td>\n      <td>0.465597</td>\n      <td>0.000000</td>\n      <td>0.000000</td>\n      <td>False</td>\n      <td>0.751191</td>\n      <td>4</td>\n      <td>POINT (297678.1756341426 3316390.8907487495)</td>\n      <td>False</td>\n      <td>0.0</td>\n    </tr>\n    <tr>\n      <th>4</th>\n      <td>0.388612</td>\n      <td>0.483273</td>\n      <td>0.000000</td>\n      <td>0.000000</td>\n      <td>False</td>\n      <td>0.780823</td>\n      <td>6</td>\n      <td>POINT (281878.5634621643 3304715.4532533167)</td>\n      <td>False</td>\n      <td>0.0</td>\n    </tr>\n    <tr>\n      <th>...</th>\n      <th>...</th>\n      <td>...</td>\n      <td>...</td>\n      <td>...</td>\n      <td>...</td>\n      <td>...</td>\n      <td>...</td>\n      <td>...</td>\n      <td>...</td>\n      <td>...</td>\n      <td>...</td>\n    </tr>\n    <tr>\n      <th rowspan=\"5\" valign=\"top\">19</th>\n      <th>45</th>\n      <td>0.709928</td>\n      <td>0.588483</td>\n      <td>0.399958</td>\n      <td>0.488297</td>\n      <td>False</td>\n      <td>0.812060</td>\n      <td>4</td>\n      <td>POINT (281809.68724098237 3308610.116752115)</td>\n      <td>True</td>\n      <td>0.2</td>\n    </tr>\n    <tr>\n      <th>46</th>\n      <td>3.653236</td>\n      <td>0.874514</td>\n      <td>2.254106</td>\n      <td>0.790207</td>\n      <td>True</td>\n      <td>0.297888</td>\n      <td>3</td>\n      <td>POINT (220913.75252614368 3320818.1096360395)</td>\n      <td>False</td>\n      <td>3.8</td>\n    </tr>\n    <tr>\n      <th>47</th>\n      <td>0.619678</td>\n      <td>0.564744</td>\n      <td>0.360417</td>\n      <td>0.470122</td>\n      <td>True</td>\n      <td>0.200624</td>\n      <td>3</td>\n      <td>POINT (254205.83231404723 3306961.547416474)</td>\n      <td>False</td>\n      <td>6.6</td>\n    </tr>\n    <tr>\n      <th>48</th>\n      <td>6.056093</td>\n      <td>1.000000</td>\n      <td>5.771554</td>\n      <td>0.954364</td>\n      <td>True</td>\n      <td>0.252936</td>\n      <td>4</td>\n      <td>POINT (301228.2738394685 3288822.2536344235)</td>\n      <td>False</td>\n      <td>10.2</td>\n    </tr>\n    <tr>\n      <th>49</th>\n      <td>0.325191</td>\n      <td>0.452165</td>\n      <td>0.338022</td>\n      <td>0.458921</td>\n      <td>False</td>\n      <td>0.801337</td>\n      <td>5</td>\n      <td>POINT (250496.24913282564 3317523.2076986386)</td>\n      <td>False</td>\n      <td>-0.2</td>\n    </tr>\n  </tbody>\n</table>\n<p>1000 rows × 10 columns</p>\n</div>"
     },
     "execution_count": 8,
     "metadata": {},
     "output_type": "execute_result"
    }
   ],
   "source": [
    "agent_data = model.datacollector.get_agent_vars_dataframe()\n",
    "len([i for i in model.schedule.agents if i.has_child])\n",
    "agent_data\n",
    "\n",
    "# for agent in model.schedule.agents:\n",
    "#     print(f'{agent.unique_id} has an agent bias of {round(agent.general_bias_in_network, 3)}, a estimated flood damage of {round(agent.flood_damage_estimated, 3)} and is adapted is {agent.is_adapted} and has conviction: {agent.conviction}\\n')\n",
    "#     \n",
    "# for agent in model.schedule.agents:\n",
    "#     print(f'{agent.unique_id} has an agent bias of {round(agent.general_bias_in_network, 3)}, a impacted bias because of flooding {round(agent.actual_flood_impact_on_bias, 3)}')\n",
    "\n",
    "    "
   ]
  },
  {
   "cell_type": "code",
   "execution_count": 5,
   "outputs": [
    {
     "data": {
      "text/plain": "0.027793895941159996"
     },
     "execution_count": 5,
     "metadata": {},
     "output_type": "execute_result"
    }
   ],
   "source": [
    "# sum([i.general_bias_in_network for i in model.schedule.agents])/len(model.schedule.agents)\n",
    "\n",
    "max([i.actual_flood_impact_on_bias for i in model.schedule.agents])"
   ],
   "metadata": {
    "collapsed": false,
    "ExecuteTime": {
     "end_time": "2024-01-19T16:56:30.756906800Z",
     "start_time": "2024-01-19T16:56:30.753856300Z"
    }
   }
  },
  {
   "cell_type": "code",
   "execution_count": 30,
   "metadata": {
    "ExecuteTime": {
     "end_time": "2024-01-18T17:24:40.810955500Z",
     "start_time": "2024-01-18T17:24:40.804294800Z"
    }
   },
   "outputs": [
    {
     "data": {
      "text/plain": "    total_adapted_households\n0                          0\n1                          9\n2                          9\n3                         10\n4                         11\n5                         11\n6                         11\n7                         12\n8                         12\n9                         12\n10                        12\n11                        12\n12                        13\n13                        13\n14                        13\n15                        13\n16                        13\n17                        13\n18                        13\n19                        13",
      "text/html": "<div>\n<style scoped>\n    .dataframe tbody tr th:only-of-type {\n        vertical-align: middle;\n    }\n\n    .dataframe tbody tr th {\n        vertical-align: top;\n    }\n\n    .dataframe thead th {\n        text-align: right;\n    }\n</style>\n<table border=\"1\" class=\"dataframe\">\n  <thead>\n    <tr style=\"text-align: right;\">\n      <th></th>\n      <th>total_adapted_households</th>\n    </tr>\n  </thead>\n  <tbody>\n    <tr>\n      <th>0</th>\n      <td>0</td>\n    </tr>\n    <tr>\n      <th>1</th>\n      <td>9</td>\n    </tr>\n    <tr>\n      <th>2</th>\n      <td>9</td>\n    </tr>\n    <tr>\n      <th>3</th>\n      <td>10</td>\n    </tr>\n    <tr>\n      <th>4</th>\n      <td>11</td>\n    </tr>\n    <tr>\n      <th>5</th>\n      <td>11</td>\n    </tr>\n    <tr>\n      <th>6</th>\n      <td>11</td>\n    </tr>\n    <tr>\n      <th>7</th>\n      <td>12</td>\n    </tr>\n    <tr>\n      <th>8</th>\n      <td>12</td>\n    </tr>\n    <tr>\n      <th>9</th>\n      <td>12</td>\n    </tr>\n    <tr>\n      <th>10</th>\n      <td>12</td>\n    </tr>\n    <tr>\n      <th>11</th>\n      <td>12</td>\n    </tr>\n    <tr>\n      <th>12</th>\n      <td>13</td>\n    </tr>\n    <tr>\n      <th>13</th>\n      <td>13</td>\n    </tr>\n    <tr>\n      <th>14</th>\n      <td>13</td>\n    </tr>\n    <tr>\n      <th>15</th>\n      <td>13</td>\n    </tr>\n    <tr>\n      <th>16</th>\n      <td>13</td>\n    </tr>\n    <tr>\n      <th>17</th>\n      <td>13</td>\n    </tr>\n    <tr>\n      <th>18</th>\n      <td>13</td>\n    </tr>\n    <tr>\n      <th>19</th>\n      <td>13</td>\n    </tr>\n  </tbody>\n</table>\n</div>"
     },
     "execution_count": 30,
     "metadata": {},
     "output_type": "execute_result"
    }
   ],
   "source": [
    "model_data = model.datacollector.get_model_vars_dataframe()\n",
    "model_data"
   ]
  }
 ],
 "metadata": {
  "kernelspec": {
   "display_name": "tb231c",
   "language": "python",
   "name": "python3"
  },
  "language_info": {
   "codemirror_mode": {
    "name": "ipython",
    "version": 3
   },
   "file_extension": ".py",
   "mimetype": "text/x-python",
   "name": "python",
   "nbconvert_exporter": "python",
   "pygments_lexer": "ipython3",
   "version": "3.9.15"
  },
  "orig_nbformat": 4,
  "vscode": {
   "interpreter": {
    "hash": "ba734c44879edc1aadd96d1483e3c8c4b172ceac85e15a48cc8368b614d0488f"
   }
  }
 },
 "nbformat": 4,
 "nbformat_minor": 2
}
