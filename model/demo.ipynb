{
 "cells": [
  {
   "attachments": {},
   "cell_type": "markdown",
   "metadata": {},
   "source": [
    "# Flood Adaptation: Minimal Model"
   ]
  },
  {
   "attachments": {},
   "cell_type": "markdown",
   "metadata": {},
   "source": [
    "This python script outlines a basic Agent-Based Model (ABM) developed using the Mesa framework, designed as a simplified representation of household adaptation to flood events in a social network context. The model serves as a template for understanding the fundamental mechanics of flood adapdtation with a given social network.\n",
    "\n",
    "This directory is structured as follows:\n",
    " - A Mesa Agent class `Households` is defined in `agents.py`\n",
    " - A Mesa Agent class `Government` is defined in `agents.py` (this agent currently does not perform any action)\n",
    " - A Mesa Model class `AdaptationModel` is defined in `model.py`\n",
    " - This notebook `demo.ipynb` provides a demonstration of the model and its visualization.\n",
    "\n",
    "Each household agent in the model represents a household with attributes and behaviors that determine its response to flood events. The flood depth attribute assigned to each household is currently random for demonstration purposes. The decision by each household to adapt is also arbitrary. In a more comprehensive model, this could be replaced with more sophisticated decision-making algorithms.\n",
    "\n",
    "The current implementation includes several simplifications and arbitrary choices, such as random flood depths and basic adaptation logic based on random thresholds. These aspects are designed for clarity and ease of understanding and should be replaced with realistic and sound choices.\n",
    "\n",
    "You are encouraged to modify, expand, and customize the model. This might include integrating real-world data, implementing more complex decision-making processes for agents, or exploring different network topologies and their effects on social dynamics.\n",
    "\n",
    "The visualisation provided is basic. Additional aspects can be added for visualization and more in-depth analysis.\n",
    "\n",
    "_This notebook was tested on 2023-11-13 with Mesa version 2.1.4 on Python 3.12.0._"
   ]
  },
  {
   "attachments": {},
   "cell_type": "markdown",
   "metadata": {},
   "source": [
    "# Running the model and visualizing the model domain and social network over time"
   ]
  },
  {
   "cell_type": "code",
   "execution_count": 10,
   "metadata": {
    "ExecuteTime": {
     "end_time": "2024-01-17T12:07:25.515536600Z",
     "start_time": "2024-01-17T12:07:25.464410600Z"
    }
   },
   "outputs": [
    {
     "name": "stdout",
     "output_type": "stream",
     "text": [
      "step: 0 : 37 adapted with a bias of 0 and a estimated damage of 0.7018325707712374!\n",
      "step: 0 : 19 adapted with a bias of 0 and a estimated damage of 0.7108222905005993!\n",
      "step: 0 : 25 adapted with a bias of 0 and a estimated damage of 0.8356921895991052!\n",
      "step: 0 : 10 adapted with a bias of 0 and a estimated damage of 0.8660821445260038!\n",
      "step: 0 : 39 adapted with a bias of 0 and a estimated damage of 0.8431420734653909!\n",
      "step: 0 : 36 adapted with a bias of 0 and a estimated damage of 0.9531302775894975!\n",
      "step: 0 : 15 adapted with a bias of 0 and a estimated damage of 0.9389496042467684!\n",
      "step: 0 : 47 adapted with a bias of 0 and a estimated damage of 0.7472959105361854!\n",
      "step: 0 : 29 adapted with a bias of 0 and a estimated damage of 0.7183682646318632!\n",
      "step: 0 : 24 adapted with a bias of 0 and a estimated damage of 0.9497012974822063!\n",
      "step: 0 : 9 adapted with a bias of 0 and a estimated damage of 0.7576690492076122!\n",
      "step: 1 : 38 adapted with a bias of 0.2 and a estimated damage of 0.54405904638772!\n",
      "step: 9 : 11 adapted with a bias of 0.8 and a estimated damage of 0!\n",
      "step: 12 : 44 adapted with a bias of 0.4 and a estimated damage of 0.3755609887933867!\n"
     ]
    }
   ],
   "source": [
    "import random\n",
    "\n",
    "from model import AdaptationModel\n",
    "import matplotlib.pyplot as plt\n",
    "import networkx as nx\n",
    "\n",
    "# Initialize the Adaptation Model with 50 household agents.\n",
    "model = AdaptationModel(number_of_households=50, flood_map_choice=\"harvey\", network=\"watts_strogatz\") # flood_map_choice can be \"harvey\", \"100yr\", or \"500yr\"\n",
    "\n",
    "# Calculate positions of nodes for the network plot.\n",
    "# The spring_layout function positions nodes using a force-directed algorithm,\n",
    "# which helps visualize the structure of the social network.\n",
    "pos = nx.spring_layout(model.G)\n",
    "\n",
    "# Define a function to plot agents on the network.\n",
    "# This function takes a matplotlib axes object and the model as inputs.\n",
    "# def plot_network(ax, model):\n",
    "#     # Clear the current axes.\n",
    "#     ax.clear()\n",
    "#     # Determine the color of each node (agent) based on their adaptation status.\n",
    "#     colors = ['blue' if agent.is_adapted else 'red' for agent in model.schedule.agents]\n",
    "#     # Draw the network with node colors and labels.\n",
    "#     nx.draw(model.G, pos, node_color=colors, with_labels=True, ax=ax)\n",
    "#     # Set the title of the plot with the current step number.\n",
    "#     ax.set_title(f\"Social Network State at Step {model.schedule.steps}\", fontsize=12)\n",
    "\n",
    "# Generate the initial plots at step 0.\n",
    "# Plot the spatial distribution of agents. This is a function written in the model.py\n",
    "# model.plot_model_domain_with_agents()\n",
    "\n",
    "# Plot the initial state of the social network.\n",
    "# fig, ax = plt.subplots(figsize=(7, 7))\n",
    "# plot_network(ax, model)\n",
    "# plt.show()\n",
    "\n",
    "# Run the model for 20 steps and generate plots every 5 steps.\n",
    "for step in range(20):\n",
    "    model.step()\n",
    "# \n",
    "#     # Every 5 steps, generate and display plots for both the spatial distribution and network.\n",
    "#     # Note the first step is step 0, so the plots will be generated at steps 4, 9, 14, and 19, which are the 5th, 10th, 15th, and 20th steps.\n",
    "#     if (step + 1) % 10 == 0:\n",
    "#         # Plot for the spatial map showing agent locations and adaptation status.\n",
    "#         plt.figure(figsize=(10, 6))\n",
    "#         model.plot_model_domain_with_agents()\n",
    "# \n",
    "#         # Plot for the social network showing connections and adaptation statuses.\n",
    "#         fig, ax = plt.subplots(figsize=(7, 7))\n",
    "#         plot_network(ax, model)\n",
    "#         plt.show()"
   ]
  },
  {
   "cell_type": "code",
   "execution_count": 11,
   "metadata": {
    "ExecuteTime": {
     "end_time": "2024-01-17T12:07:30.936095400Z",
     "start_time": "2024-01-17T12:07:30.908371500Z"
    }
   },
   "outputs": [
    {
     "name": "stdout",
     "output_type": "stream",
     "text": [
      "0 has an agent bias of -0.2, a impacted bias because of flooding -0.104\n",
      "1 has an agent bias of -0.2, a impacted bias because of flooding -0.083\n",
      "2 has an agent bias of -0.4, a impacted bias because of flooding -0.042\n",
      "3 has an agent bias of 0, a impacted bias because of flooding 0\n",
      "4 has an agent bias of 0, a impacted bias because of flooding -0.065\n",
      "5 has an agent bias of 0, a impacted bias because of flooding 0.023\n",
      "6 has an agent bias of 0, a impacted bias because of flooding -0.106\n",
      "7 has an agent bias of 0, a impacted bias because of flooding -0.103\n",
      "8 has an agent bias of 0, a impacted bias because of flooding 0.023\n",
      "9 has an agent bias of 3.6, a impacted bias because of flooding -0.04\n",
      "10 has an agent bias of 0, a impacted bias because of flooding -0.057\n",
      "11 has an agent bias of 1.4, a impacted bias because of flooding 0\n",
      "12 has an agent bias of 0, a impacted bias because of flooding -0.099\n",
      "13 has an agent bias of 0, a impacted bias because of flooding 0\n",
      "14 has an agent bias of 0, a impacted bias because of flooding -0.11\n",
      "15 has an agent bias of 0, a impacted bias because of flooding 0.061\n",
      "16 has an agent bias of 0, a impacted bias because of flooding 0\n",
      "17 has an agent bias of 0, a impacted bias because of flooding 0\n",
      "18 has an agent bias of 0, a impacted bias because of flooding -0.001\n",
      "19 has an agent bias of 0, a impacted bias because of flooding -0.016\n",
      "20 has an agent bias of 0, a impacted bias because of flooding -0.115\n",
      "21 has an agent bias of 0, a impacted bias because of flooding -0.01\n",
      "22 has an agent bias of 0, a impacted bias because of flooding 0\n",
      "23 has an agent bias of 0, a impacted bias because of flooding -0.05\n",
      "24 has an agent bias of 0, a impacted bias because of flooding -0.084\n",
      "25 has an agent bias of 0, a impacted bias because of flooding -0.07\n",
      "26 has an agent bias of 0, a impacted bias because of flooding 0.028\n",
      "27 has an agent bias of 0, a impacted bias because of flooding 0\n",
      "28 has an agent bias of 0, a impacted bias because of flooding 0\n",
      "29 has an agent bias of 0, a impacted bias because of flooding -0.011\n",
      "30 has an agent bias of -0.6, a impacted bias because of flooding -0.003\n",
      "31 has an agent bias of 0, a impacted bias because of flooding 0\n",
      "32 has an agent bias of 0, a impacted bias because of flooding -0.096\n",
      "33 has an agent bias of 0, a impacted bias because of flooding 0\n",
      "34 has an agent bias of 0, a impacted bias because of flooding -0.049\n",
      "35 has an agent bias of 0, a impacted bias because of flooding 0.003\n",
      "36 has an agent bias of 0, a impacted bias because of flooding -0.114\n",
      "37 has an agent bias of 0, a impacted bias because of flooding -0.064\n",
      "38 has an agent bias of 2.2, a impacted bias because of flooding -0.101\n",
      "39 has an agent bias of 0, a impacted bias because of flooding 0.025\n",
      "40 has an agent bias of -0.4, a impacted bias because of flooding 0\n",
      "41 has an agent bias of -0.8, a impacted bias because of flooding 0\n",
      "42 has an agent bias of 0, a impacted bias because of flooding -0.074\n",
      "43 has an agent bias of 0, a impacted bias because of flooding 0\n",
      "44 has an agent bias of 0.8, a impacted bias because of flooding 0.028\n",
      "45 has an agent bias of 0, a impacted bias because of flooding -0.043\n",
      "46 has an agent bias of -0.4, a impacted bias because of flooding -0.08\n",
      "47 has an agent bias of 0, a impacted bias because of flooding -0.096\n",
      "48 has an agent bias of -0.8, a impacted bias because of flooding 0\n",
      "49 has an agent bias of 0, a impacted bias because of flooding -0.06\n"
     ]
    }
   ],
   "source": [
    "agent_data = model.datacollector.get_agent_vars_dataframe()\n",
    "# for agent in model.schedule.agents:\n",
    "#     print(f'{agent.unique_id} has an agent bias of {round(agent.general_bias_in_network, 3)}, a estimated flood damage of {round(agent.flood_damage_estimated, 3)} and is adapted is {agent.is_adapted} and has conviction: {agent.conviction}\\n')\n",
    "    \n",
    "for agent in model.schedule.agents:\n",
    "    print(f'{agent.unique_id} has an agent bias of {round(agent.general_bias_in_network, 3)}, a impacted bias because of flooding {round(agent.actual_flood_impact_on_bias, 3)}')\n",
    "\n",
    "    "
   ]
  },
  {
   "cell_type": "code",
   "execution_count": 8,
   "outputs": [
    {
     "data": {
      "text/plain": "-0.015448168406924406"
     },
     "execution_count": 8,
     "metadata": {},
     "output_type": "execute_result"
    }
   ],
   "source": [
    "# sum([i.general_bias_in_network for i in model.schedule.agents])/len(model.schedule.agents)\n",
    "\n",
    "sum([i.actual_flood_impact_on_bias for i in model.schedule.agents])/len(model.schedule.agents)"
   ],
   "metadata": {
    "collapsed": false,
    "ExecuteTime": {
     "end_time": "2024-01-17T12:06:39.902370100Z",
     "start_time": "2024-01-17T12:06:39.874239500Z"
    }
   }
  },
  {
   "cell_type": "code",
   "execution_count": 4,
   "metadata": {
    "ExecuteTime": {
     "end_time": "2024-01-17T12:03:57.064318Z",
     "start_time": "2024-01-17T12:03:57.014192300Z"
    }
   },
   "outputs": [
    {
     "data": {
      "text/plain": "    total_adapted_households\n0                          0\n1                         12\n2                         12\n3                         13\n4                         13\n5                         14\n6                         14\n7                         15\n8                         15\n9                         15\n10                        15\n11                        15\n12                        15\n13                        15\n14                        15\n15                        15\n16                        15\n17                        15\n18                        15\n19                        15",
      "text/html": "<div>\n<style scoped>\n    .dataframe tbody tr th:only-of-type {\n        vertical-align: middle;\n    }\n\n    .dataframe tbody tr th {\n        vertical-align: top;\n    }\n\n    .dataframe thead th {\n        text-align: right;\n    }\n</style>\n<table border=\"1\" class=\"dataframe\">\n  <thead>\n    <tr style=\"text-align: right;\">\n      <th></th>\n      <th>total_adapted_households</th>\n    </tr>\n  </thead>\n  <tbody>\n    <tr>\n      <th>0</th>\n      <td>0</td>\n    </tr>\n    <tr>\n      <th>1</th>\n      <td>12</td>\n    </tr>\n    <tr>\n      <th>2</th>\n      <td>12</td>\n    </tr>\n    <tr>\n      <th>3</th>\n      <td>13</td>\n    </tr>\n    <tr>\n      <th>4</th>\n      <td>13</td>\n    </tr>\n    <tr>\n      <th>5</th>\n      <td>14</td>\n    </tr>\n    <tr>\n      <th>6</th>\n      <td>14</td>\n    </tr>\n    <tr>\n      <th>7</th>\n      <td>15</td>\n    </tr>\n    <tr>\n      <th>8</th>\n      <td>15</td>\n    </tr>\n    <tr>\n      <th>9</th>\n      <td>15</td>\n    </tr>\n    <tr>\n      <th>10</th>\n      <td>15</td>\n    </tr>\n    <tr>\n      <th>11</th>\n      <td>15</td>\n    </tr>\n    <tr>\n      <th>12</th>\n      <td>15</td>\n    </tr>\n    <tr>\n      <th>13</th>\n      <td>15</td>\n    </tr>\n    <tr>\n      <th>14</th>\n      <td>15</td>\n    </tr>\n    <tr>\n      <th>15</th>\n      <td>15</td>\n    </tr>\n    <tr>\n      <th>16</th>\n      <td>15</td>\n    </tr>\n    <tr>\n      <th>17</th>\n      <td>15</td>\n    </tr>\n    <tr>\n      <th>18</th>\n      <td>15</td>\n    </tr>\n    <tr>\n      <th>19</th>\n      <td>15</td>\n    </tr>\n  </tbody>\n</table>\n</div>"
     },
     "execution_count": 4,
     "metadata": {},
     "output_type": "execute_result"
    }
   ],
   "source": [
    "model_data = model.datacollector.get_model_vars_dataframe()\n",
    "model_data"
   ]
  },
  {
   "cell_type": "code",
   "execution_count": 4,
   "metadata": {
    "ExecuteTime": {
     "end_time": "2024-01-17T12:03:57.064318Z",
     "start_time": "2024-01-17T12:03:57.025357600Z"
    }
   },
   "outputs": [],
   "source": []
  },
  {
   "cell_type": "code",
   "execution_count": 4,
   "outputs": [],
   "source": [],
   "metadata": {
    "collapsed": false,
    "ExecuteTime": {
     "end_time": "2024-01-17T12:03:57.064318Z",
     "start_time": "2024-01-17T12:03:57.030584900Z"
    }
   }
  },
  {
   "cell_type": "code",
   "execution_count": 14,
   "outputs": [
    {
     "name": "stdout",
     "output_type": "stream",
     "text": [
      "UI, (1, 4)\n",
      "B, 0.2\n",
      "UI, (1, 4)\n",
      "UI, (1, 4)\n",
      "U, (-1, 1)\n",
      "UI, (1, 4)\n"
     ]
    }
   ],
   "source": [
    "import numpy as np\n",
    "import random\n",
    "\n",
    "def distribution():\n",
    "    attribute_dictionary = {\n",
    "                           \"wealth\" : [0.2, 'UI', (1, 4)],\n",
    "                           \"child\" : [0.2,  'B', (0.2)],\n",
    "                           \"house\": [0.05, 'UI', (1, 4)],\n",
    "                           \"education\": [0.05, 'UI', (1, 4)],\n",
    "                           \"social\": [0.2, 'U', (-1, 1)],\n",
    "                           \"age\": [0.2, 'UI', (1, 4)],\n",
    "                           }\n",
    "\n",
    "    for i in attribute_dictionary:\n",
    "        dist_type, dist_values = attribute_dictionary[i][1], attribute_dictionary[i][2]\n",
    "        if dist_type == 'UI':\n",
    "            return random.randint(dist_values[0], dist_values[1]) # The values representing the lower and upper bound, returns integer\n",
    "        elif dist_type == 'B':\n",
    "            return random.random() < dist_values \n",
    "        elif dist_type == 'U':\n",
    "            return random.uniform(dist_values[0], dist_values[1]) # The values representing the lower and upper bound\n",
    "        elif dist_type == 'N':\n",
    "            return np.random.normal(dist_values[0], dist_values[1]) # # The values representing the mean and deviation\n",
    "        elif dist_type == 'T':\n",
    "            return random.triangular(dist_values[0], dist_values[1], dist_values[2]) # The values representing the lower and upper bound and the mode\n",
    "        elif dist_type == 'E':\n",
    "            return random.expovariate(dist_values) # Represents the lambda for an exponential distribution\n",
    "        else:\n",
    "            print(f'{attribute_dictionary[i]} of household ... has improper distribution values!')\n",
    "    \n",
    "\n",
    "    \n",
    "    \n",
    "# self.wealth = random.randint(1, 4)  # 1 is low-income, 2 below average, 3 above average, 4 rich\n",
    "# self.house_type = random.randint(1, 2)  # 1 is apartment in a block, and 2 is freestanding house\n",
    "# self.house_size = random.randint(1, 4)  # simulating different type of sizes each house has\n",
    "# self.has_child = False  # True of false about having child\n",
    "# self.age = max(0, int(np.random.normal(33.7, 5)))  # Where 33.4 is the mean_age and 5 the standard deviation\n",
    "# self.social_preference = random.uniform(-1, 1)  # introvert -1 and extrovert is 1\n",
    "# self.education_level = random.randint(1, 4)  # 1 low-level -  4 high level education"
   ],
   "metadata": {
    "collapsed": false,
    "ExecuteTime": {
     "end_time": "2024-01-18T15:15:59.658003400Z",
     "start_time": "2024-01-18T15:15:59.649002700Z"
    }
   }
  },
  {
   "cell_type": "code",
   "execution_count": null,
   "outputs": [],
   "source": [],
   "metadata": {
    "collapsed": false
   }
  }
 ],
 "metadata": {
  "kernelspec": {
   "display_name": "tb231c",
   "language": "python",
   "name": "python3"
  },
  "language_info": {
   "codemirror_mode": {
    "name": "ipython",
    "version": 3
   },
   "file_extension": ".py",
   "mimetype": "text/x-python",
   "name": "python",
   "nbconvert_exporter": "python",
   "pygments_lexer": "ipython3",
   "version": "3.9.15"
  },
  "orig_nbformat": 4,
  "vscode": {
   "interpreter": {
    "hash": "ba734c44879edc1aadd96d1483e3c8c4b172ceac85e15a48cc8368b614d0488f"
   }
  }
 },
 "nbformat": 4,
 "nbformat_minor": 2
}
